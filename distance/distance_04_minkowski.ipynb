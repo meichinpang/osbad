{
 "cells": [
  {
   "cell_type": "markdown",
   "id": "6b51c67e",
   "metadata": {},
   "source": [
    "## Import Libraries"
   ]
  },
  {
   "cell_type": "code",
   "execution_count": 1,
   "id": "829068a2",
   "metadata": {},
   "outputs": [],
   "source": [
    "%load_ext autoreload\n",
    "%autoreload 2\n",
    "\n",
    "# Standard libraries\n",
    "from pathlib import Path\n",
    "import pprint\n",
    "\n",
    "# Third-party libraries\n",
    "import duckdb\n",
    "import fireducks.pandas as pd\n",
    "import numpy as np\n",
    "\n",
    "import matplotlib as mpl\n",
    "import matplotlib.pyplot as plt\n",
    "import numpy as np\n",
    "from matplotlib import cm\n",
    "from matplotlib import rcParams\n",
    "from matplotlib.lines import Line2D\n",
    "\n",
    "rcParams[\"text.usetex\"] = True\n",
    "\n",
    "# Custom osbad library for anomaly detection\n",
    "import osbad.config as bconf\n",
    "import osbad.modval as modval\n",
    "import osbad.viz as bviz\n",
    "from osbad.database import BenchDB\n",
    "from osbad.model import ModelRunner\n",
    "\n",
    "# importing distance based anomaly detection utilities\n",
    "from osbad import dbad"
   ]
  },
  {
   "cell_type": "markdown",
   "id": "f80f5df0",
   "metadata": {},
   "source": [
    "## Import Dataset"
   ]
  },
  {
   "cell_type": "markdown",
   "id": "6d40d220",
   "metadata": {},
   "source": [
    "### Define Filepath"
   ]
  },
  {
   "cell_type": "code",
   "execution_count": 2,
   "id": "f2c3a79b",
   "metadata": {},
   "outputs": [],
   "source": [
    "# Define a global variable to save fig output\n",
    "# The definition of PIPELINE_OUTPUT_DIR can be\n",
    "# found in config.py\n",
    "PIPELINE_OUTPUT_DIR = bconf.PIPELINE_OUTPUT_DIR"
   ]
  },
  {
   "cell_type": "code",
   "execution_count": 3,
   "id": "9dde8dd0",
   "metadata": {},
   "outputs": [],
   "source": [
    "# Load only the training dataset\n",
    "db_filepath = str(\n",
    "    Path.cwd()\n",
    "    .parent\n",
    "    .joinpath(\"database\",\"train_dataset_severson.db\"))"
   ]
  },
  {
   "cell_type": "markdown",
   "id": "c01d3b3e",
   "metadata": {},
   "source": [
    "### Get cell inventory of training dataset"
   ]
  },
  {
   "cell_type": "code",
   "execution_count": 4,
   "id": "70bcd60b",
   "metadata": {},
   "outputs": [
    {
     "data": {
      "application/vnd.jupyter.widget-view+json": {
       "model_id": "518f665be7ce4b3e991e734810fd23ef",
       "version_major": 2,
       "version_minor": 0
      },
      "text/plain": [
       "FloatProgress(value=0.0, layout=Layout(width='auto'), style=ProgressStyle(bar_color='black'))"
      ]
     },
     "metadata": {},
     "output_type": "display_data"
    },
    {
     "name": "stdout",
     "output_type": "stream",
     "text": [
      "['2017-05-12_5_4C-50per_3C_CH13' '2017-05-12_5_4C-50per_3C_CH14'\n",
      " '2017-05-12_5_4C-60per_3C_CH15' '2017-05-12_5_4C-60per_3C_CH16'\n",
      " '2017-05-12_5_4C-70per_3C_CH17' '2017-05-12_5_4C-70per_3C_CH18'\n",
      " '2017-05-12_6C-40per_3C_CH25' '2017-05-12_6C-40per_3C_CH26'\n",
      " '2017-05-12_6C-50per_3C_CH27' '2017-05-12_6C-50per_3C_CH28'\n",
      " '2017-05-12_6C-60per_3C_CH29' '2017-05-12_6C-60per_3C_CH30'\n",
      " '2017-05-12_7C-40per_3C_CH37' '2017-05-12_7C-40per_3C_CH38'\n",
      " '2017-05-12_4C-80per_4C_CH5' '2017-05-12_4C-80per_4C_CH6'\n",
      " '2017-05-12_4_4C-80per_4_4C_CH7' '2017-05-12_5_4C-80per_5_4C_CH11'\n",
      " '2017-05-12_5_4C-80per_5_4C_CH12' '2017-05-12_3_6C-80per_3_6C_CH1'\n",
      " '2017-05-12_3_6C-80per_3_6C_CH2' '2017-05-12_3_6C-80per_3_6C_CH3'\n",
      " '2017-05-12_5_4C-40per_3_6C_CH19']\n"
     ]
    }
   ],
   "source": [
    "# Create a DuckDB connection\n",
    "con = duckdb.connect(\n",
    "    db_filepath,\n",
    "    read_only=True)\n",
    "\n",
    "# Load all training dataset from duckdb\n",
    "df_duckdb = con.execute(\n",
    "    \"SELECT * FROM df_train_dataset_sv\").fetchdf()\n",
    "\n",
    "unique_cell_index_train = df_duckdb[\"cell_index\"].unique()\n",
    "print(unique_cell_index_train)"
   ]
  },
  {
   "cell_type": "code",
   "execution_count": 5,
   "id": "a6c89583",
   "metadata": {},
   "outputs": [
    {
     "name": "stdout",
     "output_type": "stream",
     "text": [
      "Training cell count: 23\n"
     ]
    }
   ],
   "source": [
    "training_cell_count = len(unique_cell_index_train)\n",
    "print(f\"Training cell count: {training_cell_count}\")"
   ]
  },
  {
   "cell_type": "markdown",
   "id": "8d56e837",
   "metadata": {},
   "source": [
    "### Select a cell label"
   ]
  },
  {
   "cell_type": "code",
   "execution_count": 6,
   "id": "9f352280",
   "metadata": {},
   "outputs": [],
   "source": [
    "# Get the cell-ID from cell_inventory\n",
    "selected_cell_label = \"2017-05-12_5_4C-70per_3C_CH17\"\n",
    "\n",
    "# Create a subfolder to store fig output \n",
    "# corresponding to each cell-index\n",
    "selected_cell_artifacts =  PIPELINE_OUTPUT_DIR.joinpath(\n",
    "    selected_cell_label)"
   ]
  },
  {
   "cell_type": "markdown",
   "id": "7f509911",
   "metadata": {},
   "source": [
    "### Load benchmarking dataset and drop labels"
   ]
  },
  {
   "cell_type": "code",
   "execution_count": 7,
   "id": "81d1f7ab",
   "metadata": {},
   "outputs": [
    {
     "name": "stdout",
     "output_type": "stream",
     "text": [
      "Database is found in the given filepath.\n",
      "Loading benchmarking dataset now...\n"
     ]
    },
    {
     "data": {
      "application/vnd.jupyter.widget-view+json": {
       "model_id": "171b31358237405d90f0bb43b47dfa85",
       "version_major": 2,
       "version_minor": 0
      },
      "text/plain": [
       "FloatProgress(value=0.0, layout=Layout(width='auto'), style=ProgressStyle(bar_color='black'))"
      ]
     },
     "metadata": {},
     "output_type": "display_data"
    },
    {
     "name": "stdout",
     "output_type": "stream",
     "text": [
      "****************************************************************************************************\n",
      "|    | cell_index                    |   cycle_index |   discharge_capacity |   voltage |\n",
      "|---:|:------------------------------|--------------:|---------------------:|----------:|\n",
      "|  0 | 2017-05-12_5_4C-70per_3C_CH17 |             0 |          1.26512e-05 |   3.29189 |\n",
      "|  1 | 2017-05-12_5_4C-70per_3C_CH17 |             0 |          0.00136774  |   3.28185 |\n",
      "|  2 | 2017-05-12_5_4C-70per_3C_CH17 |             0 |          0.00292998  |   3.27788 |\n",
      "|  3 | 2017-05-12_5_4C-70per_3C_CH17 |             0 |          0.00449361  |   3.27513 |\n",
      "|  4 | 2017-05-12_5_4C-70per_3C_CH17 |             0 |          0.00449361  |   3.27513 |\n",
      "|  5 | 2017-05-12_5_4C-70per_3C_CH17 |             0 |          0.00605927  |   3.27299 |\n",
      "|  6 | 2017-05-12_5_4C-70per_3C_CH17 |             0 |          0.00762155  |   3.27124 |\n",
      "|  7 | 2017-05-12_5_4C-70per_3C_CH17 |             0 |          0.0091859   |   3.2703  |\n",
      "|  8 | 2017-05-12_5_4C-70per_3C_CH17 |             0 |          0.0107469   |   3.26875 |\n",
      "|  9 | 2017-05-12_5_4C-70per_3C_CH17 |             0 |          0.0123127   |   3.26787 |\n",
      "****************************************************************************************************\n"
     ]
    }
   ],
   "source": [
    "# Import the BenchDB class\n",
    "# Load only the dataset based on the selected cell\n",
    "benchdb = BenchDB(\n",
    "    db_filepath,\n",
    "    selected_cell_label)\n",
    "\n",
    "# load the benchmarking dataset\n",
    "df_selected_cell = benchdb.load_benchmark_dataset(\n",
    "    dataset_type=\"train\")\n",
    "\n",
    "if df_selected_cell is not None:\n",
    "\n",
    "    filter_col = [\n",
    "        \"cell_index\",\n",
    "        \"cycle_index\",\n",
    "        \"discharge_capacity\",\n",
    "        \"voltage\"]\n",
    "\n",
    "    # Drop true labels from the benchmarking dataset\n",
    "    # and filter for selected columns only\n",
    "    df_selected_cell_without_labels = benchdb.drop_labels(\n",
    "        df_selected_cell,\n",
    "        filter_col)\n",
    "    \n",
    "    # print a subset of the dataframe\n",
    "    # for diagnostics running in terminals\n",
    "    print(df_selected_cell_without_labels.head(10).to_markdown())\n",
    "    print(\"*\"*100)"
   ]
  },
  {
   "cell_type": "markdown",
   "id": "52a8a91a",
   "metadata": {},
   "source": [
    "### Plot cycle data without labels"
   ]
  },
  {
   "cell_type": "code",
   "execution_count": 9,
   "id": "fad7005c",
   "metadata": {},
   "outputs": [],
   "source": [
    "# If the true outlier cycle index is not known,\n",
    "# cycling data will be plotted without labels\n",
    "benchdb.plot_cycle_data(\n",
    "    df_selected_cell_without_labels)"
   ]
  },
  {
   "cell_type": "markdown",
   "id": "488e6e66",
   "metadata": {},
   "source": [
    "## Features transformation"
   ]
  },
  {
   "cell_type": "markdown",
   "id": "2cb3b33b",
   "metadata": {},
   "source": [
    "### Load the training features dataset"
   ]
  },
  {
   "cell_type": "code",
   "execution_count": 10,
   "id": "b1f6148b",
   "metadata": {},
   "outputs": [
    {
     "name": "stdout",
     "output_type": "stream",
     "text": [
      "Features database is found in the given filepath.\n",
      "Features database is loaded.\n",
      "****************************************************************************************************\n",
      "|    |   max_diff_dQ |   log_max_diff_dQ |   cycle_index |   max_diff_dV |   log_max_diff_dV | cell_index                    |\n",
      "|---:|--------------:|------------------:|--------------:|--------------:|------------------:|:------------------------------|\n",
      "|  0 |    0.00638794 |          -5.05334 |             0 |     1.56415   |          0.447343 | 2017-05-12_5_4C-70per_3C_CH17 |\n",
      "|  1 |    0.00633758 |          -5.06126 |             1 |     0.0237265 |         -3.74116  | 2017-05-12_5_4C-70per_3C_CH17 |\n",
      "|  2 |    0.00632072 |          -5.06392 |             2 |     0.0226841 |         -3.78609  | 2017-05-12_5_4C-70per_3C_CH17 |\n",
      "|  3 |    0.00625887 |          -5.07376 |             3 |     0.0278988 |         -3.57917  | 2017-05-12_5_4C-70per_3C_CH17 |\n",
      "|  4 |    0.00623644 |          -5.07735 |             4 |     0.0264082 |         -3.63408  | 2017-05-12_5_4C-70per_3C_CH17 |\n",
      "|  5 |    0.00637507 |          -5.05536 |             5 |     0.0243568 |         -3.71494  | 2017-05-12_5_4C-70per_3C_CH17 |\n",
      "|  6 |    0.00625983 |          -5.0736  |             6 |     0.0227423 |         -3.78353  | 2017-05-12_5_4C-70per_3C_CH17 |\n",
      "|  7 |    0.00644022 |          -5.04519 |             7 |     0.035656  |         -3.33384  | 2017-05-12_5_4C-70per_3C_CH17 |\n",
      "|  8 |    0.00631368 |          -5.06504 |             8 |     0.0318709 |         -3.44606  | 2017-05-12_5_4C-70per_3C_CH17 |\n",
      "|  9 |    0.00623447 |          -5.07766 |             9 |     0.0236578 |         -3.74406  | 2017-05-12_5_4C-70per_3C_CH17 |\n",
      "****************************************************************************************************\n"
     ]
    }
   ],
   "source": [
    "# Define the filepath to ``train_features_severson.db``\n",
    "# DuckDB instance.\n",
    "db_features_filepath = (\n",
    "    Path.cwd()\n",
    "    .parent\n",
    "    .joinpath(\"database\",\"train_features_severson.db\"))\n",
    "\n",
    "# Load only the training features dataset\n",
    "df_features_per_cell = benchdb.load_features_db(\n",
    "    db_features_filepath,\n",
    "    dataset_type=\"train\")\n",
    "print(df_features_per_cell.head(10).to_markdown())\n",
    "print(\"*\"*100)\n",
    "\n",
    "unique_cycle_count = (\n",
    "    df_features_per_cell[\"cycle_index\"].unique())"
   ]
  },
  {
   "cell_type": "markdown",
   "id": "5c470096",
   "metadata": {},
   "source": [
    "# Minkowski Distance"
   ]
  },
  {
   "cell_type": "code",
   "execution_count": 12,
   "id": "94c8e49e",
   "metadata": {},
   "outputs": [],
   "source": [
    "selected_feature_cols = (\n",
    "    #\"cycle_index\",\n",
    "    \"log_max_diff_dQ\",\n",
    "    \"log_max_diff_dV\")\n",
    "\n",
    "runner = ModelRunner(\n",
    "        cell_label=selected_cell_label,\n",
    "        df_input_features=df_features_per_cell,\n",
    "        selected_feature_cols=selected_feature_cols)\n",
    "\n",
    "features = runner.create_model_x_input()\n",
    "#features = Xdata[:,1:]\n",
    "#cycle_idx = Xdata[:,0]\n",
    "centroid = np.median(features, axis=0)"
   ]
  },
  {
   "cell_type": "markdown",
   "id": "de36364e",
   "metadata": {},
   "source": [
    "### Euclidean Distance"
   ]
  },
  {
   "cell_type": "code",
   "execution_count": null,
   "id": "3fe2f341",
   "metadata": {},
   "outputs": [
    {
     "name": "stdout",
     "output_type": "stream",
     "text": [
      "Feature median: 0.15451571402483005\n",
      "Feature z-score mean: -0.0\n",
      "Feature z-score std. deviation: 1.0\n",
      "MAD: 0.4102734747978824\n",
      "MAD min limit: -1.076304710368817\n",
      "MAD max limit: 1.3853361384184772\n",
      "\n",
      "Predicted Anomalous Cycles: [  0  40 147 148]\n",
      "Mahalanobis distance for Outlier Cycles: [4.30930982 4.52843595 3.21059903 3.80513765]\n",
      "Mahalonobis Threshold: 1.3853361384184772\n"
     ]
    }
   ],
   "source": [
    "metric_name = 'minkowski'\n",
    "p=0.5\n",
    "\n",
    "minkowski_dist = dbad.calculate_distance(metric_name=metric_name,\n",
    "                                    features=features,\n",
    "                                    centroid=centroid,\n",
    "                                    p=p)\n",
    "\n",
    "(pred_outlier_indices, \n",
    " pred_outlier_distance, \n",
    " pred_outlier_features,\n",
    " threshold) = dbad.predict_outliers(\n",
    "                            distance=minkowski_dist,\n",
    "                            features=features)\n",
    "\n",
    "print(\"\\nPredicted Anomalous Cycles:\", pred_outlier_indices)\n",
    "print(\"Mahalanobis distance for Outlier Cycles:\", pred_outlier_distance)\n",
    "print(\"Mahalonobis Threshold:\", threshold)"
   ]
  },
  {
   "cell_type": "markdown",
   "id": "cc9e3f94",
   "metadata": {},
   "source": [
    "### Plot histogram of distances"
   ]
  },
  {
   "cell_type": "code",
   "execution_count": 56,
   "id": "67d1e136",
   "metadata": {},
   "outputs": [
    {
     "data": {
      "image/png": "[encoded data removed]",
      "text/plain": [
       "<Figure size 800x500 with 1 Axes>"
      ]
     },
     "metadata": {},
     "output_type": "display_data"
    }
   ],
   "source": [
    "dbad.plot_hist_distance(minkowski_dist, threshold)\n",
    "\n",
    "filename=f\"{metric_name}_p_{p}_histogram\"\n",
    "\n",
    "output_fig_filename = (\n",
    "    filename + \"_\"\n",
    "    + selected_cell_label\n",
    "    + \".png\")\n",
    "\n",
    "fig_output_path = (\n",
    "    selected_cell_artifacts.joinpath(output_fig_filename))\n",
    "\n",
    "plt.savefig(\n",
    "    fig_output_path,\n",
    "    dpi=200,\n",
    "    bbox_inches=\"tight\")\n",
    "\n",
    "plt.show()"
   ]
  },
  {
   "cell_type": "markdown",
   "id": "f41b6fa6",
   "metadata": {},
   "source": [
    "## Get df_outliers_pred"
   ]
  },
  {
   "cell_type": "code",
   "execution_count": 57,
   "id": "b0abaf95",
   "metadata": {},
   "outputs": [
    {
     "data": {
      "text/html": [
       "<div>\n",
       "<style scoped>\n",
       "    .dataframe tbody tr th:only-of-type {\n",
       "        vertical-align: middle;\n",
       "    }\n",
       "\n",
       "    .dataframe tbody tr th {\n",
       "        vertical-align: top;\n",
       "    }\n",
       "\n",
       "    .dataframe thead th {\n",
       "        text-align: right;\n",
       "    }\n",
       "</style>\n",
       "<table border=\"1\" class=\"dataframe\">\n",
       "  <thead>\n",
       "    <tr style=\"text-align: right;\">\n",
       "      <th></th>\n",
       "      <th>max_diff_dQ</th>\n",
       "      <th>log_max_diff_dQ</th>\n",
       "      <th>cycle_index</th>\n",
       "      <th>max_diff_dV</th>\n",
       "      <th>log_max_diff_dV</th>\n",
       "      <th>cell_index</th>\n",
       "      <th>outlier_distance</th>\n",
       "    </tr>\n",
       "  </thead>\n",
       "  <tbody>\n",
       "    <tr>\n",
       "      <th>0</th>\n",
       "      <td>0.006388</td>\n",
       "      <td>-5.053343</td>\n",
       "      <td>0.0</td>\n",
       "      <td>1.564151</td>\n",
       "      <td>0.447343</td>\n",
       "      <td>2017-05-12_5_4C-70per_3C_CH17</td>\n",
       "      <td>4.309310</td>\n",
       "    </tr>\n",
       "    <tr>\n",
       "      <th>40</th>\n",
       "      <td>0.006305</td>\n",
       "      <td>-5.066425</td>\n",
       "      <td>40.0</td>\n",
       "      <td>2.612268</td>\n",
       "      <td>0.960219</td>\n",
       "      <td>2017-05-12_5_4C-70per_3C_CH17</td>\n",
       "      <td>4.528436</td>\n",
       "    </tr>\n",
       "    <tr>\n",
       "      <th>147</th>\n",
       "      <td>0.042814</td>\n",
       "      <td>-3.150895</td>\n",
       "      <td>147.0</td>\n",
       "      <td>0.029431</td>\n",
       "      <td>-3.525697</td>\n",
       "      <td>2017-05-12_5_4C-70per_3C_CH17</td>\n",
       "      <td>3.210599</td>\n",
       "    </tr>\n",
       "    <tr>\n",
       "      <th>148</th>\n",
       "      <td>0.042899</td>\n",
       "      <td>-3.148905</td>\n",
       "      <td>148.0</td>\n",
       "      <td>0.025238</td>\n",
       "      <td>-3.679404</td>\n",
       "      <td>2017-05-12_5_4C-70per_3C_CH17</td>\n",
       "      <td>3.805138</td>\n",
       "    </tr>\n",
       "  </tbody>\n",
       "</table>\n",
       "</div>"
      ],
      "text/plain": [
       "     max_diff_dQ  log_max_diff_dQ  cycle_index  max_diff_dV  log_max_diff_dV  \\\n",
       "0       0.006388        -5.053343          0.0     1.564151         0.447343   \n",
       "40      0.006305        -5.066425         40.0     2.612268         0.960219   \n",
       "147     0.042814        -3.150895        147.0     0.029431        -3.525697   \n",
       "148     0.042899        -3.148905        148.0     0.025238        -3.679404   \n",
       "\n",
       "                        cell_index  outlier_distance  \n",
       "0    2017-05-12_5_4C-70per_3C_CH17          4.309310  \n",
       "40   2017-05-12_5_4C-70per_3C_CH17          4.528436  \n",
       "147  2017-05-12_5_4C-70per_3C_CH17          3.210599  \n",
       "148  2017-05-12_5_4C-70per_3C_CH17          3.805138  "
      ]
     },
     "execution_count": 57,
     "metadata": {},
     "output_type": "execute_result"
    }
   ],
   "source": [
    "df_outliers_pred = df_features_per_cell[\n",
    "    df_features_per_cell[\"cycle_index\"].isin(pred_outlier_indices)].copy()\n",
    "\n",
    "df_outliers_pred[\"outlier_distance\"] = pred_outlier_distance\n",
    "\n",
    "df_outliers_pred"
   ]
  },
  {
   "cell_type": "markdown",
   "id": "c1cbfecb",
   "metadata": {},
   "source": [
    "## Plot distance score mapping"
   ]
  },
  {
   "cell_type": "code",
   "execution_count": 58,
   "id": "a98ccd10",
   "metadata": {},
   "outputs": [
    {
     "data": {
      "image/png": "[encoded data removed]",
      "text/plain": [
       "<Figure size 800x500 with 2 Axes>"
      ]
     },
     "metadata": {},
     "output_type": "display_data"
    }
   ],
   "source": [
    "xx, yy, meshgrid = runner.create_2d_mesh_grid()\n",
    "\n",
    "grid_dist = dbad.calculate_distance(metric_name=metric_name,\n",
    "                                        features=meshgrid,\n",
    "                                        centroid=centroid,\n",
    "                                        p=p,\n",
    "                                        )\n",
    "        \n",
    "dbad.plot_distance_score_map(\n",
    "        meshgrid_distance = grid_dist,\n",
    "        xx = xx,\n",
    "        yy = yy,\n",
    "        features=features,\n",
    "        xoutliers= df_outliers_pred[\"log_max_diff_dQ\"],\n",
    "        youtliers= df_outliers_pred[\"log_max_diff_dV\"],\n",
    "        centroid=centroid,\n",
    "        threshold= threshold,\n",
    "        pred_outlier_indices= pred_outlier_indices)\n",
    "\n",
    "filename = f\"{metric_name}_p_{p}_dist_map\"\n",
    "\n",
    "output_fig_filename = (\n",
    "        filename + \"_\"\n",
    "        + selected_cell_label\n",
    "        + \".png\")\n",
    "\n",
    "fig_output_path = (selected_cell_artifacts.\n",
    "                   joinpath(output_fig_filename))\n",
    "\n",
    "plt.savefig(\n",
    "        fig_output_path,\n",
    "        dpi=200,\n",
    "        bbox_inches=\"tight\")\n",
    "\n",
    "plt.show()"
   ]
  },
  {
   "cell_type": "markdown",
   "id": "eddfbbdb",
   "metadata": {},
   "source": [
    "## Method Performance Evaluation"
   ]
  },
  {
   "cell_type": "code",
   "execution_count": 61,
   "id": "6c2d2bd6",
   "metadata": {},
   "outputs": [],
   "source": [
    "df_eval_outlier = modval.evaluate_pred_outliers(\n",
    "    df_benchmark=df_selected_cell,\n",
    "    outlier_cycle_index=pred_outlier_indices)"
   ]
  },
  {
   "cell_type": "markdown",
   "id": "09b84697",
   "metadata": {},
   "source": [
    "### Confusion Matrix"
   ]
  },
  {
   "cell_type": "code",
   "execution_count": 62,
   "id": "b491c687",
   "metadata": {},
   "outputs": [
    {
     "data": {
      "image/png": "[encoded data removed]",
      "text/plain": [
       "<Figure size 600x400 with 1 Axes>"
      ]
     },
     "metadata": {},
     "output_type": "display_data"
    }
   ],
   "source": [
    "axplot = modval.generate_confusion_matrix(\n",
    "    y_true=df_eval_outlier[\"true_outlier\"],\n",
    "    y_pred=df_eval_outlier[\"pred_outlier\"])\n",
    "\n",
    "axplot.set_title(\n",
    "    \"Minkowski Distance\",\n",
    "    fontsize=16)\n",
    "\n",
    "output_fig_filename = (\n",
    "    f\"conf_matrix_{metric_name}_\"\n",
    "    + selected_cell_label\n",
    "    + \".png\")\n",
    "\n",
    "fig_output_path = (\n",
    "    selected_cell_artifacts\n",
    "    .joinpath(output_fig_filename))\n",
    "\n",
    "plt.savefig(\n",
    "    fig_output_path,\n",
    "    dpi=600,\n",
    "    bbox_inches=\"tight\")\n",
    "\n",
    "plt.show()"
   ]
  }
 ],
 "metadata": {
  "kernelspec": {
   "display_name": "osbad",
   "language": "python",
   "name": "python3"
  },
  "language_info": {
   "codemirror_mode": {
    "name": "ipython",
    "version": 3
   },
   "file_extension": ".py",
   "mimetype": "text/x-python",
   "name": "python",
   "nbconvert_exporter": "python",
   "pygments_lexer": "ipython3",
   "version": "3.12.11"
  }
 },
 "nbformat": 4,
 "nbformat_minor": 5
}
