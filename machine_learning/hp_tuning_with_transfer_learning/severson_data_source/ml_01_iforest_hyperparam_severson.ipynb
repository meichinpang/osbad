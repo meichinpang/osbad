{
 "cells": [
  {
   "cell_type": "markdown",
   "id": "146bf18a-5170-42e7-9995-c49f2ab82477",
   "metadata": {},
   "source": [
    "# Import libraries"
   ]
  },
  {
   "cell_type": "code",
   "execution_count": 1,
   "id": "24deb36b-a8dd-4a91-b4c5-4c94ce393f15",
   "metadata": {},
   "outputs": [],
   "source": [
    "%load_ext autoreload\n",
    "%autoreload 2\n",
    "\n",
    "# Standard library\n",
    "from pathlib import Path\n",
    "import pprint\n",
    "\n",
    "# Third-party libraries\n",
    "import duckdb\n",
    "import fireducks.pandas as pd\n",
    "import matplotlib.pyplot as plt\n",
    "import numpy as np\n",
    "import optuna\n",
    "from matplotlib import rcParams\n",
    "\n",
    "rcParams[\"text.usetex\"] = True\n",
    "\n",
    "# Custom osbad library for anomaly detection\n",
    "import osbad.config as bconf\n",
    "import osbad.hyperparam as hp\n",
    "import osbad.modval as modval\n",
    "import osbad.viz as bviz\n",
    "from osbad.database import BenchDB\n",
    "from osbad.model import ModelRunner"
   ]
  },
  {
   "cell_type": "markdown",
   "id": "b3f33544-b0ca-474e-8383-e13cd7c75415",
   "metadata": {},
   "source": [
    "# Import dataset"
   ]
  },
  {
   "cell_type": "code",
   "execution_count": 2,
   "id": "8ad2caf0-33af-413a-bcfd-a6445cd50895",
   "metadata": {},
   "outputs": [],
   "source": [
    "# Define a global variable to save fig output\n",
    "# The definition of PIPELINE_OUTPUT_DIR can be\n",
    "# found in config.py\n",
    "PIPELINE_OUTPUT_DIR = bconf.PIPELINE_OUTPUT_DIR"
   ]
  },
  {
   "cell_type": "code",
   "execution_count": 3,
   "id": "0e6d67ec-f71b-48ea-b4cb-cc19c2ef9c73",
   "metadata": {},
   "outputs": [],
   "source": [
    "# Path to the DuckDB instance:\n",
    "# \"/osbad_development/osbad/database/train_dataset_severson.db\"\n",
    "db_filepath = (\n",
    "    Path.cwd()\n",
    "    .parent.parent.parent\n",
    "    .joinpath(\"database\",\"train_dataset_severson.db\"))"
   ]
  },
  {
   "cell_type": "markdown",
   "id": "9da5b1b3-9fe2-43d6-b741-896fe2a7e837",
   "metadata": {},
   "source": [
    "## Get unique cell labels from training dataset"
   ]
  },
  {
   "cell_type": "code",
   "execution_count": 4,
   "id": "79d8fe80-24b6-4626-91aa-14fc80346e90",
   "metadata": {},
   "outputs": [
    {
     "name": "stdout",
     "output_type": "stream",
     "text": [
      "['2017-05-12_5_4C-50per_3C_CH13' '2017-05-12_5_4C-50per_3C_CH14'\n",
      " '2017-05-12_5_4C-60per_3C_CH15' '2017-05-12_5_4C-60per_3C_CH16'\n",
      " '2017-05-12_5_4C-70per_3C_CH17' '2017-05-12_5_4C-70per_3C_CH18'\n",
      " '2017-05-12_6C-40per_3C_CH25' '2017-05-12_6C-40per_3C_CH26'\n",
      " '2017-05-12_6C-50per_3C_CH27' '2017-05-12_6C-50per_3C_CH28'\n",
      " '2017-05-12_6C-60per_3C_CH29' '2017-05-12_6C-60per_3C_CH30'\n",
      " '2017-05-12_7C-40per_3C_CH37' '2017-05-12_7C-40per_3C_CH38'\n",
      " '2017-05-12_4C-80per_4C_CH5' '2017-05-12_4C-80per_4C_CH6'\n",
      " '2017-05-12_4_4C-80per_4_4C_CH7' '2017-05-12_5_4C-80per_5_4C_CH11'\n",
      " '2017-05-12_5_4C-80per_5_4C_CH12' '2017-05-12_3_6C-80per_3_6C_CH1'\n",
      " '2017-05-12_3_6C-80per_3_6C_CH2' '2017-05-12_3_6C-80per_3_6C_CH3'\n",
      " '2017-05-12_5_4C-40per_3_6C_CH19']\n"
     ]
    }
   ],
   "source": [
    "# Create a DuckDB connection\n",
    "con = duckdb.connect(\n",
    "    db_filepath,\n",
    "    read_only=True)\n",
    "\n",
    "# Load all training dataset from duckdb\n",
    "df_duckdb = con.execute(\n",
    "    \"SELECT * FROM df_train_dataset_sv\").fetchdf()\n",
    "\n",
    "unique_cell_index_train = df_duckdb[\"cell_index\"].unique()\n",
    "print(unique_cell_index_train)"
   ]
  },
  {
   "cell_type": "code",
   "execution_count": 5,
   "id": "942bbeea-ea99-421d-b834-3cb6787a2252",
   "metadata": {},
   "outputs": [
    {
     "name": "stdout",
     "output_type": "stream",
     "text": [
      "Training cell count: 23\n"
     ]
    }
   ],
   "source": [
    "training_cell_count = len(unique_cell_index_train)\n",
    "print(f\"Training cell count: {training_cell_count}\")"
   ]
  },
  {
   "cell_type": "markdown",
   "id": "166173b4-aeee-458e-aacb-2ff7eb3872ab",
   "metadata": {},
   "source": [
    "## Define selected_cell_label"
   ]
  },
  {
   "cell_type": "code",
   "execution_count": 6,
   "id": "cdfa90da-ff8f-4ba0-a190-6feadf0f3ab5",
   "metadata": {},
   "outputs": [],
   "source": [
    "# Get the cell-ID from cell_inventory\n",
    "selected_cell_label = \"2017-05-12_5_4C-70per_3C_CH17\"\n",
    "\n",
    "# Create a subfolder to store fig output\n",
    "# corresponding to each cell-index\n",
    "selected_cell_artifacts_dir = bconf.artifacts_output_dir(\n",
    "    selected_cell_label)"
   ]
  },
  {
   "cell_type": "markdown",
   "id": "43942c52-0bcd-45a2-a1ab-7301e83b8f14",
   "metadata": {},
   "source": [
    "# Load benchmarking dataset"
   ]
  },
  {
   "cell_type": "code",
   "execution_count": 7,
   "id": "1016829f-4cdc-434f-932c-ca3f56778687",
   "metadata": {},
   "outputs": [
    {
     "name": "stdout",
     "output_type": "stream",
     "text": [
      "Database is found in the given filepath.\n",
      "Loading benchmarking dataset now...\n",
      "****************************************************************************************************\n"
     ]
    }
   ],
   "source": [
    "# Import the BenchDB class\n",
    "# Load only the dataset based on the selected cell\n",
    "benchdb = BenchDB(\n",
    "    db_filepath,\n",
    "    selected_cell_label)\n",
    "\n",
    "# load the benchmarking dataset\n",
    "df_selected_cell = benchdb.load_benchmark_dataset(\n",
    "    dataset_type=\"train\")"
   ]
  },
  {
   "cell_type": "markdown",
   "id": "4dbc63a9-bd28-4ecd-83ae-e8454a05972e",
   "metadata": {},
   "source": [
    "## Drop labels"
   ]
  },
  {
   "cell_type": "code",
   "execution_count": 8,
   "id": "a1461916-041c-41c7-b5db-871ed17685d2",
   "metadata": {},
   "outputs": [
    {
     "name": "stdout",
     "output_type": "stream",
     "text": [
      "|    | cell_index                    |   cycle_index |   discharge_capacity |   voltage |\n",
      "|---:|:------------------------------|--------------:|---------------------:|----------:|\n",
      "|  0 | 2017-05-12_5_4C-70per_3C_CH17 |             0 |          1.26512e-05 |   3.29189 |\n",
      "|  1 | 2017-05-12_5_4C-70per_3C_CH17 |             0 |          0.00136774  |   3.28185 |\n",
      "|  2 | 2017-05-12_5_4C-70per_3C_CH17 |             0 |          0.00292998  |   3.27788 |\n",
      "|  3 | 2017-05-12_5_4C-70per_3C_CH17 |             0 |          0.00449361  |   3.27513 |\n",
      "|  4 | 2017-05-12_5_4C-70per_3C_CH17 |             0 |          0.00449361  |   3.27513 |\n",
      "|  5 | 2017-05-12_5_4C-70per_3C_CH17 |             0 |          0.00605927  |   3.27299 |\n",
      "|  6 | 2017-05-12_5_4C-70per_3C_CH17 |             0 |          0.00762155  |   3.27124 |\n",
      "|  7 | 2017-05-12_5_4C-70per_3C_CH17 |             0 |          0.0091859   |   3.2703  |\n",
      "|  8 | 2017-05-12_5_4C-70per_3C_CH17 |             0 |          0.0107469   |   3.26875 |\n",
      "|  9 | 2017-05-12_5_4C-70per_3C_CH17 |             0 |          0.0123127   |   3.26787 |\n",
      "****************************************************************************************************\n"
     ]
    }
   ],
   "source": [
    "if df_selected_cell is not None:\n",
    "\n",
    "    filter_col = [\n",
    "        \"cell_index\",\n",
    "        \"cycle_index\",\n",
    "        \"discharge_capacity\",\n",
    "        \"voltage\"]\n",
    "\n",
    "    # Drop true labels from the benchmarking dataset\n",
    "    # and filter for selected columns only\n",
    "    df_selected_cell_without_labels = benchdb.drop_labels(\n",
    "        df_selected_cell,\n",
    "        filter_col)\n",
    "\n",
    "    # print a subset of the dataframe\n",
    "    # for diagnostics running in terminals\n",
    "    print(df_selected_cell_without_labels.head(10).to_markdown())\n",
    "    print(\"*\"*100)"
   ]
  },
  {
   "cell_type": "markdown",
   "id": "fa19f62a-81be-45ba-84bf-ce6c113795b2",
   "metadata": {},
   "source": [
    "## Plot cycle data without labels"
   ]
  },
  {
   "cell_type": "code",
   "execution_count": 9,
   "id": "b335dd67-f921-41f1-8090-ecc6e11289e1",
   "metadata": {},
   "outputs": [
    {
     "data": {
      "image/png": "[encoded data removed]",
      "text/plain": [
       "<Figure size 1000x600 with 2 Axes>"
      ]
     },
     "metadata": {},
     "output_type": "display_data"
    }
   ],
   "source": [
    "# If the true outlier cycle index is not known,\n",
    "# cycling data will be plotted without labels\n",
    "benchdb.plot_cycle_data(\n",
    "    df_selected_cell_without_labels)\n",
    "\n",
    "output_fig_filename = (\n",
    "    \"cycle_data_without_labels_\"\n",
    "    + selected_cell_label\n",
    "    + \".png\")\n",
    "\n",
    "fig_output_path = (\n",
    "    selected_cell_artifacts_dir\n",
    "    .joinpath(output_fig_filename))\n",
    "\n",
    "plt.savefig(\n",
    "    fig_output_path,\n",
    "    dpi=600,\n",
    "    bbox_inches=\"tight\")\n",
    "\n",
    "plt.show()"
   ]
  },
  {
   "cell_type": "markdown",
   "id": "1e5c1286-a869-4c35-9b05-d0f9dc830732",
   "metadata": {},
   "source": [
    "# Features transformation"
   ]
  },
  {
   "cell_type": "markdown",
   "id": "a1c34a28-c4e4-4ae2-a111-945cd7cfd86b",
   "metadata": {},
   "source": [
    "## Load the training features dataset"
   ]
  },
  {
   "cell_type": "code",
   "execution_count": 10,
   "id": "c006e179-a441-4a9e-ad65-9ecca97e517a",
   "metadata": {},
   "outputs": [
    {
     "name": "stdout",
     "output_type": "stream",
     "text": [
      "Features database is found in the given filepath.\n",
      "Features database is loaded.\n",
      "****************************************************************************************************\n"
     ]
    }
   ],
   "source": [
    "# Define the filepath to ``train_features_severson.db``\n",
    "# DuckDB instance.\n",
    "db_features_filepath = (\n",
    "    Path.cwd()\n",
    "    .parent.parent.parent\n",
    "    .joinpath(\"database\",\"train_features_severson.db\"))\n",
    "\n",
    "# Load only the training features dataset\n",
    "df_features_per_cell = benchdb.load_features_db(\n",
    "    db_features_filepath,\n",
    "    dataset_type=\"train\")\n",
    "\n",
    "unique_cycle_count = (\n",
    "    df_features_per_cell[\"cycle_index\"].unique())"
   ]
  },
  {
   "cell_type": "code",
   "execution_count": 11,
   "id": "e27354fd-b86e-494c-9087-589556b051db",
   "metadata": {},
   "outputs": [
    {
     "data": {
      "text/html": [
       "<div>\n",
       "<style scoped>\n",
       "    .dataframe tbody tr th:only-of-type {\n",
       "        vertical-align: middle;\n",
       "    }\n",
       "\n",
       "    .dataframe tbody tr th {\n",
       "        vertical-align: top;\n",
       "    }\n",
       "\n",
       "    .dataframe thead th {\n",
       "        text-align: right;\n",
       "    }\n",
       "</style>\n",
       "<table border=\"1\" class=\"dataframe\">\n",
       "  <thead>\n",
       "    <tr style=\"text-align: right;\">\n",
       "      <th></th>\n",
       "      <th>max_diff_dQ</th>\n",
       "      <th>log_max_diff_dQ</th>\n",
       "      <th>cycle_index</th>\n",
       "      <th>max_diff_dV</th>\n",
       "      <th>log_max_diff_dV</th>\n",
       "      <th>cell_index</th>\n",
       "    </tr>\n",
       "  </thead>\n",
       "  <tbody>\n",
       "    <tr>\n",
       "      <th>0</th>\n",
       "      <td>0.006388</td>\n",
       "      <td>-5.053343</td>\n",
       "      <td>0.0</td>\n",
       "      <td>1.564151</td>\n",
       "      <td>0.447343</td>\n",
       "      <td>2017-05-12_5_4C-70per_3C_CH17</td>\n",
       "    </tr>\n",
       "    <tr>\n",
       "      <th>1</th>\n",
       "      <td>0.006338</td>\n",
       "      <td>-5.061258</td>\n",
       "      <td>1.0</td>\n",
       "      <td>0.023727</td>\n",
       "      <td>-3.741163</td>\n",
       "      <td>2017-05-12_5_4C-70per_3C_CH17</td>\n",
       "    </tr>\n",
       "    <tr>\n",
       "      <th>2</th>\n",
       "      <td>0.006321</td>\n",
       "      <td>-5.063922</td>\n",
       "      <td>2.0</td>\n",
       "      <td>0.022684</td>\n",
       "      <td>-3.786091</td>\n",
       "      <td>2017-05-12_5_4C-70per_3C_CH17</td>\n",
       "    </tr>\n",
       "    <tr>\n",
       "      <th>3</th>\n",
       "      <td>0.006259</td>\n",
       "      <td>-5.073756</td>\n",
       "      <td>3.0</td>\n",
       "      <td>0.027899</td>\n",
       "      <td>-3.579172</td>\n",
       "      <td>2017-05-12_5_4C-70per_3C_CH17</td>\n",
       "    </tr>\n",
       "    <tr>\n",
       "      <th>4</th>\n",
       "      <td>0.006236</td>\n",
       "      <td>-5.077346</td>\n",
       "      <td>4.0</td>\n",
       "      <td>0.026408</td>\n",
       "      <td>-3.634081</td>\n",
       "      <td>2017-05-12_5_4C-70per_3C_CH17</td>\n",
       "    </tr>\n",
       "    <tr>\n",
       "      <th>...</th>\n",
       "      <td>...</td>\n",
       "      <td>...</td>\n",
       "      <td>...</td>\n",
       "      <td>...</td>\n",
       "      <td>...</td>\n",
       "      <td>...</td>\n",
       "    </tr>\n",
       "    <tr>\n",
       "      <th>687</th>\n",
       "      <td>0.006236</td>\n",
       "      <td>-5.077391</td>\n",
       "      <td>687.0</td>\n",
       "      <td>0.046420</td>\n",
       "      <td>-3.070023</td>\n",
       "      <td>2017-05-12_5_4C-70per_3C_CH17</td>\n",
       "    </tr>\n",
       "    <tr>\n",
       "      <th>688</th>\n",
       "      <td>0.006281</td>\n",
       "      <td>-5.070178</td>\n",
       "      <td>688.0</td>\n",
       "      <td>0.051542</td>\n",
       "      <td>-2.965352</td>\n",
       "      <td>2017-05-12_5_4C-70per_3C_CH17</td>\n",
       "    </tr>\n",
       "    <tr>\n",
       "      <th>689</th>\n",
       "      <td>0.006243</td>\n",
       "      <td>-5.076238</td>\n",
       "      <td>689.0</td>\n",
       "      <td>0.047776</td>\n",
       "      <td>-3.041228</td>\n",
       "      <td>2017-05-12_5_4C-70per_3C_CH17</td>\n",
       "    </tr>\n",
       "    <tr>\n",
       "      <th>690</th>\n",
       "      <td>0.006316</td>\n",
       "      <td>-5.064619</td>\n",
       "      <td>690.0</td>\n",
       "      <td>0.046331</td>\n",
       "      <td>-3.071935</td>\n",
       "      <td>2017-05-12_5_4C-70per_3C_CH17</td>\n",
       "    </tr>\n",
       "    <tr>\n",
       "      <th>691</th>\n",
       "      <td>0.006402</td>\n",
       "      <td>-5.051123</td>\n",
       "      <td>691.0</td>\n",
       "      <td>0.047873</td>\n",
       "      <td>-3.039193</td>\n",
       "      <td>2017-05-12_5_4C-70per_3C_CH17</td>\n",
       "    </tr>\n",
       "  </tbody>\n",
       "</table>\n",
       "<p>692 rows × 6 columns</p>\n",
       "</div>"
      ],
      "text/plain": [
       "     max_diff_dQ  log_max_diff_dQ  cycle_index  max_diff_dV  log_max_diff_dV  \\\n",
       "0       0.006388        -5.053343          0.0     1.564151         0.447343   \n",
       "1       0.006338        -5.061258          1.0     0.023727        -3.741163   \n",
       "2       0.006321        -5.063922          2.0     0.022684        -3.786091   \n",
       "3       0.006259        -5.073756          3.0     0.027899        -3.579172   \n",
       "4       0.006236        -5.077346          4.0     0.026408        -3.634081   \n",
       "..           ...              ...          ...          ...              ...   \n",
       "687     0.006236        -5.077391        687.0     0.046420        -3.070023   \n",
       "688     0.006281        -5.070178        688.0     0.051542        -2.965352   \n",
       "689     0.006243        -5.076238        689.0     0.047776        -3.041228   \n",
       "690     0.006316        -5.064619        690.0     0.046331        -3.071935   \n",
       "691     0.006402        -5.051123        691.0     0.047873        -3.039193   \n",
       "\n",
       "                        cell_index  \n",
       "0    2017-05-12_5_4C-70per_3C_CH17  \n",
       "1    2017-05-12_5_4C-70per_3C_CH17  \n",
       "2    2017-05-12_5_4C-70per_3C_CH17  \n",
       "3    2017-05-12_5_4C-70per_3C_CH17  \n",
       "4    2017-05-12_5_4C-70per_3C_CH17  \n",
       "..                             ...  \n",
       "687  2017-05-12_5_4C-70per_3C_CH17  \n",
       "688  2017-05-12_5_4C-70per_3C_CH17  \n",
       "689  2017-05-12_5_4C-70per_3C_CH17  \n",
       "690  2017-05-12_5_4C-70per_3C_CH17  \n",
       "691  2017-05-12_5_4C-70per_3C_CH17  \n",
       "\n",
       "[692 rows x 6 columns]"
      ]
     },
     "execution_count": 11,
     "metadata": {},
     "output_type": "execute_result"
    }
   ],
   "source": [
    "df_features_per_cell"
   ]
  },
  {
   "cell_type": "markdown",
   "id": "81026747-cbe4-4b69-85d5-ca8e17c2899e",
   "metadata": {},
   "source": [
    "# Hyperparameter tuning"
   ]
  },
  {
   "cell_type": "markdown",
   "id": "aab1ea08-60dd-4045-a4fc-5212c93ae7bd",
   "metadata": {},
   "source": [
    "## Create optuna study"
   ]
  },
  {
   "cell_type": "code",
   "execution_count": 12,
   "id": "7eb8d575-c79c-4d7e-91ee-dc9863230aec",
   "metadata": {},
   "outputs": [
    {
     "data": {
      "text/plain": [
       "{'contamination': {'low': 0.0, 'high': 0.5},\n",
       " 'n_estimators': {'low': 100, 'high': 500},\n",
       " 'max_samples': {'low': 100, 'high': 692},\n",
       " 'threshold': {'low': 0.0, 'high': 1.0}}"
      ]
     },
     "execution_count": 12,
     "metadata": {},
     "output_type": "execute_result"
    }
   ],
   "source": [
    "# Update the HP config for max_samples depending on the cycle numbers\n",
    "total_cycle_count = len(\n",
    "    df_selected_cell_without_labels[\"cycle_index\"].unique())\n",
    "\n",
    "hp_config_iforest = {\n",
    "    \"contamination\": {\"low\": 0.0, \"high\": 0.5},\n",
    "    \"n_estimators\": {\"low\": 100, \"high\": 500},\n",
    "    \"max_samples\": {\"low\": 100, \"high\": total_cycle_count},\n",
    "    \"threshold\": {\"low\": 0.0, \"high\": 1.0}\n",
    "}\n",
    "\n",
    "iforest_hp_config_filepath = (\n",
    "    Path.cwd()\n",
    "    .parent.parent.parent\n",
    "    .joinpath(\n",
    "        \"machine_learning\",\n",
    "        \"hp_config_schema\",\n",
    "        \"severson_hp_config\",\n",
    "        \"iforest_hp_config.json\"))\n",
    "\n",
    "bconf.create_json_hp_config(\n",
    "    iforest_hp_config_filepath,\n",
    "    hp_dict=hp_config_iforest)\n",
    "\n",
    "bconf.load_json_hp_config(\n",
    "    iforest_hp_config_filepath)"
   ]
  },
  {
   "cell_type": "code",
   "execution_count": 13,
   "id": "639f7828-c3f1-4bb6-a927-54b70f2d49d9",
   "metadata": {},
   "outputs": [
    {
     "name": "stderr",
     "output_type": "stream",
     "text": [
      "[I 2025-10-06 20:21:39,226] A new study created in memory with name: iforest_hyperparam\n"
     ]
    },
    {
     "name": "stdout",
     "output_type": "stream",
     "text": [
      "Current hyperparameter config:\n",
      "{'contamination': {'low': 0.0, 'high': 0.5}, 'n_estimators': {'low': 100, 'high': 500}, 'max_samples': {'low': 100, 'high': 692}, 'threshold': {'low': 0.0, 'high': 1.0}}\n",
      "----------------------------------------------------------------------\n"
     ]
    },
    {
     "name": "stderr",
     "output_type": "stream",
     "text": [
      "[I 2025-10-06 20:21:40,407] Trial 0 finished with values: [1.0, 0.8] and parameters: {'contamination': 0.18727005942368125, 'n_estimators': 481, 'max_samples': 534, 'threshold': 0.5986584841970366}.\n",
      "[I 2025-10-06 20:21:41,044] Trial 1 finished with values: [0.5, 1.0] and parameters: {'contamination': 0.07800932022121826, 'n_estimators': 162, 'max_samples': 134, 'threshold': 0.8661761457749352}.\n",
      "[I 2025-10-06 20:21:42,067] Trial 2 finished with values: [0.25, 1.0] and parameters: {'contamination': 0.3005575058716044, 'n_estimators': 383, 'max_samples': 112, 'threshold': 0.9699098521619943}.\n",
      "[I 2025-10-06 20:21:42,744] Trial 3 finished with values: [1.0, 0.022222222222222223] and parameters: {'contamination': 0.41622132040021087, 'n_estimators': 185, 'max_samples': 207, 'threshold': 0.18340450985343382}.\n",
      "[I 2025-10-06 20:21:43,640] Trial 4 finished with values: [1.0, 0.07272727272727272] and parameters: {'contamination': 0.15212112147976886, 'n_estimators': 310, 'max_samples': 356, 'threshold': 0.2912291401980419}.\n",
      "[I 2025-10-06 20:21:44,292] Trial 5 finished with values: [1.0, 0.08163265306122448] and parameters: {'contamination': 0.30592644736118974, 'n_estimators': 155, 'max_samples': 273, 'threshold': 0.3663618432936917}.\n",
      "[I 2025-10-06 20:21:45,338] Trial 6 finished with values: [1.0, 0.2222222222222222] and parameters: {'contamination': 0.22803499210851796, 'n_estimators': 414, 'max_samples': 218, 'threshold': 0.5142344384136116}.\n",
      "[I 2025-10-06 20:21:45,931] Trial 7 finished with values: [1.0, 0.03076923076923077] and parameters: {'contamination': 0.29620728443102123, 'n_estimators': 118, 'max_samples': 460, 'threshold': 0.17052412368729153}.\n",
      "[I 2025-10-06 20:21:47,084] Trial 8 finished with values: [1.0, 1.0] and parameters: {'contamination': 0.03252579649263976, 'n_estimators': 480, 'max_samples': 672, 'threshold': 0.8083973481164611}.\n",
      "[I 2025-10-06 20:21:47,674] Trial 9 finished with values: [1.0, 0.2857142857142857] and parameters: {'contamination': 0.15230688458668534, 'n_estimators': 139, 'max_samples': 505, 'threshold': 0.4401524937396013}.\n",
      "[I 2025-10-06 20:21:48,511] Trial 10 finished with values: [1.0, 0.8] and parameters: {'contamination': 0.010273404912149196, 'n_estimators': 289, 'max_samples': 674, 'threshold': 0.7096398463811849}.\n",
      "[I 2025-10-06 20:21:49,645] Trial 11 finished with values: [1.0, 0.8] and parameters: {'contamination': 0.005591682469042122, 'n_estimators': 463, 'max_samples': 683, 'threshold': 0.689974806658111}.\n",
      "[I 2025-10-06 20:21:50,873] Trial 12 finished with values: [1.0, 0.8] and parameters: {'contamination': 0.4734809381950747, 'n_estimators': 497, 'max_samples': 583, 'threshold': 0.6971558983400944}.\n",
      "[I 2025-10-06 20:21:51,724] Trial 13 finished with values: [1.0, 1.0] and parameters: {'contamination': 0.09620246468628338, 'n_estimators': 265, 'max_samples': 587, 'threshold': 0.858332321641111}.\n",
      "[I 2025-10-06 20:21:52,516] Trial 14 finished with values: [1.0, 0.006420545746388443] and parameters: {'contamination': 0.41562546502589626, 'n_estimators': 267, 'max_samples': 351, 'threshold': 0.011924312243777102}.\n",
      "[I 2025-10-06 20:21:53,282] Trial 15 finished with values: [1.0, 1.0] and parameters: {'contamination': 0.3623898836268856, 'n_estimators': 229, 'max_samples': 403, 'threshold': 0.860186334843321}.\n",
      "[I 2025-10-06 20:21:54,232] Trial 16 finished with values: [1.0, 0.008] and parameters: {'contamination': 0.4856835918829547, 'n_estimators': 353, 'max_samples': 297, 'threshold': 0.03307046226619226}.\n",
      "[I 2025-10-06 20:21:55,056] Trial 17 finished with values: [1.0, 0.04081632653061224] and parameters: {'contamination': 0.08560194923880421, 'n_estimators': 226, 'max_samples': 612, 'threshold': 0.20371392252940146}.\n",
      "[I 2025-10-06 20:21:56,004] Trial 18 finished with values: [0.25, 1.0] and parameters: {'contamination': 0.08787497480509615, 'n_estimators': 324, 'max_samples': 427, 'threshold': 0.9964105383235904}.\n",
      "[I 2025-10-06 20:21:56,989] Trial 19 finished with values: [1.0, 0.25] and parameters: {'contamination': 0.2384894788650019, 'n_estimators': 407, 'max_samples': 182, 'threshold': 0.5520728670887681}.\n"
     ]
    }
   ],
   "source": [
    "# Reload the hp module to refresh in-memory variables\n",
    "# especially after updating parameters\n",
    "from importlib import reload\n",
    "reload(hp)\n",
    "\n",
    "# Check if the schema in the script has been updated \n",
    "# based on the current constraints specified \n",
    "# from the notebook\n",
    "print(\"Current hyperparameter config:\")\n",
    "print(hp.IFOREST_HP_CONFIG)\n",
    "print(\"-\"*70)\n",
    "\n",
    "# Instantiate an optuna study for iForest model\n",
    "sampler = optuna.samplers.TPESampler(seed=42)\n",
    "\n",
    "selected_feature_cols = (\n",
    "    \"log_max_diff_dQ\",\n",
    "    \"log_max_diff_dV\")\n",
    "\n",
    "if_study = optuna.create_study(\n",
    "    study_name=\"iforest_hyperparam\",\n",
    "    sampler=sampler,\n",
    "    directions=[\"maximize\",\"maximize\"])\n",
    "\n",
    "if_study.optimize(\n",
    "    lambda trial: hp.objective(\n",
    "        trial,\n",
    "        model_id=\"iforest\",\n",
    "        df_feature_dataset=df_features_per_cell,\n",
    "        selected_feature_cols=selected_feature_cols,\n",
    "        df_benchmark_dataset=df_selected_cell,\n",
    "        selected_cell_label=selected_cell_label),\n",
    "    n_trials=20)"
   ]
  },
  {
   "cell_type": "markdown",
   "id": "ebe47b56-88b1-42f3-8cc0-abadfd04ca27",
   "metadata": {},
   "source": [
    "## Aggregate best trials"
   ]
  },
  {
   "cell_type": "code",
   "execution_count": 14,
   "id": "21552447-ec74-4e4c-b552-648a7972eef9",
   "metadata": {},
   "outputs": [
    {
     "data": {
      "text/html": [
       "<div>\n",
       "<style scoped>\n",
       "    .dataframe tbody tr th:only-of-type {\n",
       "        vertical-align: middle;\n",
       "    }\n",
       "\n",
       "    .dataframe tbody tr th {\n",
       "        vertical-align: top;\n",
       "    }\n",
       "\n",
       "    .dataframe thead th {\n",
       "        text-align: right;\n",
       "    }\n",
       "</style>\n",
       "<table border=\"1\" class=\"dataframe\">\n",
       "  <thead>\n",
       "    <tr style=\"text-align: right;\">\n",
       "      <th></th>\n",
       "      <th>ml_model</th>\n",
       "      <th>cell_index</th>\n",
       "      <th>threshold</th>\n",
       "      <th>contamination</th>\n",
       "      <th>n_estimators</th>\n",
       "      <th>max_samples</th>\n",
       "    </tr>\n",
       "  </thead>\n",
       "  <tbody>\n",
       "    <tr>\n",
       "      <th>0</th>\n",
       "      <td>iforest</td>\n",
       "      <td>2017-05-12_5_4C-70per_3C_CH17</td>\n",
       "      <td>0.858332</td>\n",
       "      <td>0.096202</td>\n",
       "      <td>265</td>\n",
       "      <td>587</td>\n",
       "    </tr>\n",
       "  </tbody>\n",
       "</table>\n",
       "</div>"
      ]
     },
     "metadata": {},
     "output_type": "display_data"
    }
   ],
   "source": [
    "schema_iforest = {\n",
    "    \"threshold\": \"median\",\n",
    "    \"contamination\": \"median\",\n",
    "    \"n_estimators\": \"median_int\",\n",
    "    \"max_samples\": \"median_int\",\n",
    "}\n",
    "\n",
    "df_iforest_hyperparam = hp.aggregate_best_trials(\n",
    "    if_study.best_trials,\n",
    "    cell_label=selected_cell_label,\n",
    "    model_id=\"iforest\",\n",
    "    schema=schema_iforest)\n",
    "\n",
    "df_iforest_hyperparam"
   ]
  },
  {
   "cell_type": "markdown",
   "id": "8a1109e8-79f6-40d1-b04a-fcff85ab95f9",
   "metadata": {},
   "source": [
    "## Evaluate percentage of perfect recall and precision score"
   ]
  },
  {
   "cell_type": "code",
   "execution_count": 15,
   "id": "33f3dbef-bbad-4a02-a83c-74123af986ac",
   "metadata": {},
   "outputs": [
    {
     "name": "stdout",
     "output_type": "stream",
     "text": [
      "\u001b[38;21mTotal trial count: 20\n",
      "\u001b[38;21mTrial 0:\n",
      "Recall score per trial: 1.0\n",
      "Precision score per trial: 0.8\n",
      "\u001b[38;21m----------------------------------------------------------------------\n",
      "\u001b[38;21mTrial 1:\n",
      "Recall score per trial: 0.5\n",
      "Precision score per trial: 1.0\n",
      "\u001b[38;21m----------------------------------------------------------------------\n",
      "\u001b[38;21mTrial 2:\n",
      "Recall score per trial: 0.25\n",
      "Precision score per trial: 1.0\n",
      "\u001b[38;21m----------------------------------------------------------------------\n",
      "\u001b[38;21mTrial 3:\n",
      "Recall score per trial: 1.0\n",
      "Precision score per trial: 0.022222222222222223\n",
      "\u001b[38;21m----------------------------------------------------------------------\n",
      "\u001b[38;21mTrial 4:\n",
      "Recall score per trial: 1.0\n",
      "Precision score per trial: 0.07272727272727272\n",
      "\u001b[38;21m----------------------------------------------------------------------\n",
      "\u001b[38;21mTrial 5:\n",
      "Recall score per trial: 1.0\n",
      "Precision score per trial: 0.08163265306122448\n",
      "\u001b[38;21m----------------------------------------------------------------------\n",
      "\u001b[38;21mTrial 6:\n",
      "Recall score per trial: 1.0\n",
      "Precision score per trial: 0.2222222222222222\n",
      "\u001b[38;21m----------------------------------------------------------------------\n",
      "\u001b[38;21mTrial 7:\n",
      "Recall score per trial: 1.0\n",
      "Precision score per trial: 0.03076923076923077\n",
      "\u001b[38;21m----------------------------------------------------------------------\n",
      "\u001b[38;21mTrial 8:\n",
      "Recall score per trial: 1.0\n",
      "Precision score per trial: 1.0\n",
      "\u001b[38;21m----------------------------------------------------------------------\n",
      "\u001b[38;21mTrial 9:\n",
      "Recall score per trial: 1.0\n",
      "Precision score per trial: 0.2857142857142857\n",
      "\u001b[38;21m----------------------------------------------------------------------\n",
      "\u001b[38;21mTrial 10:\n",
      "Recall score per trial: 1.0\n",
      "Precision score per trial: 0.8\n",
      "\u001b[38;21m----------------------------------------------------------------------\n",
      "\u001b[38;21mTrial 11:\n",
      "Recall score per trial: 1.0\n",
      "Precision score per trial: 0.8\n",
      "\u001b[38;21m----------------------------------------------------------------------\n",
      "\u001b[38;21mTrial 12:\n",
      "Recall score per trial: 1.0\n",
      "Precision score per trial: 0.8\n",
      "\u001b[38;21m----------------------------------------------------------------------\n",
      "\u001b[38;21mTrial 13:\n",
      "Recall score per trial: 1.0\n",
      "Precision score per trial: 1.0\n",
      "\u001b[38;21m----------------------------------------------------------------------\n",
      "\u001b[38;21mTrial 14:\n",
      "Recall score per trial: 1.0\n",
      "Precision score per trial: 0.006420545746388443\n",
      "\u001b[38;21m----------------------------------------------------------------------\n",
      "\u001b[38;21mTrial 15:\n",
      "Recall score per trial: 1.0\n",
      "Precision score per trial: 1.0\n",
      "\u001b[38;21m----------------------------------------------------------------------\n",
      "\u001b[38;21mTrial 16:\n",
      "Recall score per trial: 1.0\n",
      "Precision score per trial: 0.008\n",
      "\u001b[38;21m----------------------------------------------------------------------\n",
      "\u001b[38;21mTrial 17:\n",
      "Recall score per trial: 1.0\n",
      "Precision score per trial: 0.04081632653061224\n",
      "\u001b[38;21m----------------------------------------------------------------------\n",
      "\u001b[38;21mTrial 18:\n",
      "Recall score per trial: 0.25\n",
      "Precision score per trial: 1.0\n",
      "\u001b[38;21m----------------------------------------------------------------------\n",
      "\u001b[38;21mTrial 19:\n",
      "Recall score per trial: 1.0\n",
      "Precision score per trial: 0.25\n",
      "\u001b[38;21m----------------------------------------------------------------------\n",
      "\u001b[38;21mPercentage perfect recall score: 85.0\n",
      "\u001b[38;21mPercentage perfect precision score: 30.0\n",
      "\u001b[38;21m****************************************************************************************************\n"
     ]
    }
   ],
   "source": [
    "recall_score_pct, precision_score_pct = hp.evaluate_hp_perfect_score_pct(\n",
    "    model_study=if_study)"
   ]
  },
  {
   "cell_type": "markdown",
   "id": "c73356bd-ce33-4998-9763-33fd12c6db39",
   "metadata": {},
   "source": [
    "## Plot pareto front"
   ]
  },
  {
   "cell_type": "code",
   "execution_count": 16,
   "id": "af101b37-1640-4b4d-b797-a9b049682847",
   "metadata": {},
   "outputs": [
    {
     "name": "stderr",
     "output_type": "stream",
     "text": [
      "/home/mei-chin-pang/02_academics/osbad_development/osbad/src/osbad/hyperparam.py:1187: ExperimentalWarning: optuna.visualization.matplotlib._pareto_front.plot_pareto_front is experimental (supported from v2.8.0). The interface can change in the future.\n",
      "  axplot = optuna.visualization.matplotlib.plot_pareto_front(\n",
      "Ignoring fixed x limits to fulfill fixed data aspect with adjustable data limits.\n"
     ]
    },
    {
     "data": {
      "image/png": "[encoded data removed]",
      "text/plain": [
       "<Figure size 640x480 with 1 Axes>"
      ]
     },
     "metadata": {},
     "output_type": "display_data"
    }
   ],
   "source": [
    "hp.plot_pareto_front(\n",
    "    if_study,\n",
    "    selected_cell_label,\n",
    "    fig_title=\"Isolation Forest Pareto Front\")\n",
    "\n",
    "plt.show()"
   ]
  },
  {
   "cell_type": "markdown",
   "id": "4378369d-a61f-4b9b-b10f-7f689ce2cd03",
   "metadata": {},
   "source": [
    "## Export current hyperparameters to CSV "
   ]
  },
  {
   "cell_type": "code",
   "execution_count": 17,
   "id": "aeec635e-336e-4eb8-98f1-91607ed4bfdf",
   "metadata": {},
   "outputs": [
    {
     "name": "stdout",
     "output_type": "stream",
     "text": [
      "\u001b[38;21mHave the hyperparam for 2017-05-12_5_4C-70per_3C_CH17 been evaluated?\n",
      "\u001b[38;21mTrue\n",
      "\u001b[38;21m**********************************************************************\n",
      "\u001b[38;21mReplacing existing rows for 2017-05-12_5_4C-70per_3C_CH17.\n",
      "\u001b[38;21mHyperparameters for 2017-05-12_5_4C-70per_3C_CH17 have been replaced in the CSV file.\n"
     ]
    },
    {
     "data": {
      "text/html": [
       "<div>\n",
       "<style scoped>\n",
       "    .dataframe tbody tr th:only-of-type {\n",
       "        vertical-align: middle;\n",
       "    }\n",
       "\n",
       "    .dataframe tbody tr th {\n",
       "        vertical-align: top;\n",
       "    }\n",
       "\n",
       "    .dataframe thead th {\n",
       "        text-align: right;\n",
       "    }\n",
       "</style>\n",
       "<table border=\"1\" class=\"dataframe\">\n",
       "  <thead>\n",
       "    <tr style=\"text-align: right;\">\n",
       "      <th></th>\n",
       "      <th>ml_model</th>\n",
       "      <th>cell_index</th>\n",
       "      <th>threshold</th>\n",
       "      <th>contamination</th>\n",
       "      <th>n_estimators</th>\n",
       "      <th>max_samples</th>\n",
       "    </tr>\n",
       "  </thead>\n",
       "  <tbody>\n",
       "    <tr>\n",
       "      <th>0</th>\n",
       "      <td>iforest</td>\n",
       "      <td>2017-05-12_5_4C-70per_3C_CH17</td>\n",
       "      <td>0.858332</td>\n",
       "      <td>0.096202</td>\n",
       "      <td>265</td>\n",
       "      <td>587</td>\n",
       "    </tr>\n",
       "  </tbody>\n",
       "</table>\n",
       "</div>"
      ]
     },
     "metadata": {},
     "output_type": "display_data"
    }
   ],
   "source": [
    "# Export current hyperparameters to CSV\n",
    "hyperparam_filepath =  PIPELINE_OUTPUT_DIR.joinpath(\n",
    "    \"hyperparams_iforest_severson.csv\")\n",
    "\n",
    "hp.export_current_hyperparam(\n",
    "    df_iforest_hyperparam,\n",
    "    selected_cell_label,\n",
    "    export_csv_filepath=hyperparam_filepath,\n",
    "    if_exists=\"replace\")"
   ]
  },
  {
   "cell_type": "markdown",
   "id": "5084d8c6-0615-4d70-b0ad-e5b8833940f2",
   "metadata": {},
   "source": [
    "# Train model with best trial parameters"
   ]
  },
  {
   "cell_type": "markdown",
   "id": "b2c723cd-800c-48d3-a943-2fd47565df69",
   "metadata": {},
   "source": [
    "## Load best trial parameters from CSV output"
   ]
  },
  {
   "cell_type": "code",
   "execution_count": 18,
   "id": "6e5bcf73-254b-4a40-91bf-fac2c47db71c",
   "metadata": {},
   "outputs": [
    {
     "data": {
      "text/html": [
       "<div>\n",
       "<style scoped>\n",
       "    .dataframe tbody tr th:only-of-type {\n",
       "        vertical-align: middle;\n",
       "    }\n",
       "\n",
       "    .dataframe tbody tr th {\n",
       "        vertical-align: top;\n",
       "    }\n",
       "\n",
       "    .dataframe thead th {\n",
       "        text-align: right;\n",
       "    }\n",
       "</style>\n",
       "<table border=\"1\" class=\"dataframe\">\n",
       "  <thead>\n",
       "    <tr style=\"text-align: right;\">\n",
       "      <th></th>\n",
       "      <th>ml_model</th>\n",
       "      <th>cell_index</th>\n",
       "      <th>threshold</th>\n",
       "      <th>contamination</th>\n",
       "      <th>n_estimators</th>\n",
       "      <th>max_samples</th>\n",
       "    </tr>\n",
       "  </thead>\n",
       "  <tbody>\n",
       "    <tr>\n",
       "      <th>0</th>\n",
       "      <td>iforest</td>\n",
       "      <td>2017-05-12_5_4C-70per_3C_CH17</td>\n",
       "      <td>0.858332</td>\n",
       "      <td>0.096202</td>\n",
       "      <td>265</td>\n",
       "      <td>587</td>\n",
       "    </tr>\n",
       "  </tbody>\n",
       "</table>\n",
       "</div>"
      ]
     },
     "metadata": {},
     "output_type": "display_data"
    }
   ],
   "source": [
    "# Test reading from exported metrics\n",
    "df_hyperparam_from_csv = pd.read_csv(hyperparam_filepath)\n",
    "\n",
    "df_param_per_cell = df_hyperparam_from_csv[\n",
    "    df_hyperparam_from_csv[\"cell_index\"] == selected_cell_label]\n",
    "df_param_per_cell"
   ]
  },
  {
   "cell_type": "markdown",
   "id": "8b5e1b61-69bb-461b-b615-5ba881cf1595",
   "metadata": {},
   "source": [
    "## Create a dict for best trial parameters"
   ]
  },
  {
   "cell_type": "code",
   "execution_count": 19,
   "id": "aca38ed1-456d-42d8-bec5-5172e0234d89",
   "metadata": {},
   "outputs": [
    {
     "name": "stdout",
     "output_type": "stream",
     "text": [
      "{'ml_model': 'iforest',\n",
      " 'cell_index': '2017-05-12_5_4C-70per_3C_CH17',\n",
      " 'threshold': 0.858332321641111,\n",
      " 'contamination': 0.09620246468628338,\n",
      " 'n_estimators': 265,\n",
      " 'max_samples': 587}\n"
     ]
    }
   ],
   "source": [
    "param_dict = df_param_per_cell.iloc[0].to_dict()\n",
    "pprint.pp(param_dict)"
   ]
  },
  {
   "cell_type": "markdown",
   "id": "098a7b1e-0bba-4489-ad2d-92e5fea1f0fc",
   "metadata": {},
   "source": [
    "## Run the model with best trial parameters"
   ]
  },
  {
   "cell_type": "code",
   "execution_count": 20,
   "id": "e11d9310-a212-46be-84c3-8966616a7cdc",
   "metadata": {},
   "outputs": [
    {
     "name": "stdout",
     "output_type": "stream",
     "text": [
      "IForest(behaviour='new', bootstrap=False, contamination=0.09620246468628338,\n",
      "    max_features=1.0, max_samples=587, n_estimators=265, n_jobs=-1,\n",
      "    random_state=42, verbose=0)\n"
     ]
    },
    {
     "data": {
      "text/plain": [
       "(array([  0,  40, 147, 148]),\n",
       " array([0.94306571, 0.97168569, 1.        , 0.9997332 ]))"
      ]
     },
     "execution_count": 20,
     "metadata": {},
     "output_type": "execute_result"
    }
   ],
   "source": [
    "cfg = hp.MODEL_CONFIG[\"iforest\"]\n",
    "\n",
    "runner = ModelRunner(\n",
    "    cell_label=selected_cell_label,\n",
    "    df_input_features=df_features_per_cell,\n",
    "    selected_feature_cols=selected_feature_cols\n",
    ")\n",
    "\n",
    "Xdata = runner.create_model_x_input()\n",
    "\n",
    "model = cfg.model_param(param_dict)\n",
    "print(model)\n",
    "model.fit(Xdata)\n",
    "proba = model.predict_proba(Xdata)\n",
    "\n",
    "pred_outlier_indices, pred_outlier_score = runner.pred_outlier_indices_from_proba(\n",
    "    proba=proba,\n",
    "    threshold=param_dict[\"threshold\"],\n",
    "    outlier_col=cfg.proba_col\n",
    ")\n",
    "\n",
    "pred_outlier_indices, pred_outlier_score"
   ]
  },
  {
   "cell_type": "markdown",
   "id": "b526dd24-89d3-49d6-b6a9-0169eacf3e76",
   "metadata": {},
   "source": [
    "## Get df_outliers_pred"
   ]
  },
  {
   "cell_type": "code",
   "execution_count": 21,
   "id": "9e3b5382-c34c-4b15-ae81-c41d44014ae7",
   "metadata": {},
   "outputs": [
    {
     "data": {
      "text/html": [
       "<div>\n",
       "<style scoped>\n",
       "    .dataframe tbody tr th:only-of-type {\n",
       "        vertical-align: middle;\n",
       "    }\n",
       "\n",
       "    .dataframe tbody tr th {\n",
       "        vertical-align: top;\n",
       "    }\n",
       "\n",
       "    .dataframe thead th {\n",
       "        text-align: right;\n",
       "    }\n",
       "</style>\n",
       "<table border=\"1\" class=\"dataframe\">\n",
       "  <thead>\n",
       "    <tr style=\"text-align: right;\">\n",
       "      <th></th>\n",
       "      <th>max_diff_dQ</th>\n",
       "      <th>log_max_diff_dQ</th>\n",
       "      <th>cycle_index</th>\n",
       "      <th>max_diff_dV</th>\n",
       "      <th>log_max_diff_dV</th>\n",
       "      <th>cell_index</th>\n",
       "      <th>outlier_prob</th>\n",
       "    </tr>\n",
       "  </thead>\n",
       "  <tbody>\n",
       "    <tr>\n",
       "      <th>0</th>\n",
       "      <td>0.006388</td>\n",
       "      <td>-5.053343</td>\n",
       "      <td>0.0</td>\n",
       "      <td>1.564151</td>\n",
       "      <td>0.447343</td>\n",
       "      <td>2017-05-12_5_4C-70per_3C_CH17</td>\n",
       "      <td>0.943066</td>\n",
       "    </tr>\n",
       "    <tr>\n",
       "      <th>40</th>\n",
       "      <td>0.006305</td>\n",
       "      <td>-5.066425</td>\n",
       "      <td>40.0</td>\n",
       "      <td>2.612268</td>\n",
       "      <td>0.960219</td>\n",
       "      <td>2017-05-12_5_4C-70per_3C_CH17</td>\n",
       "      <td>0.971686</td>\n",
       "    </tr>\n",
       "    <tr>\n",
       "      <th>147</th>\n",
       "      <td>0.042814</td>\n",
       "      <td>-3.150895</td>\n",
       "      <td>147.0</td>\n",
       "      <td>0.029431</td>\n",
       "      <td>-3.525697</td>\n",
       "      <td>2017-05-12_5_4C-70per_3C_CH17</td>\n",
       "      <td>1.000000</td>\n",
       "    </tr>\n",
       "    <tr>\n",
       "      <th>148</th>\n",
       "      <td>0.042899</td>\n",
       "      <td>-3.148905</td>\n",
       "      <td>148.0</td>\n",
       "      <td>0.025238</td>\n",
       "      <td>-3.679404</td>\n",
       "      <td>2017-05-12_5_4C-70per_3C_CH17</td>\n",
       "      <td>0.999733</td>\n",
       "    </tr>\n",
       "  </tbody>\n",
       "</table>\n",
       "</div>"
      ],
      "text/plain": [
       "     max_diff_dQ  log_max_diff_dQ  cycle_index  max_diff_dV  log_max_diff_dV  \\\n",
       "0       0.006388        -5.053343          0.0     1.564151         0.447343   \n",
       "40      0.006305        -5.066425         40.0     2.612268         0.960219   \n",
       "147     0.042814        -3.150895        147.0     0.029431        -3.525697   \n",
       "148     0.042899        -3.148905        148.0     0.025238        -3.679404   \n",
       "\n",
       "                        cell_index  outlier_prob  \n",
       "0    2017-05-12_5_4C-70per_3C_CH17      0.943066  \n",
       "40   2017-05-12_5_4C-70per_3C_CH17      0.971686  \n",
       "147  2017-05-12_5_4C-70per_3C_CH17      1.000000  \n",
       "148  2017-05-12_5_4C-70per_3C_CH17      0.999733  "
      ]
     },
     "execution_count": 21,
     "metadata": {},
     "output_type": "execute_result"
    }
   ],
   "source": [
    "df_outliers_pred = (df_features_per_cell[\n",
    "    df_features_per_cell[\"cycle_index\"]\n",
    "    .isin(pred_outlier_indices)].copy())\n",
    "\n",
    "df_outliers_pred[\"outlier_prob\"] = pred_outlier_score\n",
    "df_outliers_pred"
   ]
  },
  {
   "cell_type": "markdown",
   "id": "f811d8c0-a079-493e-810a-e9e2ad440341",
   "metadata": {},
   "source": [
    "## Predict anomaly score map"
   ]
  },
  {
   "cell_type": "code",
   "execution_count": 22,
   "id": "5feed4fa-4985-470e-a2c0-06061a71dec8",
   "metadata": {},
   "outputs": [
    {
     "data": {
      "image/png": "[encoded data removed]",
      "text/plain": [
       "<Figure size 800x500 with 2 Axes>"
      ]
     },
     "metadata": {},
     "output_type": "display_data"
    }
   ],
   "source": [
    "axplot = runner.predict_anomaly_score_map(\n",
    "    selected_model=model,\n",
    "    model_name=\"Isolation Forest\",\n",
    "    xoutliers=df_outliers_pred[\"log_max_diff_dQ\"],\n",
    "    youtliers=df_outliers_pred[\"log_max_diff_dV\"],\n",
    "    pred_outliers_index=pred_outlier_indices,\n",
    "    threshold=param_dict[\"threshold\"]\n",
    ")\n",
    "\n",
    "axplot.set_xlabel(\n",
    "    r\"$\\log(\\Delta Q_\\textrm{scaled,max,cyc)}\\;\\textrm{[Ah]}$\",\n",
    "    fontsize=12)\n",
    "axplot.set_ylabel(\n",
    "    r\"$\\log(\\Delta V_\\textrm{scaled,max,cyc})\\;\\textrm{[V]}$\",\n",
    "    fontsize=12)\n",
    "\n",
    "output_fig_filename = (\n",
    "    \"iforest_\"\n",
    "    + selected_cell_label\n",
    "    + \".png\")\n",
    "\n",
    "fig_output_path = (\n",
    "    selected_cell_artifacts_dir\n",
    "    .joinpath(output_fig_filename))\n",
    "\n",
    "plt.savefig(\n",
    "    fig_output_path,\n",
    "    dpi=600,\n",
    "    bbox_inches=\"tight\")\n",
    "\n",
    "plt.show()"
   ]
  },
  {
   "cell_type": "markdown",
   "id": "f97db494-7e89-4d30-89ad-1b9f443dc120",
   "metadata": {},
   "source": [
    "# Model performance evaluation"
   ]
  },
  {
   "cell_type": "code",
   "execution_count": 23,
   "id": "88f7c421-dfb0-4b76-8e5d-ac2010ad4faa",
   "metadata": {},
   "outputs": [],
   "source": [
    "df_eval_outlier = modval.evaluate_pred_outliers(\n",
    "    df_benchmark=df_selected_cell,\n",
    "    outlier_cycle_index=pred_outlier_indices)"
   ]
  },
  {
   "cell_type": "markdown",
   "id": "57eb737d-58c2-4905-8226-7ef6b6047044",
   "metadata": {},
   "source": [
    "## Confusion matrix"
   ]
  },
  {
   "cell_type": "code",
   "execution_count": 24,
   "id": "7a814cb1-f128-4ca9-8168-98edbe7a231b",
   "metadata": {},
   "outputs": [
    {
     "data": {
      "image/png": "[encoded data removed]",
      "text/plain": [
       "<Figure size 600x400 with 1 Axes>"
      ]
     },
     "metadata": {},
     "output_type": "display_data"
    }
   ],
   "source": [
    "axplot = modval.generate_confusion_matrix(\n",
    "    y_true=df_eval_outlier[\"true_outlier\"],\n",
    "    y_pred=df_eval_outlier[\"pred_outlier\"])\n",
    "\n",
    "axplot.set_title(\n",
    "    \"Isolation Forest\",\n",
    "    fontsize=16)\n",
    "\n",
    "output_fig_filename = (\n",
    "    \"conf_matrix_iforest_\"\n",
    "    + selected_cell_label\n",
    "    + \".png\")\n",
    "\n",
    "fig_output_path = (\n",
    "    selected_cell_artifacts_dir\n",
    "    .joinpath(output_fig_filename))\n",
    "\n",
    "plt.savefig(\n",
    "    fig_output_path,\n",
    "    dpi=600,\n",
    "    bbox_inches=\"tight\")\n",
    "\n",
    "plt.show()"
   ]
  },
  {
   "cell_type": "markdown",
   "id": "93674ed0-adfa-4fa8-b236-d720ff4fe5eb",
   "metadata": {},
   "source": [
    "## Evaluate model performance"
   ]
  },
  {
   "cell_type": "code",
   "execution_count": 25,
   "id": "625ce13b-b98c-4b6a-94a5-1085c92e8723",
   "metadata": {},
   "outputs": [
    {
     "name": "stdout",
     "output_type": "stream",
     "text": [
      "Accuracy: 1.0\n",
      "Precision: 1.0\n",
      "Recall: 1.0\n",
      "F1-score: 1.0\n",
      "MCC-score: 1.0\n",
      "****************************************************************************************************\n"
     ]
    },
    {
     "data": {
      "text/html": [
       "<div>\n",
       "<style scoped>\n",
       "    .dataframe tbody tr th:only-of-type {\n",
       "        vertical-align: middle;\n",
       "    }\n",
       "\n",
       "    .dataframe tbody tr th {\n",
       "        vertical-align: top;\n",
       "    }\n",
       "\n",
       "    .dataframe thead th {\n",
       "        text-align: right;\n",
       "    }\n",
       "</style>\n",
       "<table border=\"1\" class=\"dataframe\">\n",
       "  <thead>\n",
       "    <tr style=\"text-align: right;\">\n",
       "      <th></th>\n",
       "      <th>ml_model</th>\n",
       "      <th>cell_index</th>\n",
       "      <th>accuracy</th>\n",
       "      <th>precision</th>\n",
       "      <th>recall</th>\n",
       "      <th>f1_score</th>\n",
       "      <th>mcc_score</th>\n",
       "    </tr>\n",
       "  </thead>\n",
       "  <tbody>\n",
       "    <tr>\n",
       "      <th>0</th>\n",
       "      <td>iforest</td>\n",
       "      <td>2017-05-12_5_4C-70per_3C_CH17</td>\n",
       "      <td>1.0</td>\n",
       "      <td>1.0</td>\n",
       "      <td>1.0</td>\n",
       "      <td>1.0</td>\n",
       "      <td>1.0</td>\n",
       "    </tr>\n",
       "  </tbody>\n",
       "</table>\n",
       "</div>"
      ]
     },
     "metadata": {},
     "output_type": "display_data"
    }
   ],
   "source": [
    "df_current_eval_metrics = modval.eval_model_performance(\n",
    "    model_name=\"iforest\",\n",
    "    selected_cell_label=selected_cell_label,\n",
    "    df_eval_outliers=df_eval_outlier)\n",
    "\n",
    "df_current_eval_metrics"
   ]
  },
  {
   "cell_type": "markdown",
   "id": "1f54b213-7587-4499-9e66-995f7e2494a9",
   "metadata": {},
   "source": [
    "## Export model performance metrics to CSV output"
   ]
  },
  {
   "cell_type": "code",
   "execution_count": 26,
   "id": "e9b75d84-d9ba-4dec-9896-6bac2cad53a4",
   "metadata": {},
   "outputs": [
    {
     "name": "stdout",
     "output_type": "stream",
     "text": [
      "\u001b[38;21mHave the metrics for iforest on cell 2017-05-12_5_4C-70per_3C_CH17 been evaluated before?\n",
      "\u001b[38;21mTrue\n",
      "\u001b[38;21m----------------------------------------------------------------------\n",
      "\u001b[38;21mReplacing existing row for iforest, 2017-05-12_5_4C-70per_3C_CH17.\n",
      "\u001b[38;21mMetrics for iforest, 2017-05-12_5_4C-70per_3C_CH17 have been replaced in the CSV file.\n"
     ]
    },
    {
     "data": {
      "text/html": [
       "<div>\n",
       "<style scoped>\n",
       "    .dataframe tbody tr th:only-of-type {\n",
       "        vertical-align: middle;\n",
       "    }\n",
       "\n",
       "    .dataframe tbody tr th {\n",
       "        vertical-align: top;\n",
       "    }\n",
       "\n",
       "    .dataframe thead th {\n",
       "        text-align: right;\n",
       "    }\n",
       "</style>\n",
       "<table border=\"1\" class=\"dataframe\">\n",
       "  <thead>\n",
       "    <tr style=\"text-align: right;\">\n",
       "      <th></th>\n",
       "      <th>ml_model</th>\n",
       "      <th>cell_index</th>\n",
       "      <th>accuracy</th>\n",
       "      <th>precision</th>\n",
       "      <th>recall</th>\n",
       "      <th>f1_score</th>\n",
       "      <th>mcc_score</th>\n",
       "    </tr>\n",
       "  </thead>\n",
       "  <tbody>\n",
       "    <tr>\n",
       "      <th>0</th>\n",
       "      <td>iforest</td>\n",
       "      <td>2017-05-12_5_4C-70per_3C_CH17</td>\n",
       "      <td>1.0</td>\n",
       "      <td>1.0</td>\n",
       "      <td>1.0</td>\n",
       "      <td>1.0</td>\n",
       "      <td>1.0</td>\n",
       "    </tr>\n",
       "  </tbody>\n",
       "</table>\n",
       "</div>"
      ]
     },
     "metadata": {},
     "output_type": "display_data"
    }
   ],
   "source": [
    "# Export current metrics to CSV\n",
    "hyperparam_eval_filepath =  Path.cwd().joinpath(\n",
    "    \"eval_metrics_hp_single_cell_severson.csv\")\n",
    "\n",
    "hp.export_current_model_metrics(\n",
    "    model_name=\"iforest\",\n",
    "    selected_cell_label=selected_cell_label,\n",
    "    df_current_eval_metrics=df_current_eval_metrics,\n",
    "    export_csv_filepath=hyperparam_eval_filepath,\n",
    "    if_exists=\"replace\")"
   ]
  },
  {
   "cell_type": "markdown",
   "id": "b16fec5d-067e-494f-98f4-27d9ead0c103",
   "metadata": {},
   "source": [
    "# Finally: check with true labels"
   ]
  },
  {
   "cell_type": "markdown",
   "id": "c5a1a954-3ee5-444f-84ab-2b7b7e718053",
   "metadata": {},
   "source": [
    "## Plot cycle data with labels"
   ]
  },
  {
   "cell_type": "code",
   "execution_count": 27,
   "id": "f875832d-87d0-4c9e-a830-de5b37cb6935",
   "metadata": {},
   "outputs": [
    {
     "name": "stdout",
     "output_type": "stream",
     "text": [
      "True outlier cycle index:\n",
      "[  0.  40. 147. 148.]\n"
     ]
    },
    {
     "data": {
      "image/png": "[encoded data removed]",
      "text/plain": [
       "<Figure size 1000x600 with 2 Axes>"
      ]
     },
     "metadata": {},
     "output_type": "display_data"
    }
   ],
   "source": [
    "# Extract true outliers cycle index from benchmarking dataset\n",
    "true_outlier_cycle_index = benchdb.get_true_outlier_cycle_index(\n",
    "    df_selected_cell)\n",
    "print(f\"True outlier cycle index:\")\n",
    "print(true_outlier_cycle_index)\n",
    "\n",
    "# Plot cell data with true anomalies\n",
    "# If the true outlier cycle index is not known,\n",
    "# cycling data will be plotted without labels\n",
    "benchdb.plot_cycle_data(\n",
    "    df_selected_cell_without_labels,\n",
    "    true_outlier_cycle_index)\n",
    "\n",
    "output_fig_filename = (\n",
    "    \"cycle_data_with_labels_\"\n",
    "    + selected_cell_label\n",
    "    + \".png\")\n",
    "\n",
    "fig_output_path = (\n",
    "    selected_cell_artifacts_dir.joinpath(output_fig_filename))\n",
    "\n",
    "plt.savefig(\n",
    "    fig_output_path,\n",
    "    dpi=600,\n",
    "    bbox_inches=\"tight\")\n",
    "\n",
    "plt.show()"
   ]
  },
  {
   "cell_type": "markdown",
   "id": "28e8d2b0-2472-4497-9761-ab7d21f877c0",
   "metadata": {},
   "source": [
    "## Calculate bubble size ratio"
   ]
  },
  {
   "cell_type": "code",
   "execution_count": 28,
   "id": "8825432d-6744-48ec-a977-975eae306a84",
   "metadata": {},
   "outputs": [
    {
     "name": "stdout",
     "output_type": "stream",
     "text": [
      "Feature mean: 0.00641125672398844\n",
      "Feature max: 0.042899057000000074\n",
      "Feature min: 0.006194469999999952\n",
      "Feature std: 0.0019646872892444154\n",
      "**********************************************************************\n",
      "Feature mean: 0.04105323627167629\n",
      "Feature max: 2.612268400000005\n",
      "Feature min: 0.022684100000000207\n",
      "Feature std: 0.11397361246602544\n",
      "**********************************************************************\n"
     ]
    }
   ],
   "source": [
    "# Calculate the bubble size ratio for plotting\n",
    "df_bubble_size_dQ = bviz.calculate_bubble_size_ratio(\n",
    "    df_variable=df_features_per_cell[\"max_diff_dQ\"])\n",
    "\n",
    "df_bubble_size_dV = bviz.calculate_bubble_size_ratio(\n",
    "    df_variable=df_features_per_cell[\"max_diff_dV\"])\n",
    "\n",
    "bubble_size = (\n",
    "    np.abs(df_bubble_size_dV)\n",
    "    * np.abs(df_bubble_size_dQ))"
   ]
  },
  {
   "cell_type": "markdown",
   "id": "520e4bf2-894a-469c-ac57-b25c9ec830b4",
   "metadata": {},
   "source": [
    "## Plot the bubble chart and label the true outliers"
   ]
  },
  {
   "cell_type": "code",
   "execution_count": 29,
   "id": "cbdae17f-b03c-4727-a388-cf5ab8948a86",
   "metadata": {},
   "outputs": [
    {
     "name": "stdout",
     "output_type": "stream",
     "text": [
      "Potential anomalous cycle: 0.0\n",
      "x-position of the text: -5.053343441284631\n",
      "y-position of the text: 0.44734305691240445\n",
      "----------------------------------------------------------------------\n",
      "Potential anomalous cycle: 40.0\n",
      "x-position of the text: -5.066424997988364\n",
      "y-position of the text: 0.9602189626435208\n",
      "----------------------------------------------------------------------\n",
      "Potential anomalous cycle: 147.0\n",
      "x-position of the text: -3.1508950320267735\n",
      "y-position of the text: -3.5256965450993665\n",
      "----------------------------------------------------------------------\n",
      "Potential anomalous cycle: 148.0\n",
      "x-position of the text: -3.1489054346417387\n",
      "y-position of the text: -3.6794044837514233\n",
      "----------------------------------------------------------------------\n"
     ]
    },
    {
     "data": {
      "image/png": "[encoded data removed]",
      "text/plain": [
       "<Figure size 640x480 with 1 Axes>"
      ]
     },
     "metadata": {},
     "output_type": "display_data"
    }
   ],
   "source": [
    "# Plot the bubble chart and label the outliers\n",
    "axplot = bviz.plot_bubble_chart(\n",
    "    xseries=df_features_per_cell[\"log_max_diff_dQ\"],\n",
    "    yseries=df_features_per_cell[\"log_max_diff_dV\"],\n",
    "    bubble_size=bubble_size,\n",
    "    unique_cycle_count=unique_cycle_count,\n",
    "    cycle_outlier_idx_label=true_outlier_cycle_index)\n",
    "\n",
    "axplot.set_title(\n",
    "    f\"Cell {selected_cell_label}\", fontsize=13)\n",
    "\n",
    "axplot.set_xlabel(\n",
    "    r\"$\\log(\\Delta Q_\\textrm{scaled,max,cyc)}\\;\\textrm{[Ah]}$\",\n",
    "    fontsize=12)\n",
    "axplot.set_ylabel(\n",
    "    r\"$\\log(\\Delta V_\\textrm{scaled,max,cyc})\\;\\textrm{[V]}$\",\n",
    "    fontsize=12)\n",
    "\n",
    "output_fig_filename = (\n",
    "    \"log_bubble_plot_\"\n",
    "    + selected_cell_label\n",
    "    + \".png\")\n",
    "\n",
    "fig_output_path = (\n",
    "    selected_cell_artifacts_dir.joinpath(output_fig_filename))\n",
    "\n",
    "plt.savefig(\n",
    "    fig_output_path,\n",
    "    dpi=200,\n",
    "    bbox_inches=\"tight\")\n",
    "\n",
    "plt.show()"
   ]
  }
 ],
 "metadata": {
  "kernelspec": {
   "display_name": "Python 3 (ipykernel)",
   "language": "python",
   "name": "python3"
  },
  "language_info": {
   "codemirror_mode": {
    "name": "ipython",
    "version": 3
   },
   "file_extension": ".py",
   "mimetype": "text/x-python",
   "name": "python",
   "nbconvert_exporter": "python",
   "pygments_lexer": "ipython3",
   "version": "3.12.11"
  }
 },
 "nbformat": 4,
 "nbformat_minor": 5
}
