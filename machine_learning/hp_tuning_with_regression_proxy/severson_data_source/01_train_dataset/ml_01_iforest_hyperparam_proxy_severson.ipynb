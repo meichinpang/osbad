{
 "cells": [
  {
   "cell_type": "markdown",
   "id": "146bf18a-5170-42e7-9995-c49f2ab82477",
   "metadata": {},
   "source": [
    "# Import libraries"
   ]
  },
  {
   "cell_type": "code",
   "execution_count": 1,
   "id": "24deb36b-a8dd-4a91-b4c5-4c94ce393f15",
   "metadata": {},
   "outputs": [],
   "source": [
    "%load_ext autoreload\n",
    "%autoreload 2\n",
    "\n",
    "# Standard library\n",
    "from pathlib import Path\n",
    "import pprint\n",
    "\n",
    "# Third-party libraries\n",
    "import duckdb\n",
    "import fireducks.pandas as pd\n",
    "import matplotlib.pyplot as plt\n",
    "import numpy as np\n",
    "import optuna\n",
    "from matplotlib import rcParams\n",
    "\n",
    "rcParams[\"text.usetex\"] = True\n",
    "\n",
    "# Custom osbad library for anomaly detection\n",
    "import osbad.config as bconf\n",
    "import osbad.hyperparam as hp\n",
    "import osbad.modval as modval\n",
    "import osbad.viz as bviz\n",
    "from osbad.database import BenchDB\n",
    "from osbad.model import ModelRunner"
   ]
  },
  {
   "cell_type": "markdown",
   "id": "b3f33544-b0ca-474e-8383-e13cd7c75415",
   "metadata": {},
   "source": [
    "# Import dataset"
   ]
  },
  {
   "cell_type": "code",
   "execution_count": 2,
   "id": "8ad2caf0-33af-413a-bcfd-a6445cd50895",
   "metadata": {},
   "outputs": [],
   "source": [
    "# Define a global variable to save fig output\n",
    "# The definition of PIPELINE_OUTPUT_DIR can be\n",
    "# found in config.py\n",
    "PIPELINE_OUTPUT_DIR = bconf.PIPELINE_OUTPUT_DIR\n",
    "\n",
    "# Path to database directory\n",
    "DB_DIR = bconf.DB_DIR\n",
    "\n",
    "# Path to the DuckDB instance:\n",
    "# \"osbad/database/train_dataset_severson.db\"\n",
    "db_filepath = (\n",
    "    DB_DIR.joinpath(\"train_dataset_severson.db\"))"
   ]
  },
  {
   "cell_type": "markdown",
   "id": "9da5b1b3-9fe2-43d6-b741-896fe2a7e837",
   "metadata": {},
   "source": [
    "## Get unique cell labels from training dataset"
   ]
  },
  {
   "cell_type": "code",
   "execution_count": 3,
   "id": "79d8fe80-24b6-4626-91aa-14fc80346e90",
   "metadata": {},
   "outputs": [
    {
     "data": {
      "application/vnd.jupyter.widget-view+json": {
       "model_id": "a92b3191ffd1415e8a1cc8aa1ea02a83",
       "version_major": 2,
       "version_minor": 0
      },
      "text/plain": [
       "FloatProgress(value=0.0, layout=Layout(width='auto'), style=ProgressStyle(bar_color='black'))"
      ]
     },
     "metadata": {},
     "output_type": "display_data"
    },
    {
     "name": "stdout",
     "output_type": "stream",
     "text": [
      "['2017-05-12_5_4C-50per_3C_CH13' '2017-05-12_5_4C-50per_3C_CH14'\n",
      " '2017-05-12_5_4C-60per_3C_CH15' '2017-05-12_5_4C-60per_3C_CH16'\n",
      " '2017-05-12_5_4C-70per_3C_CH17' '2017-05-12_5_4C-70per_3C_CH18'\n",
      " '2017-05-12_6C-40per_3C_CH25' '2017-05-12_6C-40per_3C_CH26'\n",
      " '2017-05-12_6C-50per_3C_CH27' '2017-05-12_6C-50per_3C_CH28'\n",
      " '2017-05-12_6C-60per_3C_CH29' '2017-05-12_6C-60per_3C_CH30'\n",
      " '2017-05-12_7C-40per_3C_CH37' '2017-05-12_7C-40per_3C_CH38'\n",
      " '2017-05-12_4C-80per_4C_CH5' '2017-05-12_4C-80per_4C_CH6'\n",
      " '2017-05-12_4_4C-80per_4_4C_CH7' '2017-05-12_5_4C-80per_5_4C_CH11'\n",
      " '2017-05-12_5_4C-80per_5_4C_CH12' '2017-05-12_3_6C-80per_3_6C_CH1'\n",
      " '2017-05-12_3_6C-80per_3_6C_CH2' '2017-05-12_3_6C-80per_3_6C_CH3'\n",
      " '2017-05-12_5_4C-40per_3_6C_CH19']\n"
     ]
    }
   ],
   "source": [
    "# Create a DuckDB connection\n",
    "con = duckdb.connect(\n",
    "    db_filepath,\n",
    "    read_only=True)\n",
    "\n",
    "# Load all training dataset from duckdb\n",
    "df_duckdb = con.execute(\n",
    "    \"SELECT * FROM df_train_dataset_sv\").fetchdf()\n",
    "\n",
    "unique_cell_index_train = df_duckdb[\"cell_index\"].unique()\n",
    "print(unique_cell_index_train)"
   ]
  },
  {
   "cell_type": "code",
   "execution_count": 4,
   "id": "942bbeea-ea99-421d-b834-3cb6787a2252",
   "metadata": {},
   "outputs": [
    {
     "name": "stdout",
     "output_type": "stream",
     "text": [
      "Training cell count: 23\n"
     ]
    }
   ],
   "source": [
    "training_cell_count = len(unique_cell_index_train)\n",
    "print(f\"Training cell count: {training_cell_count}\")"
   ]
  },
  {
   "cell_type": "markdown",
   "id": "166173b4-aeee-458e-aacb-2ff7eb3872ab",
   "metadata": {},
   "source": [
    "## Define selected_cell_label"
   ]
  },
  {
   "cell_type": "code",
   "execution_count": 6,
   "id": "cdfa90da-ff8f-4ba0-a190-6feadf0f3ab5",
   "metadata": {},
   "outputs": [],
   "source": [
    "# Get the cell-ID from cell_inventory\n",
    "selected_cell_label = \"2017-05-12_5_4C-70per_3C_CH17\"\n",
    "\n",
    "# Create a subfolder to store fig output\n",
    "# corresponding to each cell-index\n",
    "selected_cell_artifacts_dir = bconf.artifacts_output_dir(\n",
    "    selected_cell_label)"
   ]
  },
  {
   "cell_type": "markdown",
   "id": "43942c52-0bcd-45a2-a1ab-7301e83b8f14",
   "metadata": {},
   "source": [
    "# Load benchmarking dataset"
   ]
  },
  {
   "cell_type": "code",
   "execution_count": 7,
   "id": "1016829f-4cdc-434f-932c-ca3f56778687",
   "metadata": {},
   "outputs": [
    {
     "name": "stdout",
     "output_type": "stream",
     "text": [
      "Database is found in the given filepath.\n",
      "Loading benchmarking dataset now...\n"
     ]
    },
    {
     "data": {
      "application/vnd.jupyter.widget-view+json": {
       "model_id": "81a0c3adf6484afc9faad52dc381f641",
       "version_major": 2,
       "version_minor": 0
      },
      "text/plain": [
       "FloatProgress(value=0.0, layout=Layout(width='auto'), style=ProgressStyle(bar_color='black'))"
      ]
     },
     "metadata": {},
     "output_type": "display_data"
    },
    {
     "name": "stdout",
     "output_type": "stream",
     "text": [
      "****************************************************************************************************\n"
     ]
    }
   ],
   "source": [
    "# Import the BenchDB class\n",
    "# Load only the dataset based on the selected cell\n",
    "benchdb = BenchDB(\n",
    "    db_filepath,\n",
    "    selected_cell_label)\n",
    "\n",
    "# load the benchmarking dataset\n",
    "df_selected_cell = benchdb.load_benchmark_dataset(\n",
    "    dataset_type=\"train\")"
   ]
  },
  {
   "cell_type": "markdown",
   "id": "4dbc63a9-bd28-4ecd-83ae-e8454a05972e",
   "metadata": {},
   "source": [
    "## Drop labels"
   ]
  },
  {
   "cell_type": "code",
   "execution_count": 8,
   "id": "a1461916-041c-41c7-b5db-871ed17685d2",
   "metadata": {},
   "outputs": [
    {
     "name": "stdout",
     "output_type": "stream",
     "text": [
      "|    | cell_index                    |   cycle_index |   discharge_capacity |   voltage |\n",
      "|---:|:------------------------------|--------------:|---------------------:|----------:|\n",
      "|  0 | 2017-05-12_5_4C-70per_3C_CH17 |             0 |          1.26512e-05 |   3.29189 |\n",
      "|  1 | 2017-05-12_5_4C-70per_3C_CH17 |             0 |          0.00136774  |   3.28185 |\n",
      "|  2 | 2017-05-12_5_4C-70per_3C_CH17 |             0 |          0.00292998  |   3.27788 |\n",
      "|  3 | 2017-05-12_5_4C-70per_3C_CH17 |             0 |          0.00449361  |   3.27513 |\n",
      "|  4 | 2017-05-12_5_4C-70per_3C_CH17 |             0 |          0.00449361  |   3.27513 |\n",
      "|  5 | 2017-05-12_5_4C-70per_3C_CH17 |             0 |          0.00605927  |   3.27299 |\n",
      "|  6 | 2017-05-12_5_4C-70per_3C_CH17 |             0 |          0.00762155  |   3.27124 |\n",
      "|  7 | 2017-05-12_5_4C-70per_3C_CH17 |             0 |          0.0091859   |   3.2703  |\n",
      "|  8 | 2017-05-12_5_4C-70per_3C_CH17 |             0 |          0.0107469   |   3.26875 |\n",
      "|  9 | 2017-05-12_5_4C-70per_3C_CH17 |             0 |          0.0123127   |   3.26787 |\n",
      "****************************************************************************************************\n"
     ]
    }
   ],
   "source": [
    "if df_selected_cell is not None:\n",
    "\n",
    "    filter_col = [\n",
    "        \"cell_index\",\n",
    "        \"cycle_index\",\n",
    "        \"discharge_capacity\",\n",
    "        \"voltage\"]\n",
    "\n",
    "    # Drop true labels from the benchmarking dataset\n",
    "    # and filter for selected columns only\n",
    "    df_selected_cell_without_labels = benchdb.drop_labels(\n",
    "        df_selected_cell,\n",
    "        filter_col)\n",
    "\n",
    "    # print a subset of the dataframe\n",
    "    # for diagnostics running in terminals\n",
    "    print(df_selected_cell_without_labels.head(10).to_markdown())\n",
    "    print(\"*\"*100)"
   ]
  },
  {
   "cell_type": "markdown",
   "id": "fa19f62a-81be-45ba-84bf-ce6c113795b2",
   "metadata": {},
   "source": [
    "## Plot cycle data without labels"
   ]
  },
  {
   "cell_type": "code",
   "execution_count": 9,
   "id": "b335dd67-f921-41f1-8090-ecc6e11289e1",
   "metadata": {},
   "outputs": [
    {
     "data": {
      "image/png": "[encoded data removed]",
      "text/plain": [
       "<Figure size 1000x600 with 2 Axes>"
      ]
     },
     "metadata": {},
     "output_type": "display_data"
    }
   ],
   "source": [
    "# If the true outlier cycle index is not known,\n",
    "# cycling data will be plotted without labels\n",
    "benchdb.plot_cycle_data(\n",
    "    df_selected_cell_without_labels)\n",
    "\n",
    "output_fig_filename = (\n",
    "    \"cycle_data_without_labels_\"\n",
    "    + selected_cell_label\n",
    "    + \".png\")\n",
    "\n",
    "fig_output_path = (\n",
    "    selected_cell_artifacts_dir\n",
    "    .joinpath(output_fig_filename))\n",
    "\n",
    "plt.savefig(\n",
    "    fig_output_path,\n",
    "    dpi=600,\n",
    "    bbox_inches=\"tight\")\n",
    "\n",
    "plt.show()"
   ]
  },
  {
   "cell_type": "markdown",
   "id": "1e5c1286-a869-4c35-9b05-d0f9dc830732",
   "metadata": {},
   "source": [
    "# Features transformation"
   ]
  },
  {
   "cell_type": "markdown",
   "id": "a1c34a28-c4e4-4ae2-a111-945cd7cfd86b",
   "metadata": {},
   "source": [
    "## Load the training features dataset"
   ]
  },
  {
   "cell_type": "code",
   "execution_count": 12,
   "id": "c006e179-a441-4a9e-ad65-9ecca97e517a",
   "metadata": {},
   "outputs": [
    {
     "name": "stdout",
     "output_type": "stream",
     "text": [
      "Features database is found in the given filepath.\n",
      "Features database is loaded.\n",
      "****************************************************************************************************\n"
     ]
    }
   ],
   "source": [
    "# Define the filepath to ``train_features_severson.db``\n",
    "# osbad/database/train_features_severson.db\n",
    "db_features_filepath = (\n",
    "    DB_DIR.joinpath(\n",
    "        \"train_features_severson.db\"))\n",
    "\n",
    "# Load only the training features dataset\n",
    "df_features_per_cell = benchdb.load_features_db(\n",
    "    db_features_filepath,\n",
    "    dataset_type=\"train\")\n",
    "\n",
    "unique_cycle_count = (\n",
    "    df_features_per_cell[\"cycle_index\"].unique())"
   ]
  },
  {
   "cell_type": "code",
   "execution_count": 13,
   "id": "e27354fd-b86e-494c-9087-589556b051db",
   "metadata": {},
   "outputs": [
    {
     "data": {
      "text/html": [
       "<div>\n",
       "<style scoped>\n",
       "    .dataframe tbody tr th:only-of-type {\n",
       "        vertical-align: middle;\n",
       "    }\n",
       "\n",
       "    .dataframe tbody tr th {\n",
       "        vertical-align: top;\n",
       "    }\n",
       "\n",
       "    .dataframe thead th {\n",
       "        text-align: right;\n",
       "    }\n",
       "</style>\n",
       "<table border=\"1\" class=\"dataframe\">\n",
       "  <thead>\n",
       "    <tr style=\"text-align: right;\">\n",
       "      <th></th>\n",
       "      <th>max_diff_dQ</th>\n",
       "      <th>log_max_diff_dQ</th>\n",
       "      <th>cycle_index</th>\n",
       "      <th>max_diff_dV</th>\n",
       "      <th>log_max_diff_dV</th>\n",
       "      <th>cell_index</th>\n",
       "    </tr>\n",
       "  </thead>\n",
       "  <tbody>\n",
       "    <tr>\n",
       "      <th>0</th>\n",
       "      <td>0.006388</td>\n",
       "      <td>-5.053343</td>\n",
       "      <td>0.0</td>\n",
       "      <td>1.564151</td>\n",
       "      <td>0.447343</td>\n",
       "      <td>2017-05-12_5_4C-70per_3C_CH17</td>\n",
       "    </tr>\n",
       "    <tr>\n",
       "      <th>1</th>\n",
       "      <td>0.006338</td>\n",
       "      <td>-5.061258</td>\n",
       "      <td>1.0</td>\n",
       "      <td>0.023727</td>\n",
       "      <td>-3.741163</td>\n",
       "      <td>2017-05-12_5_4C-70per_3C_CH17</td>\n",
       "    </tr>\n",
       "    <tr>\n",
       "      <th>2</th>\n",
       "      <td>0.006321</td>\n",
       "      <td>-5.063922</td>\n",
       "      <td>2.0</td>\n",
       "      <td>0.022684</td>\n",
       "      <td>-3.786091</td>\n",
       "      <td>2017-05-12_5_4C-70per_3C_CH17</td>\n",
       "    </tr>\n",
       "    <tr>\n",
       "      <th>3</th>\n",
       "      <td>0.006259</td>\n",
       "      <td>-5.073756</td>\n",
       "      <td>3.0</td>\n",
       "      <td>0.027899</td>\n",
       "      <td>-3.579172</td>\n",
       "      <td>2017-05-12_5_4C-70per_3C_CH17</td>\n",
       "    </tr>\n",
       "    <tr>\n",
       "      <th>4</th>\n",
       "      <td>0.006236</td>\n",
       "      <td>-5.077346</td>\n",
       "      <td>4.0</td>\n",
       "      <td>0.026408</td>\n",
       "      <td>-3.634081</td>\n",
       "      <td>2017-05-12_5_4C-70per_3C_CH17</td>\n",
       "    </tr>\n",
       "    <tr>\n",
       "      <th>...</th>\n",
       "      <td>...</td>\n",
       "      <td>...</td>\n",
       "      <td>...</td>\n",
       "      <td>...</td>\n",
       "      <td>...</td>\n",
       "      <td>...</td>\n",
       "    </tr>\n",
       "    <tr>\n",
       "      <th>687</th>\n",
       "      <td>0.006236</td>\n",
       "      <td>-5.077391</td>\n",
       "      <td>687.0</td>\n",
       "      <td>0.046420</td>\n",
       "      <td>-3.070023</td>\n",
       "      <td>2017-05-12_5_4C-70per_3C_CH17</td>\n",
       "    </tr>\n",
       "    <tr>\n",
       "      <th>688</th>\n",
       "      <td>0.006281</td>\n",
       "      <td>-5.070178</td>\n",
       "      <td>688.0</td>\n",
       "      <td>0.051542</td>\n",
       "      <td>-2.965352</td>\n",
       "      <td>2017-05-12_5_4C-70per_3C_CH17</td>\n",
       "    </tr>\n",
       "    <tr>\n",
       "      <th>689</th>\n",
       "      <td>0.006243</td>\n",
       "      <td>-5.076238</td>\n",
       "      <td>689.0</td>\n",
       "      <td>0.047776</td>\n",
       "      <td>-3.041228</td>\n",
       "      <td>2017-05-12_5_4C-70per_3C_CH17</td>\n",
       "    </tr>\n",
       "    <tr>\n",
       "      <th>690</th>\n",
       "      <td>0.006316</td>\n",
       "      <td>-5.064619</td>\n",
       "      <td>690.0</td>\n",
       "      <td>0.046331</td>\n",
       "      <td>-3.071935</td>\n",
       "      <td>2017-05-12_5_4C-70per_3C_CH17</td>\n",
       "    </tr>\n",
       "    <tr>\n",
       "      <th>691</th>\n",
       "      <td>0.006402</td>\n",
       "      <td>-5.051123</td>\n",
       "      <td>691.0</td>\n",
       "      <td>0.047873</td>\n",
       "      <td>-3.039193</td>\n",
       "      <td>2017-05-12_5_4C-70per_3C_CH17</td>\n",
       "    </tr>\n",
       "  </tbody>\n",
       "</table>\n",
       "<p>692 rows × 6 columns</p>\n",
       "</div>"
      ],
      "text/plain": [
       "     max_diff_dQ  log_max_diff_dQ  cycle_index  max_diff_dV  log_max_diff_dV  \\\n",
       "0       0.006388        -5.053343          0.0     1.564151         0.447343   \n",
       "1       0.006338        -5.061258          1.0     0.023727        -3.741163   \n",
       "2       0.006321        -5.063922          2.0     0.022684        -3.786091   \n",
       "3       0.006259        -5.073756          3.0     0.027899        -3.579172   \n",
       "4       0.006236        -5.077346          4.0     0.026408        -3.634081   \n",
       "..           ...              ...          ...          ...              ...   \n",
       "687     0.006236        -5.077391        687.0     0.046420        -3.070023   \n",
       "688     0.006281        -5.070178        688.0     0.051542        -2.965352   \n",
       "689     0.006243        -5.076238        689.0     0.047776        -3.041228   \n",
       "690     0.006316        -5.064619        690.0     0.046331        -3.071935   \n",
       "691     0.006402        -5.051123        691.0     0.047873        -3.039193   \n",
       "\n",
       "                        cell_index  \n",
       "0    2017-05-12_5_4C-70per_3C_CH17  \n",
       "1    2017-05-12_5_4C-70per_3C_CH17  \n",
       "2    2017-05-12_5_4C-70per_3C_CH17  \n",
       "3    2017-05-12_5_4C-70per_3C_CH17  \n",
       "4    2017-05-12_5_4C-70per_3C_CH17  \n",
       "..                             ...  \n",
       "687  2017-05-12_5_4C-70per_3C_CH17  \n",
       "688  2017-05-12_5_4C-70per_3C_CH17  \n",
       "689  2017-05-12_5_4C-70per_3C_CH17  \n",
       "690  2017-05-12_5_4C-70per_3C_CH17  \n",
       "691  2017-05-12_5_4C-70per_3C_CH17  \n",
       "\n",
       "[692 rows x 6 columns]"
      ]
     },
     "execution_count": 13,
     "metadata": {},
     "output_type": "execute_result"
    }
   ],
   "source": [
    "df_features_per_cell"
   ]
  },
  {
   "cell_type": "markdown",
   "id": "81026747-cbe4-4b69-85d5-ca8e17c2899e",
   "metadata": {},
   "source": [
    "# Hyperparameter tuning"
   ]
  },
  {
   "cell_type": "markdown",
   "id": "aab1ea08-60dd-4045-a4fc-5212c93ae7bd",
   "metadata": {},
   "source": [
    "## Create optuna study"
   ]
  },
  {
   "cell_type": "code",
   "execution_count": 14,
   "id": "7eb8d575-c79c-4d7e-91ee-dc9863230aec",
   "metadata": {},
   "outputs": [
    {
     "data": {
      "text/plain": [
       "{'contamination': {'low': 0.0, 'high': 0.5},\n",
       " 'n_estimators': {'low': 100, 'high': 500},\n",
       " 'max_samples': {'low': 100, 'high': 692},\n",
       " 'threshold': {'low': 0.0, 'high': 1.0}}"
      ]
     },
     "execution_count": 14,
     "metadata": {},
     "output_type": "execute_result"
    }
   ],
   "source": [
    "# Update the HP config for max_samples depending on the cycle numbers\n",
    "total_cycle_count = len(\n",
    "    df_selected_cell_without_labels[\"cycle_index\"].unique())\n",
    "\n",
    "hp_config_iforest = {\n",
    "    \"contamination\": {\"low\": 0.0, \"high\": 0.5},\n",
    "    \"n_estimators\": {\"low\": 100, \"high\": 500},\n",
    "    \"max_samples\": {\"low\": 100, \"high\": total_cycle_count},\n",
    "    \"threshold\": {\"low\": 0.0, \"high\": 1.0}\n",
    "}\n",
    "\n",
    "iforest_hp_config_filepath = (\n",
    "    Path.cwd()\n",
    "    .parents[3]\n",
    "    .joinpath(\n",
    "        \"machine_learning\",\n",
    "        \"hp_config_schema\",\n",
    "        \"severson_hp_config\",\n",
    "        \"iforest_hp_config.json\"))\n",
    "\n",
    "bconf.create_json_hp_config(\n",
    "    iforest_hp_config_filepath,\n",
    "    hp_dict=hp_config_iforest)\n",
    "\n",
    "bconf.load_json_hp_config(\n",
    "    iforest_hp_config_filepath)"
   ]
  },
  {
   "cell_type": "code",
   "execution_count": 15,
   "id": "639f7828-c3f1-4bb6-a927-54b70f2d49d9",
   "metadata": {},
   "outputs": [
    {
     "name": "stderr",
     "output_type": "stream",
     "text": [
      "[I 2025-10-13 11:58:26,571] A new study created in memory with name: iforest_hyperparam_proxy\n"
     ]
    },
    {
     "name": "stdout",
     "output_type": "stream",
     "text": [
      "Current hyperparameter config:\n",
      "{'contamination': {'low': 0.0, 'high': 0.5}, 'n_estimators': {'low': 100, 'high': 500}, 'max_samples': {'low': 100, 'high': 692}, 'threshold': {'low': 0.0, 'high': 1.0}}\n",
      "----------------------------------------------------------------------\n"
     ]
    },
    {
     "name": "stderr",
     "output_type": "stream",
     "text": [
      "[I 2025-10-13 11:58:27,479] Trial 0 finished with values: [0.20079925519680564, 0.9927745664739884] and parameters: {'contamination': 0.18727005942368125, 'n_estimators': 481, 'max_samples': 534, 'threshold': 0.5986584841970366}.\n",
      "[I 2025-10-13 11:58:27,806] Trial 1 finished with values: [0.8636856621637496, 0.9971098265895953] and parameters: {'contamination': 0.07800932022121826, 'n_estimators': 162, 'max_samples': 134, 'threshold': 0.8661761457749352}.\n",
      "[I 2025-10-13 11:58:28,490] Trial 2 finished with values: [0.9316964138883296, 0.9985549132947977] and parameters: {'contamination': 0.3005575058716044, 'n_estimators': 383, 'max_samples': 112, 'threshold': 0.9699098521619943}.\n",
      "[I 2025-10-13 11:58:28,828] Trial 3 finished with values: [0.12871096710176896, 0.7398843930635838] and parameters: {'contamination': 0.41622132040021087, 'n_estimators': 185, 'max_samples': 207, 'threshold': 0.18340450985343382}.\n",
      "[I 2025-10-13 11:58:29,325] Trial 4 finished with values: [0.1723489268645564, 0.9205202312138728] and parameters: {'contamination': 0.15212112147976886, 'n_estimators': 310, 'max_samples': 356, 'threshold': 0.2912291401980419}.\n",
      "[I 2025-10-13 11:58:29,605] Trial 5 finished with values: [0.17654932290787442, 0.9291907514450867] and parameters: {'contamination': 0.30592644736118974, 'n_estimators': 155, 'max_samples': 273, 'threshold': 0.3663618432936917}.\n",
      "[I 2025-10-13 11:58:30,393] Trial 6 finished with values: [0.19174460589627063, 0.9739884393063584] and parameters: {'contamination': 0.22803499210851796, 'n_estimators': 414, 'max_samples': 218, 'threshold': 0.5142344384136116}.\n",
      "[I 2025-10-13 11:58:30,614] Trial 7 finished with values: [0.14273904006912047, 0.8121387283236994] and parameters: {'contamination': 0.29620728443102123, 'n_estimators': 118, 'max_samples': 460, 'threshold': 0.17052412368729153}.\n",
      "[I 2025-10-13 11:58:31,393] Trial 8 finished with values: [0.200664623866367, 0.9942196531791907] and parameters: {'contamination': 0.03252579649263976, 'n_estimators': 480, 'max_samples': 672, 'threshold': 0.8083973481164611}.\n",
      "[I 2025-10-13 11:58:31,668] Trial 9 finished with values: [0.19363402757020823, 0.9797687861271677] and parameters: {'contamination': 0.15230688458668534, 'n_estimators': 139, 'max_samples': 505, 'threshold': 0.4401524937396013}.\n",
      "[I 2025-10-13 11:58:32,242] Trial 10 finished with values: [0.20079925519680564, 0.9927745664739884] and parameters: {'contamination': 0.010273404912149196, 'n_estimators': 289, 'max_samples': 674, 'threshold': 0.7096398463811849}.\n",
      "[I 2025-10-13 11:58:32,698] Trial 11 pruned. \n",
      "[I 2025-10-13 11:58:33,525] Trial 12 pruned. \n",
      "[I 2025-10-13 11:58:34,180] Trial 13 finished with values: [0.200664623866367, 0.9942196531791907] and parameters: {'contamination': 0.4578189853894371, 'n_estimators': 375, 'max_samples': 396, 'threshold': 0.7246331596466008}.\n",
      "[I 2025-10-13 11:58:34,405] Trial 14 finished with values: [0.15403568013506114, 0.8598265895953757] and parameters: {'contamination': 0.08002692399577624, 'n_estimators': 108, 'max_samples': 600, 'threshold': 0.21437163559881073}.\n",
      "[I 2025-10-13 11:58:34,825] Trial 15 finished with values: [0.17499828045457733, 0.9263005780346821] and parameters: {'contamination': 0.026191697750177805, 'n_estimators': 229, 'max_samples': 617, 'threshold': 0.27448497328248084}.\n",
      "[I 2025-10-13 11:58:35,319] Trial 16 finished with values: [0.20079925519680564, 0.9927745664739884] and parameters: {'contamination': 0.06606338663024897, 'n_estimators': 290, 'max_samples': 599, 'threshold': 0.6447945360070109}.\n",
      "[I 2025-10-13 11:58:36,100] Trial 17 finished with values: [0.200664623866367, 0.9942196531791907] and parameters: {'contamination': 0.09592021311274902, 'n_estimators': 429, 'max_samples': 595, 'threshold': 0.7898406720906469}.\n",
      "[I 2025-10-13 11:58:36,490] Trial 18 finished with values: [0.1992123520838206, 0.9884393063583815] and parameters: {'contamination': 0.12234414632247098, 'n_estimators': 216, 'max_samples': 447, 'threshold': 0.5244541934625898}.\n",
      "[I 2025-10-13 11:58:37,184] Trial 19 finished with values: [0.9316964138883296, 0.9985549132947977] and parameters: {'contamination': 0.006570157858904108, 'n_estimators': 330, 'max_samples': 636, 'threshold': 0.9960169893612135}.\n",
      "[I 2025-10-13 11:58:37,652] Trial 20 finished with values: [0.13247744211608817, 0.7702312138728323] and parameters: {'contamination': 0.2067070498463564, 'n_estimators': 260, 'max_samples': 346, 'threshold': 0.16555628138537792}.\n",
      "[I 2025-10-13 11:58:37,910] Trial 21 finished with values: [0.11925731623423462, 0.6791907514450867] and parameters: {'contamination': 0.22059253298403486, 'n_estimators': 108, 'max_samples': 319, 'threshold': 0.13158432012900217}.\n",
      "[I 2025-10-13 11:58:38,592] Trial 22 finished with values: [0.18477802181274938, 0.9508670520231214] and parameters: {'contamination': 0.28303135770236065, 'n_estimators': 350, 'max_samples': 441, 'threshold': 0.32870931553262445}.\n",
      "[I 2025-10-13 11:58:39,344] Trial 23 finished with values: [0.1072593385686745, 0.6459537572254336] and parameters: {'contamination': 0.15660796408033573, 'n_estimators': 444, 'max_samples': 385, 'threshold': 0.09718034429860584}.\n",
      "[I 2025-10-13 11:58:39,965] Trial 24 finished with values: [0.17679141581792918, 0.9291907514450867] and parameters: {'contamination': 0.36197513150649874, 'n_estimators': 315, 'max_samples': 294, 'threshold': 0.3573419279769243}.\n",
      "[I 2025-10-13 11:58:40,327] Trial 25 finished with values: [0.17561289259207905, 0.9263005780346821] and parameters: {'contamination': 0.263841660296178, 'n_estimators': 192, 'max_samples': 455, 'threshold': 0.26318873849788466}.\n",
      "[I 2025-10-13 11:58:40,794] Trial 26 finished with values: [0.19091011693388457, 0.9725433526011561] and parameters: {'contamination': 0.14492461742913476, 'n_estimators': 262, 'max_samples': 356, 'threshold': 0.42754780887070687}.\n",
      "[I 2025-10-13 11:58:41,541] Trial 27 finished with values: [0.1525729784535249, 0.8569364161849711] and parameters: {'contamination': 0.494777138646253, 'n_estimators': 461, 'max_samples': 252, 'threshold': 0.2619637953629016}.\n",
      "[I 2025-10-13 11:58:42,204] Trial 28 finished with values: [0.19174460589627063, 0.9739884393063584] and parameters: {'contamination': 0.19007731879669473, 'n_estimators': 367, 'max_samples': 410, 'threshold': 0.4327456111804914}.\n",
      "[I 2025-10-13 11:58:42,888] Trial 29 finished with values: [0.20079925519680564, 0.9927745664739884] and parameters: {'contamination': 0.251369638222004, 'n_estimators': 399, 'max_samples': 487, 'threshold': 0.5939655422978096}.\n",
      "[I 2025-10-13 11:58:43,684] Trial 30 finished with values: [0.08340074582830813, 0.5216763005780347] and parameters: {'contamination': 0.33807544165686376, 'n_estimators': 471, 'max_samples': 558, 'threshold': 0.06075466303718019}.\n",
      "[I 2025-10-13 11:58:44,167] Trial 31 finished with values: [0.11117303896401962, 0.6445086705202312] and parameters: {'contamination': 0.17516959010006838, 'n_estimators': 264, 'max_samples': 364, 'threshold': 0.09882015025333887}.\n",
      "[I 2025-10-13 11:58:44,909] Trial 32 finished with values: [0.09206377441424402, 0.5549132947976878] and parameters: {'contamination': 0.19530785025055988, 'n_estimators': 448, 'max_samples': 335, 'threshold': 0.08188115492492526}.\n",
      "[I 2025-10-13 11:58:45,339] Trial 33 finished with values: [0.49513686619327435, 0.9956647398843931] and parameters: {'contamination': 0.13238299539742376, 'n_estimators': 263, 'max_samples': 373, 'threshold': 0.903508901890809}.\n",
      "[I 2025-10-13 11:58:45,921] Trial 34 finished with values: [0.12551227687138988, 0.7326589595375722] and parameters: {'contamination': 0.21804739337093143, 'n_estimators': 346, 'max_samples': 169, 'threshold': 0.21369747921535526}.\n",
      "[I 2025-10-13 11:58:46,284] Trial 35 finished with values: [0.12447087666512635, 0.7196531791907514] and parameters: {'contamination': 0.0465258547556022, 'n_estimators': 199, 'max_samples': 309, 'threshold': 0.14898300285322158}.\n",
      "[I 2025-10-13 11:58:46,796] Trial 36 finished with values: [0.16196034405691836, 0.8872832369942196] and parameters: {'contamination': 0.12279670592391176, 'n_estimators': 309, 'max_samples': 408, 'threshold': 0.24260625401571076}.\n",
      "[I 2025-10-13 11:58:47,559] Trial 37 finished with values: [0.8636856621637496, 0.9971098265895953] and parameters: {'contamination': 0.09836013826172572, 'n_estimators': 488, 'max_samples': 152, 'threshold': 0.8459076925241898}.\n",
      "[I 2025-10-13 11:58:48,312] Trial 38 pruned. \n",
      "[I 2025-10-13 11:58:48,965] Trial 39 finished with values: [0.12823431612916603, 0.7557803468208093] and parameters: {'contamination': 0.16795788754857727, 'n_estimators': 391, 'max_samples': 197, 'threshold': 0.19664567672189773}.\n",
      "[I 2025-10-13 11:58:49,629] Trial 40 finished with values: [0.19584985725626744, 0.9812138728323699] and parameters: {'contamination': 0.17083244871980166, 'n_estimators': 400, 'max_samples': 201, 'threshold': 0.5589188940169759}.\n",
      "[I 2025-10-13 11:58:50,386] Trial 41 pruned. \n",
      "[I 2025-10-13 11:58:51,111] Trial 42 finished with values: [0.15339429874671834, 0.8670520231213873] and parameters: {'contamination': 0.15961993731895158, 'n_estimators': 444, 'max_samples': 418, 'threshold': 0.22299297135530566}.\n",
      "[I 2025-10-13 11:58:51,831] Trial 43 finished with values: [0.1825178439703502, 0.9508670520231214] and parameters: {'contamination': 0.039655867933628276, 'n_estimators': 418, 'max_samples': 647, 'threshold': 0.31747078360808445}.\n",
      "[I 2025-10-13 11:58:52,582] Trial 44 finished with values: [0.1822219579562526, 0.9465317919075145] and parameters: {'contamination': 0.16489586796596734, 'n_estimators': 413, 'max_samples': 544, 'threshold': 0.3089878939437345}.\n",
      "[I 2025-10-13 11:58:53,215] Trial 45 finished with values: [0.1910953694296757, 0.9710982658959537] and parameters: {'contamination': 0.239013540248122, 'n_estimators': 389, 'max_samples': 662, 'threshold': 0.38741869553226616}.\n",
      "[I 2025-10-13 11:58:53,920] Trial 46 finished with values: [0.12452509100786852, 0.7427745664739884] and parameters: {'contamination': 0.08433724536866756, 'n_estimators': 430, 'max_samples': 190, 'threshold': 0.20103916111249542}.\n",
      "[I 2025-10-13 11:58:54,651] Trial 47 finished with values: [0.10607301662057289, 0.6459537572254336] and parameters: {'contamination': 0.03528158694413352, 'n_estimators': 422, 'max_samples': 272, 'threshold': 0.12877285764812513}.\n",
      "[I 2025-10-13 11:58:55,409] Trial 48 finished with values: [0.16731836242791315, 0.9060693641618497] and parameters: {'contamination': 0.036106671274852155, 'n_estimators': 484, 'max_samples': 264, 'threshold': 0.3255871523027434}.\n",
      "[I 2025-10-13 11:58:56,148] Trial 49 finished with values: [0.12862686900530235, 0.7586705202312138] and parameters: {'contamination': 0.07288664763107755, 'n_estimators': 419, 'max_samples': 175, 'threshold': 0.2254190371182105}.\n",
      "[I 2025-10-13 11:58:56,833] Trial 50 finished with values: [0.10789853163296122, 0.6459537572254336] and parameters: {'contamination': 0.021617262049754116, 'n_estimators': 417, 'max_samples': 231, 'threshold': 0.12638052982303713}.\n",
      "[I 2025-10-13 11:58:57,534] Trial 51 finished with values: [0.17785241595640558, 0.9364161849710982] and parameters: {'contamination': 0.0543883685531046, 'n_estimators': 457, 'max_samples': 125, 'threshold': 0.4773360317347206}.\n",
      "[I 2025-10-13 11:58:58,322] Trial 52 finished with values: [0.17745573002601372, 0.934971098265896] and parameters: {'contamination': 0.06884860589320774, 'n_estimators': 458, 'max_samples': 137, 'threshold': 0.47026552895173607}.\n",
      "[I 2025-10-13 11:58:59,110] Trial 53 finished with values: [0.19584985725626744, 0.9812138728323699] and parameters: {'contamination': 0.0022301015562025753, 'n_estimators': 495, 'max_samples': 110, 'threshold': 0.6518746722401739}.\n",
      "[I 2025-10-13 11:58:59,863] Trial 54 pruned. \n",
      "[I 2025-10-13 11:59:00,660] Trial 55 finished with values: [0.200664623866367, 0.9942196531791907] and parameters: {'contamination': 0.08762703906096046, 'n_estimators': 444, 'max_samples': 283, 'threshold': 0.7556389419698009}.\n",
      "[I 2025-10-13 11:59:01,251] Trial 56 finished with values: [0.18613737328925337, 0.9523121387283237] and parameters: {'contamination': 0.029261077102536143, 'n_estimators': 370, 'max_samples': 319, 'threshold': 0.39597138173696367}.\n",
      "[I 2025-10-13 11:59:02,084] Trial 57 finished with values: [0.20034879202924327, 0.9898843930635838] and parameters: {'contamination': 0.11115388626590332, 'n_estimators': 475, 'max_samples': 177, 'threshold': 0.6743441369470755}.\n",
      "[I 2025-10-13 11:59:02,832] Trial 58 finished with values: [0.12415651760222952, 0.726878612716763] and parameters: {'contamination': 0.19646226565714295, 'n_estimators': 449, 'max_samples': 224, 'threshold': 0.16694438439887957}.\n",
      "[I 2025-10-13 11:59:03,605] Trial 59 finished with values: [0.1526123549624417, 0.8598265895953757] and parameters: {'contamination': 0.07378682258158457, 'n_estimators': 408, 'max_samples': 333, 'threshold': 0.23564358392391554}.\n",
      "[I 2025-10-13 11:59:04,486] Trial 60 finished with values: [0.17914050523627148, 0.9421965317919075] and parameters: {'contamination': 0.13314384185263778, 'n_estimators': 433, 'max_samples': 132, 'threshold': 0.4909770122416818}.\n",
      "[I 2025-10-13 11:59:04,750] Trial 61 finished with values: [0.49513686619327435, 0.9956647398843931] and parameters: {'contamination': 0.40155310398902266, 'n_estimators': 137, 'max_samples': 491, 'threshold': 0.9416071215167034}.\n",
      "[I 2025-10-13 11:59:05,043] Trial 62 finished with values: [0.200664623866367, 0.9942196531791907] and parameters: {'contamination': 0.1338840570520476, 'n_estimators': 162, 'max_samples': 515, 'threshold': 0.8959996304474249}.\n",
      "[I 2025-10-13 11:59:05,878] Trial 63 finished with values: [0.200664623866367, 0.9942196531791907] and parameters: {'contamination': 0.01840008853223907, 'n_estimators': 499, 'max_samples': 691, 'threshold': 0.8133639699168722}.\n",
      "[I 2025-10-13 11:59:06,733] Trial 64 finished with values: [0.200664623866367, 0.9942196531791907] and parameters: {'contamination': 0.46680817415530607, 'n_estimators': 480, 'max_samples': 566, 'threshold': 0.9103900027376844}.\n",
      "[I 2025-10-13 11:59:07,454] Trial 65 finished with values: [0.20079925519680564, 0.9927745664739884] and parameters: {'contamination': 0.008576106753922334, 'n_estimators': 433, 'max_samples': 619, 'threshold': 0.7206421452107111}.\n",
      "[I 2025-10-13 11:59:08,268] Trial 66 finished with values: [0.2005849659292784, 0.9913294797687862] and parameters: {'contamination': 0.035793379966536684, 'n_estimators': 468, 'max_samples': 430, 'threshold': 0.5915529391519062}.\n",
      "[I 2025-10-13 11:59:09,048] Trial 67 finished with values: [0.200664623866367, 0.9942196531791907] and parameters: {'contamination': 0.43150776205880503, 'n_estimators': 487, 'max_samples': 472, 'threshold': 0.7677523639873107}.\n",
      "[I 2025-10-13 11:59:09,531] Trial 68 finished with values: [0.49513686619327435, 0.9956647398843931] and parameters: {'contamination': 0.31842433342536175, 'n_estimators': 277, 'max_samples': 583, 'threshold': 0.965044243916915}.\n",
      "[I 2025-10-13 11:59:10,592] Trial 69 finished with values: [0.1992123520838206, 0.9884393063583815] and parameters: {'contamination': 0.3753398828078674, 'n_estimators': 331, 'max_samples': 383, 'threshold': 0.5399123930606835}.\n",
      "[I 2025-10-13 11:59:11,580] Trial 70 finished with values: [0.20079925519680564, 0.9927745664739884] and parameters: {'contamination': 0.09547958908854141, 'n_estimators': 243, 'max_samples': 623, 'threshold': 0.6833448240343785}.\n",
      "[I 2025-10-13 11:59:12,635] Trial 71 finished with values: [0.200664623866367, 0.9942196531791907] and parameters: {'contamination': 0.000680045142471164, 'n_estimators': 500, 'max_samples': 670, 'threshold': 0.805167482559223}.\n",
      "[I 2025-10-13 11:59:12,857] Trial 72 finished with values: [0.2005849659292784, 0.9913294797687862] and parameters: {'contamination': 0.06797568302967993, 'n_estimators': 101, 'max_samples': 526, 'threshold': 0.6078558031730658}.\n",
      "[I 2025-10-13 11:59:13,662] Trial 73 finished with values: [0.200664623866367, 0.9942196531791907] and parameters: {'contamination': 0.2956410138120158, 'n_estimators': 458, 'max_samples': 462, 'threshold': 0.8444342437628888}.\n",
      "[I 2025-10-13 11:59:14,739] Trial 74 finished with values: [0.8636856621637496, 0.9971098265895953] and parameters: {'contamination': 0.02013741271613192, 'n_estimators': 439, 'max_samples': 573, 'threshold': 0.9932903740914906}.\n",
      "[I 2025-10-13 11:59:15,097] Trial 75 finished with values: [0.200664623866367, 0.9942196531791907] and parameters: {'contamination': 0.04586053346116188, 'n_estimators': 146, 'max_samples': 654, 'threshold': 0.8726903679564064}.\n",
      "[I 2025-10-13 11:59:15,457] Trial 76 finished with values: [0.196220503550365, 0.9855491329479769] and parameters: {'contamination': 0.13323184679234668, 'n_estimators': 173, 'max_samples': 434, 'threshold': 0.49635045292161123}.\n",
      "[I 2025-10-13 11:59:15,981] Trial 77 finished with values: [0.200664623866367, 0.9942196531791907] and parameters: {'contamination': 0.05664035479840446, 'n_estimators': 209, 'max_samples': 419, 'threshold': 0.7510901426359667}.\n",
      "[I 2025-10-13 11:59:17,026] Trial 78 finished with values: [0.20079925519680564, 0.9927745664739884] and parameters: {'contamination': 0.4987230060112434, 'n_estimators': 476, 'max_samples': 550, 'threshold': 0.6869436850290915}.\n",
      "[I 2025-10-13 11:59:17,736] Trial 79 finished with values: [0.20079925519680564, 0.9927745664739884] and parameters: {'contamination': 0.2736571427460628, 'n_estimators': 353, 'max_samples': 372, 'threshold': 0.6372232342895499}.\n",
      "[I 2025-10-13 11:59:18,127] Trial 80 finished with values: [0.200664623866367, 0.9942196531791907] and parameters: {'contamination': 0.01633978537895427, 'n_estimators': 119, 'max_samples': 599, 'threshold': 0.9311547371619471}.\n",
      "[I 2025-10-13 11:59:19,229] Trial 81 finished with values: [0.2005849659292784, 0.9913294797687862] and parameters: {'contamination': 0.03399476274488583, 'n_estimators': 486, 'max_samples': 636, 'threshold': 0.5669376894239063}.\n",
      "[I 2025-10-13 11:59:20,025] Trial 82 finished with values: [0.17444454827053593, 0.9248554913294798] and parameters: {'contamination': 0.03858862428071552, 'n_estimators': 423, 'max_samples': 266, 'threshold': 0.3522478944665296}.\n",
      "[I 2025-10-13 11:59:20,959] Trial 83 finished with values: [0.19174460589627063, 0.9739884393063584] and parameters: {'contamination': 0.08258508994164687, 'n_estimators': 488, 'max_samples': 344, 'threshold': 0.4596894043462893}.\n",
      "[I 2025-10-13 11:59:21,926] Trial 84 finished with values: [0.200664623866367, 0.9942196531791907] and parameters: {'contamination': 0.1088920332891123, 'n_estimators': 467, 'max_samples': 265, 'threshold': 0.828840748870862}.\n",
      "[I 2025-10-13 11:59:22,908] Trial 85 finished with values: [0.11401884436799038, 0.6864161849710982] and parameters: {'contamination': 0.3247778091444534, 'n_estimators': 454, 'max_samples': 299, 'threshold': 0.13390630797768577}.\n",
      "[I 2025-10-13 11:59:23,800] Trial 86 finished with values: [0.17504828435790742, 0.9277456647398844] and parameters: {'contamination': 0.325125428006084, 'n_estimators': 455, 'max_samples': 488, 'threshold': 0.2790075145143036}.\n",
      "[I 2025-10-13 11:59:24,697] Trial 87 finished with values: [0.200664623866367, 0.9942196531791907] and parameters: {'contamination': 0.253687694653035, 'n_estimators': 440, 'max_samples': 300, 'threshold': 0.7876687774581602}.\n",
      "[I 2025-10-13 11:59:25,270] Trial 88 finished with values: [0.19174460589627063, 0.9739884393063584] and parameters: {'contamination': 0.37163635529627614, 'n_estimators': 298, 'max_samples': 404, 'threshold': 0.4183808225171249}.\n",
      "[I 2025-10-13 11:59:25,637] Trial 89 finished with values: [0.127723061943037, 0.7427745664739884] and parameters: {'contamination': 0.06237740489897754, 'n_estimators': 179, 'max_samples': 510, 'threshold': 0.12036999125725656}.\n",
      "[I 2025-10-13 11:59:26,129] Trial 90 finished with values: [0.19936806850887298, 0.9884393063583815] and parameters: {'contamination': 0.1459035591898032, 'n_estimators': 227, 'max_samples': 675, 'threshold': 0.5139692454025158}.\n",
      "[I 2025-10-13 11:59:27,031] Trial 91 finished with values: [0.8636856621637496, 0.9971098265895953] and parameters: {'contamination': 0.02660864874223815, 'n_estimators': 474, 'max_samples': 242, 'threshold': 0.8672492716068189}.\n",
      "[I 2025-10-13 11:59:27,947] Trial 92 finished with values: [0.20079925519680564, 0.9927745664739884] and parameters: {'contamination': 0.23010125858788036, 'n_estimators': 482, 'max_samples': 635, 'threshold': 0.6217650683506283}.\n",
      "[I 2025-10-13 11:59:28,874] Trial 93 finished with values: [0.16952287982692102, 0.9104046242774566] and parameters: {'contamination': 0.048827499791632936, 'n_estimators': 492, 'max_samples': 692, 'threshold': 0.23779477891635908}.\n",
      "[I 2025-10-13 11:59:29,734] Trial 94 finished with values: [0.20079925519680564, 0.9927745664739884] and parameters: {'contamination': 0.46916731019361774, 'n_estimators': 451, 'max_samples': 532, 'threshold': 0.7062655511264299}.\n",
      "[I 2025-10-13 11:59:30,648] Trial 95 finished with values: [0.18029429239130584, 0.9378612716763006] and parameters: {'contamination': 0.18259414086783443, 'n_estimators': 466, 'max_samples': 605, 'threshold': 0.3030368003684971}.\n",
      "[I 2025-10-13 11:59:31,149] Trial 96 finished with values: [0.17269115855623773, 0.9205202312138728] and parameters: {'contamination': 0.015251246721586537, 'n_estimators': 248, 'max_samples': 286, 'threshold': 0.3352917678198096}.\n",
      "[I 2025-10-13 11:59:32,193] Trial 97 finished with values: [0.200664623866367, 0.9942196531791907] and parameters: {'contamination': 0.42594510261512053, 'n_estimators': 478, 'max_samples': 586, 'threshold': 0.7401510915923205}.\n",
      "[I 2025-10-13 11:59:33,185] Trial 98 finished with values: [0.11507993550928379, 0.6893063583815029] and parameters: {'contamination': 0.39375037389306633, 'n_estimators': 459, 'max_samples': 213, 'threshold': 0.1536134860817021}.\n",
      "[I 2025-10-13 11:59:34,059] Trial 99 pruned. \n"
     ]
    }
   ],
   "source": [
    "# Reload the hp module to refresh in-memory variables\n",
    "# especially after updating parameters\n",
    "from importlib import reload\n",
    "reload(hp)\n",
    "\n",
    "# Check if the schema in the script has been updated \n",
    "# based on the current constraints specified \n",
    "# from the notebook\n",
    "print(\"Current hyperparameter config:\")\n",
    "print(hp._IFOREST_HP_CONFIG)\n",
    "print(\"-\"*70)\n",
    "\n",
    "# Instantiate an optuna study for iForest model\n",
    "sampler = optuna.samplers.TPESampler(seed=42)\n",
    "\n",
    "selected_feature_cols = (\n",
    "    \"cycle_index\",\n",
    "    \"log_max_diff_dQ\",\n",
    "    \"log_max_diff_dV\")\n",
    "\n",
    "if_study = optuna.create_study(\n",
    "    study_name=\"iforest_hyperparam_proxy\",\n",
    "    sampler=sampler,\n",
    "    directions=[\"minimize\",\"maximize\"])\n",
    "\n",
    "if_study.optimize(\n",
    "    lambda trial: hp.objective(\n",
    "        trial,\n",
    "        model_id=\"iforest\",\n",
    "        df_feature_dataset=df_features_per_cell,\n",
    "        selected_feature_cols=selected_feature_cols,\n",
    "        #df_benchmark_dataset=df_selected_cell,\n",
    "        selected_cell_label=selected_cell_label),\n",
    "    n_trials=100)"
   ]
  },
  {
   "cell_type": "markdown",
   "id": "ebe47b56-88b1-42f3-8cc0-abadfd04ca27",
   "metadata": {},
   "source": [
    "## Aggregate best trials"
   ]
  },
  {
   "cell_type": "code",
   "execution_count": 17,
   "id": "21552447-ec74-4e4c-b552-648a7972eef9",
   "metadata": {},
   "outputs": [
    {
     "data": {
      "text/html": [
       "<div>\n",
       "<style scoped>\n",
       "    .dataframe tbody tr th:only-of-type {\n",
       "        vertical-align: middle;\n",
       "    }\n",
       "\n",
       "    .dataframe tbody tr th {\n",
       "        vertical-align: top;\n",
       "    }\n",
       "\n",
       "    .dataframe thead th {\n",
       "        text-align: right;\n",
       "    }\n",
       "</style>\n",
       "<table border=\"1\" class=\"dataframe\">\n",
       "  <thead>\n",
       "    <tr style=\"text-align: right;\">\n",
       "      <th></th>\n",
       "      <th>ml_model</th>\n",
       "      <th>cell_index</th>\n",
       "      <th>threshold</th>\n",
       "      <th>contamination</th>\n",
       "      <th>n_estimators</th>\n",
       "      <th>max_samples</th>\n",
       "    </tr>\n",
       "  </thead>\n",
       "  <tbody>\n",
       "    <tr>\n",
       "      <th>0</th>\n",
       "      <td>iforest</td>\n",
       "      <td>2017-05-12_5_4C-70per_3C_CH17</td>\n",
       "      <td>0.806782</td>\n",
       "      <td>0.102406</td>\n",
       "      <td>451</td>\n",
       "      <td>540</td>\n",
       "    </tr>\n",
       "  </tbody>\n",
       "</table>\n",
       "</div>"
      ]
     },
     "metadata": {},
     "output_type": "display_data"
    }
   ],
   "source": [
    "schema_iforest = {\n",
    "    \"threshold\": \"median\",\n",
    "    \"contamination\": \"median\",\n",
    "    \"n_estimators\": \"median_int\",\n",
    "    \"max_samples\": \"median_int\",\n",
    "}\n",
    "\n",
    "trade_off_trials_list = hp.trade_off_trials_detection(\n",
    "    if_study, \n",
    "    window_size=7)\n",
    "\n",
    "df_iforest_hyperparam = hp.aggregate_best_trials(\n",
    "    trade_off_trials_list,\n",
    "    cell_label=selected_cell_label,\n",
    "    model_id=\"iforest\",\n",
    "    schema=schema_iforest)\n",
    "\n",
    "df_iforest_hyperparam"
   ]
  },
  {
   "cell_type": "markdown",
   "id": "c73356bd-ce33-4998-9763-33fd12c6db39",
   "metadata": {},
   "source": [
    "## Plot pareto front"
   ]
  },
  {
   "cell_type": "code",
   "execution_count": 18,
   "id": "af101b37-1640-4b4d-b797-a9b049682847",
   "metadata": {},
   "outputs": [
    {
     "name": "stderr",
     "output_type": "stream",
     "text": [
      "/home/basf/nasbattds/osbad/src/osbad/hyperparam.py:1027: ExperimentalWarning: optuna.visualization.matplotlib._pareto_front.plot_pareto_front is experimental (supported from v2.8.0). The interface can change in the future.\n",
      "  axplot = optuna.visualization.matplotlib.plot_pareto_front(\n"
     ]
    },
    {
     "data": {
      "image/png": "[encoded data removed]",
      "text/plain": [
       "<Figure size 640x480 with 1 Axes>"
      ]
     },
     "metadata": {},
     "output_type": "display_data"
    }
   ],
   "source": [
    "hp.plot_proxy_pareto_front(\n",
    "    if_study,\n",
    "    trade_off_trials_list,\n",
    "    selected_cell_label,\n",
    "    fig_title=\"Isolation Forest Pareto Front\")\n",
    "\n",
    "plt.show()"
   ]
  },
  {
   "cell_type": "markdown",
   "id": "4378369d-a61f-4b9b-b10f-7f689ce2cd03",
   "metadata": {},
   "source": [
    "## Export current hyperparameters to CSV "
   ]
  },
  {
   "cell_type": "code",
   "execution_count": 35,
   "id": "aeec635e-336e-4eb8-98f1-91607ed4bfdf",
   "metadata": {},
   "outputs": [
    {
     "name": "stdout",
     "output_type": "stream",
     "text": [
      "\u001b[38;21mCreating new row for cell 2017-05-12_5_4C-70per_3C_CH17.\n",
      "\u001b[38;21mHyperparameters for 2017-05-12_5_4C-70per_3C_CH17 have been created in the CSV file.\n"
     ]
    },
    {
     "data": {
      "text/html": [
       "<div>\n",
       "<style scoped>\n",
       "    .dataframe tbody tr th:only-of-type {\n",
       "        vertical-align: middle;\n",
       "    }\n",
       "\n",
       "    .dataframe tbody tr th {\n",
       "        vertical-align: top;\n",
       "    }\n",
       "\n",
       "    .dataframe thead th {\n",
       "        text-align: right;\n",
       "    }\n",
       "</style>\n",
       "<table border=\"1\" class=\"dataframe\">\n",
       "  <thead>\n",
       "    <tr style=\"text-align: right;\">\n",
       "      <th></th>\n",
       "      <th>ml_model</th>\n",
       "      <th>cell_index</th>\n",
       "      <th>threshold</th>\n",
       "      <th>contamination</th>\n",
       "      <th>n_estimators</th>\n",
       "      <th>max_samples</th>\n",
       "    </tr>\n",
       "  </thead>\n",
       "  <tbody>\n",
       "    <tr>\n",
       "      <th>0</th>\n",
       "      <td>iforest</td>\n",
       "      <td>2017-05-12_5_4C-70per_3C_CH17</td>\n",
       "      <td>0.806782</td>\n",
       "      <td>0.102406</td>\n",
       "      <td>451</td>\n",
       "      <td>540</td>\n",
       "    </tr>\n",
       "  </tbody>\n",
       "</table>\n",
       "</div>"
      ]
     },
     "metadata": {},
     "output_type": "display_data"
    }
   ],
   "source": [
    "# Export current hyperparameters to CSV\n",
    "hyperparam_filepath =  Path.cwd().joinpath(\n",
    "    \"ml_01_iforest_hyperparam_proxy_severson.csv\")\n",
    "\n",
    "hp.export_current_hyperparam(\n",
    "    df_iforest_hyperparam,\n",
    "    selected_cell_label,\n",
    "    export_csv_filepath=hyperparam_filepath,\n",
    "    if_exists=\"replace\")"
   ]
  },
  {
   "cell_type": "markdown",
   "id": "5084d8c6-0615-4d70-b0ad-e5b8833940f2",
   "metadata": {},
   "source": [
    "# Train model with best trial parameters"
   ]
  },
  {
   "cell_type": "markdown",
   "id": "b2c723cd-800c-48d3-a943-2fd47565df69",
   "metadata": {},
   "source": [
    "## Load best trial parameters from CSV output"
   ]
  },
  {
   "cell_type": "code",
   "execution_count": 20,
   "id": "6e5bcf73-254b-4a40-91bf-fac2c47db71c",
   "metadata": {},
   "outputs": [
    {
     "data": {
      "text/html": [
       "<div>\n",
       "<style scoped>\n",
       "    .dataframe tbody tr th:only-of-type {\n",
       "        vertical-align: middle;\n",
       "    }\n",
       "\n",
       "    .dataframe tbody tr th {\n",
       "        vertical-align: top;\n",
       "    }\n",
       "\n",
       "    .dataframe thead th {\n",
       "        text-align: right;\n",
       "    }\n",
       "</style>\n",
       "<table border=\"1\" class=\"dataframe\">\n",
       "  <thead>\n",
       "    <tr style=\"text-align: right;\">\n",
       "      <th></th>\n",
       "      <th>ml_model</th>\n",
       "      <th>cell_index</th>\n",
       "      <th>threshold</th>\n",
       "      <th>contamination</th>\n",
       "      <th>n_estimators</th>\n",
       "      <th>max_samples</th>\n",
       "    </tr>\n",
       "  </thead>\n",
       "  <tbody>\n",
       "    <tr>\n",
       "      <th>0</th>\n",
       "      <td>iforest</td>\n",
       "      <td>2017-05-12_5_4C-70per_3C_CH17</td>\n",
       "      <td>0.806782</td>\n",
       "      <td>0.102406</td>\n",
       "      <td>451</td>\n",
       "      <td>540</td>\n",
       "    </tr>\n",
       "  </tbody>\n",
       "</table>\n",
       "</div>"
      ]
     },
     "metadata": {},
     "output_type": "display_data"
    }
   ],
   "source": [
    "# Test reading from exported metrics\n",
    "df_hyperparam_from_csv = pd.read_csv(hyperparam_filepath)\n",
    "\n",
    "df_param_per_cell = df_hyperparam_from_csv[\n",
    "    df_hyperparam_from_csv[\"cell_index\"] == selected_cell_label]\n",
    "df_param_per_cell"
   ]
  },
  {
   "cell_type": "markdown",
   "id": "8b5e1b61-69bb-461b-b615-5ba881cf1595",
   "metadata": {},
   "source": [
    "## Create a dict for best trial parameters"
   ]
  },
  {
   "cell_type": "code",
   "execution_count": 21,
   "id": "aca38ed1-456d-42d8-bec5-5172e0234d89",
   "metadata": {},
   "outputs": [
    {
     "name": "stdout",
     "output_type": "stream",
     "text": [
      "{'ml_model': 'iforest',\n",
      " 'cell_index': '2017-05-12_5_4C-70per_3C_CH17',\n",
      " 'threshold': 0.806782415337842,\n",
      " 'contamination': 0.10240612320093066,\n",
      " 'n_estimators': 451,\n",
      " 'max_samples': 540}\n"
     ]
    }
   ],
   "source": [
    "param_dict = df_param_per_cell.iloc[0].to_dict()\n",
    "pprint.pp(param_dict)"
   ]
  },
  {
   "cell_type": "markdown",
   "id": "098a7b1e-0bba-4489-ad2d-92e5fea1f0fc",
   "metadata": {},
   "source": [
    "## Run the model with best trial parameters"
   ]
  },
  {
   "cell_type": "code",
   "execution_count": 25,
   "id": "e11d9310-a212-46be-84c3-8966616a7cdc",
   "metadata": {},
   "outputs": [
    {
     "name": "stdout",
     "output_type": "stream",
     "text": [
      "IForest(behaviour='new', bootstrap=False, contamination=0.10240612320093066,\n",
      "    max_features=1.0, max_samples=540, n_estimators=451, n_jobs=-1,\n",
      "    random_state=42, verbose=0)\n"
     ]
    },
    {
     "data": {
      "text/plain": [
       "(array([  0,  40, 147, 148]),\n",
       " array([0.95380171, 0.97947401, 0.99428969, 1.        ]))"
      ]
     },
     "execution_count": 25,
     "metadata": {},
     "output_type": "execute_result"
    }
   ],
   "source": [
    "cfg = hp.MODEL_CONFIG[\"iforest\"]\n",
    "\n",
    "selected_feature_cols = (\n",
    "    \"log_max_diff_dQ\",\n",
    "    \"log_max_diff_dV\")\n",
    "\n",
    "runner = ModelRunner(\n",
    "    cell_label=selected_cell_label,\n",
    "    df_input_features=df_features_per_cell,\n",
    "    selected_feature_cols=selected_feature_cols\n",
    ")\n",
    "\n",
    "Xdata = runner.create_model_x_input()\n",
    "\n",
    "model = cfg.model_param(param_dict)\n",
    "print(model)\n",
    "model.fit(Xdata)\n",
    "proba = model.predict_proba(Xdata)\n",
    "\n",
    "pred_outlier_indices, pred_outlier_score = runner.pred_outlier_indices_from_proba(\n",
    "    proba=proba,\n",
    "    threshold=param_dict[\"threshold\"],\n",
    "    outlier_col=cfg.proba_col\n",
    ")\n",
    "\n",
    "pred_outlier_indices, pred_outlier_score"
   ]
  },
  {
   "cell_type": "markdown",
   "id": "b526dd24-89d3-49d6-b6a9-0169eacf3e76",
   "metadata": {},
   "source": [
    "## Get df_outliers_pred"
   ]
  },
  {
   "cell_type": "code",
   "execution_count": 26,
   "id": "9e3b5382-c34c-4b15-ae81-c41d44014ae7",
   "metadata": {},
   "outputs": [
    {
     "data": {
      "text/html": [
       "<div>\n",
       "<style scoped>\n",
       "    .dataframe tbody tr th:only-of-type {\n",
       "        vertical-align: middle;\n",
       "    }\n",
       "\n",
       "    .dataframe tbody tr th {\n",
       "        vertical-align: top;\n",
       "    }\n",
       "\n",
       "    .dataframe thead th {\n",
       "        text-align: right;\n",
       "    }\n",
       "</style>\n",
       "<table border=\"1\" class=\"dataframe\">\n",
       "  <thead>\n",
       "    <tr style=\"text-align: right;\">\n",
       "      <th></th>\n",
       "      <th>max_diff_dQ</th>\n",
       "      <th>log_max_diff_dQ</th>\n",
       "      <th>cycle_index</th>\n",
       "      <th>max_diff_dV</th>\n",
       "      <th>log_max_diff_dV</th>\n",
       "      <th>cell_index</th>\n",
       "      <th>outlier_prob</th>\n",
       "    </tr>\n",
       "  </thead>\n",
       "  <tbody>\n",
       "    <tr>\n",
       "      <th>0</th>\n",
       "      <td>0.006388</td>\n",
       "      <td>-5.053343</td>\n",
       "      <td>0.0</td>\n",
       "      <td>1.564151</td>\n",
       "      <td>0.447343</td>\n",
       "      <td>2017-05-12_5_4C-70per_3C_CH17</td>\n",
       "      <td>0.953802</td>\n",
       "    </tr>\n",
       "    <tr>\n",
       "      <th>40</th>\n",
       "      <td>0.006305</td>\n",
       "      <td>-5.066425</td>\n",
       "      <td>40.0</td>\n",
       "      <td>2.612268</td>\n",
       "      <td>0.960219</td>\n",
       "      <td>2017-05-12_5_4C-70per_3C_CH17</td>\n",
       "      <td>0.979474</td>\n",
       "    </tr>\n",
       "    <tr>\n",
       "      <th>147</th>\n",
       "      <td>0.042814</td>\n",
       "      <td>-3.150895</td>\n",
       "      <td>147.0</td>\n",
       "      <td>0.029431</td>\n",
       "      <td>-3.525697</td>\n",
       "      <td>2017-05-12_5_4C-70per_3C_CH17</td>\n",
       "      <td>0.994290</td>\n",
       "    </tr>\n",
       "    <tr>\n",
       "      <th>148</th>\n",
       "      <td>0.042899</td>\n",
       "      <td>-3.148905</td>\n",
       "      <td>148.0</td>\n",
       "      <td>0.025238</td>\n",
       "      <td>-3.679404</td>\n",
       "      <td>2017-05-12_5_4C-70per_3C_CH17</td>\n",
       "      <td>1.000000</td>\n",
       "    </tr>\n",
       "  </tbody>\n",
       "</table>\n",
       "</div>"
      ],
      "text/plain": [
       "     max_diff_dQ  log_max_diff_dQ  cycle_index  max_diff_dV  log_max_diff_dV  \\\n",
       "0       0.006388        -5.053343          0.0     1.564151         0.447343   \n",
       "40      0.006305        -5.066425         40.0     2.612268         0.960219   \n",
       "147     0.042814        -3.150895        147.0     0.029431        -3.525697   \n",
       "148     0.042899        -3.148905        148.0     0.025238        -3.679404   \n",
       "\n",
       "                        cell_index  outlier_prob  \n",
       "0    2017-05-12_5_4C-70per_3C_CH17      0.953802  \n",
       "40   2017-05-12_5_4C-70per_3C_CH17      0.979474  \n",
       "147  2017-05-12_5_4C-70per_3C_CH17      0.994290  \n",
       "148  2017-05-12_5_4C-70per_3C_CH17      1.000000  "
      ]
     },
     "execution_count": 26,
     "metadata": {},
     "output_type": "execute_result"
    }
   ],
   "source": [
    "df_outliers_pred = (df_features_per_cell[\n",
    "    df_features_per_cell[\"cycle_index\"]\n",
    "    .isin(pred_outlier_indices)].copy())\n",
    "\n",
    "df_outliers_pred[\"outlier_prob\"] = pred_outlier_score\n",
    "df_outliers_pred"
   ]
  },
  {
   "cell_type": "markdown",
   "id": "f811d8c0-a079-493e-810a-e9e2ad440341",
   "metadata": {},
   "source": [
    "## Predict anomaly score map"
   ]
  },
  {
   "cell_type": "code",
   "execution_count": 27,
   "id": "5feed4fa-4985-470e-a2c0-06061a71dec8",
   "metadata": {},
   "outputs": [
    {
     "data": {
      "image/png": "[encoded data removed]",
      "text/plain": [
       "<Figure size 800x500 with 2 Axes>"
      ]
     },
     "metadata": {},
     "output_type": "display_data"
    }
   ],
   "source": [
    "axplot = runner.predict_anomaly_score_map(\n",
    "    selected_model=model,\n",
    "    model_name=\"Isolation Forest\",\n",
    "    xoutliers=df_outliers_pred[\"log_max_diff_dQ\"],\n",
    "    youtliers=df_outliers_pred[\"log_max_diff_dV\"],\n",
    "    pred_outliers_index=pred_outlier_indices,\n",
    "    threshold=param_dict[\"threshold\"]\n",
    ")\n",
    "\n",
    "axplot.set_xlabel(\n",
    "    r\"$\\log(\\Delta Q_\\textrm{scaled,max,cyc)}\\;\\textrm{[Ah]}$\",\n",
    "    fontsize=12)\n",
    "axplot.set_ylabel(\n",
    "    r\"$\\log(\\Delta V_\\textrm{scaled,max,cyc})\\;\\textrm{[V]}$\",\n",
    "    fontsize=12)\n",
    "\n",
    "output_fig_filename = (\n",
    "    \"iforest_\"\n",
    "    + selected_cell_label\n",
    "    + \".png\")\n",
    "\n",
    "fig_output_path = (\n",
    "    selected_cell_artifacts_dir\n",
    "    .joinpath(output_fig_filename))\n",
    "\n",
    "plt.savefig(\n",
    "    fig_output_path,\n",
    "    dpi=600,\n",
    "    bbox_inches=\"tight\")\n",
    "\n",
    "plt.show()"
   ]
  },
  {
   "cell_type": "markdown",
   "id": "f97db494-7e89-4d30-89ad-1b9f443dc120",
   "metadata": {},
   "source": [
    "# Model performance evaluation"
   ]
  },
  {
   "cell_type": "code",
   "execution_count": 28,
   "id": "88f7c421-dfb0-4b76-8e5d-ac2010ad4faa",
   "metadata": {},
   "outputs": [],
   "source": [
    "df_eval_outlier = modval.evaluate_pred_outliers(\n",
    "    df_benchmark=df_selected_cell,\n",
    "    outlier_cycle_index=pred_outlier_indices)"
   ]
  },
  {
   "cell_type": "markdown",
   "id": "57eb737d-58c2-4905-8226-7ef6b6047044",
   "metadata": {},
   "source": [
    "## Confusion matrix"
   ]
  },
  {
   "cell_type": "code",
   "execution_count": 29,
   "id": "7a814cb1-f128-4ca9-8168-98edbe7a231b",
   "metadata": {},
   "outputs": [
    {
     "data": {
      "image/png": "[encoded data removed]",
      "text/plain": [
       "<Figure size 600x400 with 1 Axes>"
      ]
     },
     "metadata": {},
     "output_type": "display_data"
    }
   ],
   "source": [
    "axplot = modval.generate_confusion_matrix(\n",
    "    y_true=df_eval_outlier[\"true_outlier\"],\n",
    "    y_pred=df_eval_outlier[\"pred_outlier\"])\n",
    "\n",
    "axplot.set_title(\n",
    "    \"Isolation Forest\",\n",
    "    fontsize=16)\n",
    "\n",
    "output_fig_filename = (\n",
    "    \"conf_matrix_iforest_\"\n",
    "    + selected_cell_label\n",
    "    + \".png\")\n",
    "\n",
    "fig_output_path = (\n",
    "    selected_cell_artifacts_dir\n",
    "    .joinpath(output_fig_filename))\n",
    "\n",
    "plt.savefig(\n",
    "    fig_output_path,\n",
    "    dpi=600,\n",
    "    bbox_inches=\"tight\")\n",
    "\n",
    "plt.show()"
   ]
  },
  {
   "cell_type": "markdown",
   "id": "93674ed0-adfa-4fa8-b236-d720ff4fe5eb",
   "metadata": {},
   "source": [
    "## Evaluate model performance"
   ]
  },
  {
   "cell_type": "code",
   "execution_count": 30,
   "id": "625ce13b-b98c-4b6a-94a5-1085c92e8723",
   "metadata": {},
   "outputs": [
    {
     "name": "stdout",
     "output_type": "stream",
     "text": [
      "Accuracy: 1.0\n",
      "Precision: 1.0\n",
      "Recall: 1.0\n",
      "F1-score: 1.0\n",
      "MCC-score: 1.0\n",
      "****************************************************************************************************\n"
     ]
    },
    {
     "data": {
      "text/html": [
       "<div>\n",
       "<style scoped>\n",
       "    .dataframe tbody tr th:only-of-type {\n",
       "        vertical-align: middle;\n",
       "    }\n",
       "\n",
       "    .dataframe tbody tr th {\n",
       "        vertical-align: top;\n",
       "    }\n",
       "\n",
       "    .dataframe thead th {\n",
       "        text-align: right;\n",
       "    }\n",
       "</style>\n",
       "<table border=\"1\" class=\"dataframe\">\n",
       "  <thead>\n",
       "    <tr style=\"text-align: right;\">\n",
       "      <th></th>\n",
       "      <th>ml_model</th>\n",
       "      <th>cell_index</th>\n",
       "      <th>accuracy</th>\n",
       "      <th>precision</th>\n",
       "      <th>recall</th>\n",
       "      <th>f1_score</th>\n",
       "      <th>mcc_score</th>\n",
       "    </tr>\n",
       "  </thead>\n",
       "  <tbody>\n",
       "    <tr>\n",
       "      <th>0</th>\n",
       "      <td>iforest</td>\n",
       "      <td>2017-05-12_5_4C-70per_3C_CH17</td>\n",
       "      <td>1.0</td>\n",
       "      <td>1.0</td>\n",
       "      <td>1.0</td>\n",
       "      <td>1.0</td>\n",
       "      <td>1.0</td>\n",
       "    </tr>\n",
       "  </tbody>\n",
       "</table>\n",
       "</div>"
      ]
     },
     "metadata": {},
     "output_type": "display_data"
    }
   ],
   "source": [
    "df_current_eval_metrics = modval.eval_model_performance(\n",
    "    model_name=\"iforest\",\n",
    "    selected_cell_label=selected_cell_label,\n",
    "    df_eval_outliers=df_eval_outlier)\n",
    "\n",
    "df_current_eval_metrics"
   ]
  },
  {
   "cell_type": "markdown",
   "id": "1f54b213-7587-4499-9e66-995f7e2494a9",
   "metadata": {},
   "source": [
    "## Export model performance metrics to CSV output"
   ]
  },
  {
   "cell_type": "code",
   "execution_count": 31,
   "id": "e9b75d84-d9ba-4dec-9896-6bac2cad53a4",
   "metadata": {},
   "outputs": [
    {
     "name": "stdout",
     "output_type": "stream",
     "text": [
      "\u001b[38;21mCreating new row for iforest, 2017-05-12_5_4C-70per_3C_CH17.\n",
      "\u001b[38;21mMetrics for iforest, 2017-05-12_5_4C-70per_3C_CH17 have been created in the CSV file.\n"
     ]
    },
    {
     "data": {
      "text/html": [
       "<div>\n",
       "<style scoped>\n",
       "    .dataframe tbody tr th:only-of-type {\n",
       "        vertical-align: middle;\n",
       "    }\n",
       "\n",
       "    .dataframe tbody tr th {\n",
       "        vertical-align: top;\n",
       "    }\n",
       "\n",
       "    .dataframe thead th {\n",
       "        text-align: right;\n",
       "    }\n",
       "</style>\n",
       "<table border=\"1\" class=\"dataframe\">\n",
       "  <thead>\n",
       "    <tr style=\"text-align: right;\">\n",
       "      <th></th>\n",
       "      <th>ml_model</th>\n",
       "      <th>cell_index</th>\n",
       "      <th>accuracy</th>\n",
       "      <th>precision</th>\n",
       "      <th>recall</th>\n",
       "      <th>f1_score</th>\n",
       "      <th>mcc_score</th>\n",
       "    </tr>\n",
       "  </thead>\n",
       "  <tbody>\n",
       "    <tr>\n",
       "      <th>0</th>\n",
       "      <td>iforest</td>\n",
       "      <td>2017-05-12_5_4C-70per_3C_CH17</td>\n",
       "      <td>1.0</td>\n",
       "      <td>1.0</td>\n",
       "      <td>1.0</td>\n",
       "      <td>1.0</td>\n",
       "      <td>1.0</td>\n",
       "    </tr>\n",
       "  </tbody>\n",
       "</table>\n",
       "</div>"
      ]
     },
     "metadata": {},
     "output_type": "display_data"
    }
   ],
   "source": [
    "# Export current metrics to CSV\n",
    "hyperparam_eval_filepath =  Path.cwd().joinpath(\n",
    "    \"eval_metrics_hp_single_cell_severson.csv\")\n",
    "\n",
    "hp.export_current_model_metrics(\n",
    "    model_name=\"iforest\",\n",
    "    selected_cell_label=selected_cell_label,\n",
    "    df_current_eval_metrics=df_current_eval_metrics,\n",
    "    export_csv_filepath=hyperparam_eval_filepath,\n",
    "    if_exists=\"replace\")"
   ]
  },
  {
   "cell_type": "markdown",
   "id": "b16fec5d-067e-494f-98f4-27d9ead0c103",
   "metadata": {},
   "source": [
    "# Finally: check with true labels"
   ]
  },
  {
   "cell_type": "markdown",
   "id": "c5a1a954-3ee5-444f-84ab-2b7b7e718053",
   "metadata": {},
   "source": [
    "## Plot cycle data with labels"
   ]
  },
  {
   "cell_type": "code",
   "execution_count": 32,
   "id": "f875832d-87d0-4c9e-a830-de5b37cb6935",
   "metadata": {},
   "outputs": [
    {
     "name": "stdout",
     "output_type": "stream",
     "text": [
      "True outlier cycle index:\n",
      "[  0.  40. 147. 148.]\n"
     ]
    },
    {
     "data": {
      "image/png": "[encoded data removed]",
      "text/plain": [
       "<Figure size 1000x600 with 2 Axes>"
      ]
     },
     "metadata": {},
     "output_type": "display_data"
    }
   ],
   "source": [
    "# Extract true outliers cycle index from benchmarking dataset\n",
    "true_outlier_cycle_index = benchdb.get_true_outlier_cycle_index(\n",
    "    df_selected_cell)\n",
    "print(f\"True outlier cycle index:\")\n",
    "print(true_outlier_cycle_index)\n",
    "\n",
    "# Plot cell data with true anomalies\n",
    "# If the true outlier cycle index is not known,\n",
    "# cycling data will be plotted without labels\n",
    "benchdb.plot_cycle_data(\n",
    "    df_selected_cell_without_labels,\n",
    "    true_outlier_cycle_index)\n",
    "\n",
    "output_fig_filename = (\n",
    "    \"cycle_data_with_labels_\"\n",
    "    + selected_cell_label\n",
    "    + \".png\")\n",
    "\n",
    "fig_output_path = (\n",
    "    selected_cell_artifacts_dir.joinpath(output_fig_filename))\n",
    "\n",
    "plt.savefig(\n",
    "    fig_output_path,\n",
    "    dpi=600,\n",
    "    bbox_inches=\"tight\")\n",
    "\n",
    "plt.show()"
   ]
  },
  {
   "cell_type": "markdown",
   "id": "28e8d2b0-2472-4497-9761-ab7d21f877c0",
   "metadata": {},
   "source": [
    "## Calculate bubble size ratio"
   ]
  },
  {
   "cell_type": "code",
   "execution_count": 33,
   "id": "8825432d-6744-48ec-a977-975eae306a84",
   "metadata": {},
   "outputs": [
    {
     "name": "stdout",
     "output_type": "stream",
     "text": [
      "Feature mean: 0.00641125672398844\n",
      "Feature max: 0.042899057000000074\n",
      "Feature min: 0.006194469999999952\n",
      "Feature std: 0.0019646872892444154\n",
      "**********************************************************************\n",
      "Feature mean: 0.04105323627167629\n",
      "Feature max: 2.612268400000005\n",
      "Feature min: 0.022684100000000207\n",
      "Feature std: 0.11397361246602544\n",
      "**********************************************************************\n"
     ]
    }
   ],
   "source": [
    "# Calculate the bubble size ratio for plotting\n",
    "df_bubble_size_dQ = bviz.calculate_bubble_size_ratio(\n",
    "    df_variable=df_features_per_cell[\"max_diff_dQ\"])\n",
    "\n",
    "df_bubble_size_dV = bviz.calculate_bubble_size_ratio(\n",
    "    df_variable=df_features_per_cell[\"max_diff_dV\"])\n",
    "\n",
    "bubble_size = (\n",
    "    np.abs(df_bubble_size_dV)\n",
    "    * np.abs(df_bubble_size_dQ))"
   ]
  },
  {
   "cell_type": "markdown",
   "id": "520e4bf2-894a-469c-ac57-b25c9ec830b4",
   "metadata": {},
   "source": [
    "## Plot the bubble chart and label the true outliers"
   ]
  },
  {
   "cell_type": "code",
   "execution_count": 34,
   "id": "cbdae17f-b03c-4727-a388-cf5ab8948a86",
   "metadata": {},
   "outputs": [
    {
     "name": "stdout",
     "output_type": "stream",
     "text": [
      "Potential anomalous cycle: 0.0\n",
      "x-position of the text: -5.053343441284631\n",
      "y-position of the text: 0.44734305691240445\n",
      "----------------------------------------------------------------------\n",
      "Potential anomalous cycle: 40.0\n",
      "x-position of the text: -5.066424997988364\n",
      "y-position of the text: 0.9602189626435208\n",
      "----------------------------------------------------------------------\n",
      "Potential anomalous cycle: 147.0\n",
      "x-position of the text: -3.1508950320267735\n",
      "y-position of the text: -3.5256965450993665\n",
      "----------------------------------------------------------------------\n",
      "Potential anomalous cycle: 148.0\n",
      "x-position of the text: -3.1489054346417387\n",
      "y-position of the text: -3.6794044837514233\n",
      "----------------------------------------------------------------------\n"
     ]
    },
    {
     "data": {
      "image/png": "[encoded data removed]",
      "text/plain": [
       "<Figure size 640x480 with 1 Axes>"
      ]
     },
     "metadata": {},
     "output_type": "display_data"
    }
   ],
   "source": [
    "# Plot the bubble chart and label the outliers\n",
    "axplot = bviz.plot_bubble_chart(\n",
    "    xseries=df_features_per_cell[\"log_max_diff_dQ\"],\n",
    "    yseries=df_features_per_cell[\"log_max_diff_dV\"],\n",
    "    bubble_size=bubble_size,\n",
    "    unique_cycle_count=unique_cycle_count,\n",
    "    cycle_outlier_idx_label=true_outlier_cycle_index)\n",
    "\n",
    "axplot.set_title(\n",
    "    f\"Cell {selected_cell_label}\", fontsize=13)\n",
    "\n",
    "axplot.set_xlabel(\n",
    "    r\"$\\log(\\Delta Q_\\textrm{scaled,max,cyc)}\\;\\textrm{[Ah]}$\",\n",
    "    fontsize=12)\n",
    "axplot.set_ylabel(\n",
    "    r\"$\\log(\\Delta V_\\textrm{scaled,max,cyc})\\;\\textrm{[V]}$\",\n",
    "    fontsize=12)\n",
    "\n",
    "output_fig_filename = (\n",
    "    \"log_bubble_plot_\"\n",
    "    + selected_cell_label\n",
    "    + \".png\")\n",
    "\n",
    "fig_output_path = (\n",
    "    selected_cell_artifacts_dir.joinpath(output_fig_filename))\n",
    "\n",
    "plt.savefig(\n",
    "    fig_output_path,\n",
    "    dpi=200,\n",
    "    bbox_inches=\"tight\")\n",
    "\n",
    "plt.show()"
   ]
  }
 ],
 "metadata": {
  "kernelspec": {
   "display_name": "osbad",
   "language": "python",
   "name": "python3"
  },
  "language_info": {
   "codemirror_mode": {
    "name": "ipython",
    "version": 3
   },
   "file_extension": ".py",
   "mimetype": "text/x-python",
   "name": "python",
   "nbconvert_exporter": "python",
   "pygments_lexer": "ipython3",
   "version": "3.12.11"
  }
 },
 "nbformat": 4,
 "nbformat_minor": 5
}
