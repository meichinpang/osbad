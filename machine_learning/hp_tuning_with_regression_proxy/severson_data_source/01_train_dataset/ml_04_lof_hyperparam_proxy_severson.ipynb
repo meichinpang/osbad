{
 "cells": [
  {
   "cell_type": "markdown",
   "id": "146bf18a-5170-42e7-9995-c49f2ab82477",
   "metadata": {},
   "source": [
    "# Import libraries"
   ]
  },
  {
   "cell_type": "code",
   "execution_count": 1,
   "id": "24deb36b-a8dd-4a91-b4c5-4c94ce393f15",
   "metadata": {},
   "outputs": [],
   "source": [
    "%load_ext autoreload\n",
    "%autoreload 2\n",
    "\n",
    "# Standard library\n",
    "from pathlib import Path\n",
    "import pprint\n",
    "\n",
    "# Third-party libraries\n",
    "import duckdb\n",
    "import fireducks.pandas as pd\n",
    "import matplotlib.pyplot as plt\n",
    "import numpy as np\n",
    "import optuna\n",
    "from matplotlib import rcParams\n",
    "\n",
    "rcParams[\"text.usetex\"] = True\n",
    "\n",
    "# Custom osbad library for anomaly detection\n",
    "import osbad.config as bconf\n",
    "import osbad.hyperparam as hp\n",
    "import osbad.modval as modval\n",
    "import osbad.viz as bviz\n",
    "from osbad.database import BenchDB\n",
    "from osbad.model import ModelRunner"
   ]
  },
  {
   "cell_type": "markdown",
   "id": "b3f33544-b0ca-474e-8383-e13cd7c75415",
   "metadata": {},
   "source": [
    "# Import dataset"
   ]
  },
  {
   "cell_type": "code",
   "execution_count": 2,
   "id": "8ad2caf0-33af-413a-bcfd-a6445cd50895",
   "metadata": {},
   "outputs": [],
   "source": [
    "# Define a global variable to save fig output\n",
    "# The definition of PIPELINE_OUTPUT_DIR can be\n",
    "# found in config.py\n",
    "PIPELINE_OUTPUT_DIR = bconf.PIPELINE_OUTPUT_DIR\n",
    "\n",
    "# Path to database directory\n",
    "DB_DIR = bconf.DB_DIR\n",
    "\n",
    "# Path to the DuckDB instance:\n",
    "# \"osbad/database/train_dataset_severson.db\"\n",
    "db_filepath = (\n",
    "    DB_DIR.joinpath(\"train_dataset_severson.db\"))"
   ]
  },
  {
   "cell_type": "markdown",
   "id": "9da5b1b3-9fe2-43d6-b741-896fe2a7e837",
   "metadata": {},
   "source": [
    "## Get unique cell labels from training dataset"
   ]
  },
  {
   "cell_type": "code",
   "execution_count": 3,
   "id": "79d8fe80-24b6-4626-91aa-14fc80346e90",
   "metadata": {},
   "outputs": [
    {
     "data": {
      "application/vnd.jupyter.widget-view+json": {
       "model_id": "ab23edcc068c4902b1d85dbbe47b3f63",
       "version_major": 2,
       "version_minor": 0
      },
      "text/plain": [
       "FloatProgress(value=0.0, layout=Layout(width='auto'), style=ProgressStyle(bar_color='black'))"
      ]
     },
     "metadata": {},
     "output_type": "display_data"
    },
    {
     "name": "stdout",
     "output_type": "stream",
     "text": [
      "['2017-05-12_5_4C-50per_3C_CH13' '2017-05-12_5_4C-50per_3C_CH14'\n",
      " '2017-05-12_5_4C-60per_3C_CH15' '2017-05-12_5_4C-60per_3C_CH16'\n",
      " '2017-05-12_5_4C-70per_3C_CH17' '2017-05-12_5_4C-70per_3C_CH18'\n",
      " '2017-05-12_6C-40per_3C_CH25' '2017-05-12_6C-40per_3C_CH26'\n",
      " '2017-05-12_6C-50per_3C_CH27' '2017-05-12_6C-50per_3C_CH28'\n",
      " '2017-05-12_6C-60per_3C_CH29' '2017-05-12_6C-60per_3C_CH30'\n",
      " '2017-05-12_7C-40per_3C_CH37' '2017-05-12_7C-40per_3C_CH38'\n",
      " '2017-05-12_4C-80per_4C_CH5' '2017-05-12_4C-80per_4C_CH6'\n",
      " '2017-05-12_4_4C-80per_4_4C_CH7' '2017-05-12_5_4C-80per_5_4C_CH11'\n",
      " '2017-05-12_5_4C-80per_5_4C_CH12' '2017-05-12_3_6C-80per_3_6C_CH1'\n",
      " '2017-05-12_3_6C-80per_3_6C_CH2' '2017-05-12_3_6C-80per_3_6C_CH3'\n",
      " '2017-05-12_5_4C-40per_3_6C_CH19']\n"
     ]
    }
   ],
   "source": [
    "# Create a DuckDB connection\n",
    "con = duckdb.connect(\n",
    "    db_filepath,\n",
    "    read_only=True)\n",
    "\n",
    "# Load all training dataset from duckdb\n",
    "df_duckdb = con.execute(\n",
    "    \"SELECT * FROM df_train_dataset_sv\").fetchdf()\n",
    "\n",
    "unique_cell_index_train = df_duckdb[\"cell_index\"].unique()\n",
    "print(unique_cell_index_train)"
   ]
  },
  {
   "cell_type": "code",
   "execution_count": 4,
   "id": "942bbeea-ea99-421d-b834-3cb6787a2252",
   "metadata": {},
   "outputs": [
    {
     "name": "stdout",
     "output_type": "stream",
     "text": [
      "Training cell count: 23\n"
     ]
    }
   ],
   "source": [
    "training_cell_count = len(unique_cell_index_train)\n",
    "print(f\"Training cell count: {training_cell_count}\")"
   ]
  },
  {
   "cell_type": "markdown",
   "id": "166173b4-aeee-458e-aacb-2ff7eb3872ab",
   "metadata": {},
   "source": [
    "## Define selected_cell_label"
   ]
  },
  {
   "cell_type": "code",
   "execution_count": 5,
   "id": "cdfa90da-ff8f-4ba0-a190-6feadf0f3ab5",
   "metadata": {},
   "outputs": [],
   "source": [
    "# Get the cell-ID from cell_inventory\n",
    "selected_cell_label = \"2017-05-12_5_4C-70per_3C_CH17\"\n",
    "\n",
    "# Create a subfolder to store fig output\n",
    "# corresponding to each cell-index\n",
    "selected_cell_artifacts_dir = bconf.artifacts_output_dir(\n",
    "    selected_cell_label)"
   ]
  },
  {
   "cell_type": "markdown",
   "id": "43942c52-0bcd-45a2-a1ab-7301e83b8f14",
   "metadata": {},
   "source": [
    "# Load benchmarking dataset"
   ]
  },
  {
   "cell_type": "code",
   "execution_count": 6,
   "id": "1016829f-4cdc-434f-932c-ca3f56778687",
   "metadata": {},
   "outputs": [
    {
     "name": "stdout",
     "output_type": "stream",
     "text": [
      "Database is found in the given filepath.\n",
      "Loading benchmarking dataset now...\n"
     ]
    },
    {
     "data": {
      "application/vnd.jupyter.widget-view+json": {
       "model_id": "eb722723ddf74985953fdbef298891ef",
       "version_major": 2,
       "version_minor": 0
      },
      "text/plain": [
       "FloatProgress(value=0.0, layout=Layout(width='auto'), style=ProgressStyle(bar_color='black'))"
      ]
     },
     "metadata": {},
     "output_type": "display_data"
    },
    {
     "name": "stdout",
     "output_type": "stream",
     "text": [
      "****************************************************************************************************\n"
     ]
    }
   ],
   "source": [
    "# Import the BenchDB class\n",
    "# Load only the dataset based on the selected cell\n",
    "benchdb = BenchDB(\n",
    "    db_filepath,\n",
    "    selected_cell_label)\n",
    "\n",
    "# load the benchmarking dataset\n",
    "df_selected_cell = benchdb.load_benchmark_dataset(\n",
    "    dataset_type=\"train\")"
   ]
  },
  {
   "cell_type": "markdown",
   "id": "4dbc63a9-bd28-4ecd-83ae-e8454a05972e",
   "metadata": {},
   "source": [
    "## Drop labels"
   ]
  },
  {
   "cell_type": "code",
   "execution_count": 7,
   "id": "a1461916-041c-41c7-b5db-871ed17685d2",
   "metadata": {},
   "outputs": [
    {
     "name": "stdout",
     "output_type": "stream",
     "text": [
      "|    | cell_index                    |   cycle_index |   discharge_capacity |   voltage |\n",
      "|---:|:------------------------------|--------------:|---------------------:|----------:|\n",
      "|  0 | 2017-05-12_5_4C-70per_3C_CH17 |             0 |          1.26512e-05 |   3.29189 |\n",
      "|  1 | 2017-05-12_5_4C-70per_3C_CH17 |             0 |          0.00136774  |   3.28185 |\n",
      "|  2 | 2017-05-12_5_4C-70per_3C_CH17 |             0 |          0.00292998  |   3.27788 |\n",
      "|  3 | 2017-05-12_5_4C-70per_3C_CH17 |             0 |          0.00449361  |   3.27513 |\n",
      "|  4 | 2017-05-12_5_4C-70per_3C_CH17 |             0 |          0.00449361  |   3.27513 |\n",
      "|  5 | 2017-05-12_5_4C-70per_3C_CH17 |             0 |          0.00605927  |   3.27299 |\n",
      "|  6 | 2017-05-12_5_4C-70per_3C_CH17 |             0 |          0.00762155  |   3.27124 |\n",
      "|  7 | 2017-05-12_5_4C-70per_3C_CH17 |             0 |          0.0091859   |   3.2703  |\n",
      "|  8 | 2017-05-12_5_4C-70per_3C_CH17 |             0 |          0.0107469   |   3.26875 |\n",
      "|  9 | 2017-05-12_5_4C-70per_3C_CH17 |             0 |          0.0123127   |   3.26787 |\n",
      "****************************************************************************************************\n"
     ]
    }
   ],
   "source": [
    "if df_selected_cell is not None:\n",
    "\n",
    "    filter_col = [\n",
    "        \"cell_index\",\n",
    "        \"cycle_index\",\n",
    "        \"discharge_capacity\",\n",
    "        \"voltage\"]\n",
    "\n",
    "    # Drop true labels from the benchmarking dataset\n",
    "    # and filter for selected columns only\n",
    "    df_selected_cell_without_labels = benchdb.drop_labels(\n",
    "        df_selected_cell,\n",
    "        filter_col)\n",
    "\n",
    "    # print a subset of the dataframe\n",
    "    # for diagnostics running in terminals\n",
    "    print(df_selected_cell_without_labels.head(10).to_markdown())\n",
    "    print(\"*\"*100)"
   ]
  },
  {
   "cell_type": "markdown",
   "id": "fa19f62a-81be-45ba-84bf-ce6c113795b2",
   "metadata": {},
   "source": [
    "## Plot cycle data without labels"
   ]
  },
  {
   "cell_type": "code",
   "execution_count": null,
   "id": "b335dd67-f921-41f1-8090-ecc6e11289e1",
   "metadata": {},
   "outputs": [
    {
     "data": {
      "image/png": "[encoded data removed]",
      "text/plain": [
       "<Figure size 1000x600 with 2 Axes>"
      ]
     },
     "metadata": {},
     "output_type": "display_data"
    }
   ],
   "source": [
    "# If the true outlier cycle index is not known,\n",
    "# cycling data will be plotted without labels\n",
    "benchdb.plot_cycle_data(\n",
    "    df_selected_cell_without_labels)\n",
    "\n",
    "output_fig_filename = (\n",
    "    \"cycle_data_without_labels_\"\n",
    "    + selected_cell_label\n",
    "    + \".png\")\n",
    "\n",
    "fig_output_path = (\n",
    "    selected_cell_artifacts_dir\n",
    "    .joinpath(output_fig_filename))\n",
    "\n",
    "plt.savefig(\n",
    "    fig_output_path,\n",
    "    dpi=600,\n",
    "    bbox_inches=\"tight\")\n",
    "\n",
    "plt.show()"
   ]
  },
  {
   "cell_type": "markdown",
   "id": "1e5c1286-a869-4c35-9b05-d0f9dc830732",
   "metadata": {},
   "source": [
    "# Features transformation"
   ]
  },
  {
   "cell_type": "markdown",
   "id": "a1c34a28-c4e4-4ae2-a111-945cd7cfd86b",
   "metadata": {},
   "source": [
    "## Load the training features dataset"
   ]
  },
  {
   "cell_type": "code",
   "execution_count": 8,
   "id": "c006e179-a441-4a9e-ad65-9ecca97e517a",
   "metadata": {},
   "outputs": [
    {
     "name": "stdout",
     "output_type": "stream",
     "text": [
      "Features database is found in the given filepath.\n",
      "Features database is loaded.\n",
      "****************************************************************************************************\n"
     ]
    }
   ],
   "source": [
    "# Define the filepath to ``train_features_severson.db``\n",
    "# osbad/database/train_features_severson.db\n",
    "db_features_filepath = (\n",
    "    DB_DIR.joinpath(\n",
    "        \"train_features_severson.db\"))\n",
    "\n",
    "# Load only the training features dataset\n",
    "df_features_per_cell = benchdb.load_features_db(\n",
    "    db_features_filepath,\n",
    "    dataset_type=\"train\")\n",
    "\n",
    "unique_cycle_count = (\n",
    "    df_features_per_cell[\"cycle_index\"].unique())"
   ]
  },
  {
   "cell_type": "code",
   "execution_count": 9,
   "id": "e27354fd-b86e-494c-9087-589556b051db",
   "metadata": {},
   "outputs": [
    {
     "data": {
      "text/html": [
       "<div>\n",
       "<style scoped>\n",
       "    .dataframe tbody tr th:only-of-type {\n",
       "        vertical-align: middle;\n",
       "    }\n",
       "\n",
       "    .dataframe tbody tr th {\n",
       "        vertical-align: top;\n",
       "    }\n",
       "\n",
       "    .dataframe thead th {\n",
       "        text-align: right;\n",
       "    }\n",
       "</style>\n",
       "<table border=\"1\" class=\"dataframe\">\n",
       "  <thead>\n",
       "    <tr style=\"text-align: right;\">\n",
       "      <th></th>\n",
       "      <th>max_diff_dQ</th>\n",
       "      <th>log_max_diff_dQ</th>\n",
       "      <th>cycle_index</th>\n",
       "      <th>max_diff_dV</th>\n",
       "      <th>log_max_diff_dV</th>\n",
       "      <th>cell_index</th>\n",
       "    </tr>\n",
       "  </thead>\n",
       "  <tbody>\n",
       "    <tr>\n",
       "      <th>0</th>\n",
       "      <td>0.006388</td>\n",
       "      <td>-5.053343</td>\n",
       "      <td>0.0</td>\n",
       "      <td>1.564151</td>\n",
       "      <td>0.447343</td>\n",
       "      <td>2017-05-12_5_4C-70per_3C_CH17</td>\n",
       "    </tr>\n",
       "    <tr>\n",
       "      <th>1</th>\n",
       "      <td>0.006338</td>\n",
       "      <td>-5.061258</td>\n",
       "      <td>1.0</td>\n",
       "      <td>0.023727</td>\n",
       "      <td>-3.741163</td>\n",
       "      <td>2017-05-12_5_4C-70per_3C_CH17</td>\n",
       "    </tr>\n",
       "    <tr>\n",
       "      <th>2</th>\n",
       "      <td>0.006321</td>\n",
       "      <td>-5.063922</td>\n",
       "      <td>2.0</td>\n",
       "      <td>0.022684</td>\n",
       "      <td>-3.786091</td>\n",
       "      <td>2017-05-12_5_4C-70per_3C_CH17</td>\n",
       "    </tr>\n",
       "    <tr>\n",
       "      <th>3</th>\n",
       "      <td>0.006259</td>\n",
       "      <td>-5.073756</td>\n",
       "      <td>3.0</td>\n",
       "      <td>0.027899</td>\n",
       "      <td>-3.579172</td>\n",
       "      <td>2017-05-12_5_4C-70per_3C_CH17</td>\n",
       "    </tr>\n",
       "    <tr>\n",
       "      <th>4</th>\n",
       "      <td>0.006236</td>\n",
       "      <td>-5.077346</td>\n",
       "      <td>4.0</td>\n",
       "      <td>0.026408</td>\n",
       "      <td>-3.634081</td>\n",
       "      <td>2017-05-12_5_4C-70per_3C_CH17</td>\n",
       "    </tr>\n",
       "    <tr>\n",
       "      <th>...</th>\n",
       "      <td>...</td>\n",
       "      <td>...</td>\n",
       "      <td>...</td>\n",
       "      <td>...</td>\n",
       "      <td>...</td>\n",
       "      <td>...</td>\n",
       "    </tr>\n",
       "    <tr>\n",
       "      <th>687</th>\n",
       "      <td>0.006236</td>\n",
       "      <td>-5.077391</td>\n",
       "      <td>687.0</td>\n",
       "      <td>0.046420</td>\n",
       "      <td>-3.070023</td>\n",
       "      <td>2017-05-12_5_4C-70per_3C_CH17</td>\n",
       "    </tr>\n",
       "    <tr>\n",
       "      <th>688</th>\n",
       "      <td>0.006281</td>\n",
       "      <td>-5.070178</td>\n",
       "      <td>688.0</td>\n",
       "      <td>0.051542</td>\n",
       "      <td>-2.965352</td>\n",
       "      <td>2017-05-12_5_4C-70per_3C_CH17</td>\n",
       "    </tr>\n",
       "    <tr>\n",
       "      <th>689</th>\n",
       "      <td>0.006243</td>\n",
       "      <td>-5.076238</td>\n",
       "      <td>689.0</td>\n",
       "      <td>0.047776</td>\n",
       "      <td>-3.041228</td>\n",
       "      <td>2017-05-12_5_4C-70per_3C_CH17</td>\n",
       "    </tr>\n",
       "    <tr>\n",
       "      <th>690</th>\n",
       "      <td>0.006316</td>\n",
       "      <td>-5.064619</td>\n",
       "      <td>690.0</td>\n",
       "      <td>0.046331</td>\n",
       "      <td>-3.071935</td>\n",
       "      <td>2017-05-12_5_4C-70per_3C_CH17</td>\n",
       "    </tr>\n",
       "    <tr>\n",
       "      <th>691</th>\n",
       "      <td>0.006402</td>\n",
       "      <td>-5.051123</td>\n",
       "      <td>691.0</td>\n",
       "      <td>0.047873</td>\n",
       "      <td>-3.039193</td>\n",
       "      <td>2017-05-12_5_4C-70per_3C_CH17</td>\n",
       "    </tr>\n",
       "  </tbody>\n",
       "</table>\n",
       "<p>692 rows × 6 columns</p>\n",
       "</div>"
      ],
      "text/plain": [
       "     max_diff_dQ  log_max_diff_dQ  cycle_index  max_diff_dV  log_max_diff_dV  \\\n",
       "0       0.006388        -5.053343          0.0     1.564151         0.447343   \n",
       "1       0.006338        -5.061258          1.0     0.023727        -3.741163   \n",
       "2       0.006321        -5.063922          2.0     0.022684        -3.786091   \n",
       "3       0.006259        -5.073756          3.0     0.027899        -3.579172   \n",
       "4       0.006236        -5.077346          4.0     0.026408        -3.634081   \n",
       "..           ...              ...          ...          ...              ...   \n",
       "687     0.006236        -5.077391        687.0     0.046420        -3.070023   \n",
       "688     0.006281        -5.070178        688.0     0.051542        -2.965352   \n",
       "689     0.006243        -5.076238        689.0     0.047776        -3.041228   \n",
       "690     0.006316        -5.064619        690.0     0.046331        -3.071935   \n",
       "691     0.006402        -5.051123        691.0     0.047873        -3.039193   \n",
       "\n",
       "                        cell_index  \n",
       "0    2017-05-12_5_4C-70per_3C_CH17  \n",
       "1    2017-05-12_5_4C-70per_3C_CH17  \n",
       "2    2017-05-12_5_4C-70per_3C_CH17  \n",
       "3    2017-05-12_5_4C-70per_3C_CH17  \n",
       "4    2017-05-12_5_4C-70per_3C_CH17  \n",
       "..                             ...  \n",
       "687  2017-05-12_5_4C-70per_3C_CH17  \n",
       "688  2017-05-12_5_4C-70per_3C_CH17  \n",
       "689  2017-05-12_5_4C-70per_3C_CH17  \n",
       "690  2017-05-12_5_4C-70per_3C_CH17  \n",
       "691  2017-05-12_5_4C-70per_3C_CH17  \n",
       "\n",
       "[692 rows x 6 columns]"
      ]
     },
     "execution_count": 9,
     "metadata": {},
     "output_type": "execute_result"
    }
   ],
   "source": [
    "df_features_per_cell"
   ]
  },
  {
   "cell_type": "markdown",
   "id": "81026747-cbe4-4b69-85d5-ca8e17c2899e",
   "metadata": {},
   "source": [
    "# Hyperparameter tuning"
   ]
  },
  {
   "cell_type": "markdown",
   "id": "aab1ea08-60dd-4045-a4fc-5212c93ae7bd",
   "metadata": {},
   "source": [
    "## Create optuna study"
   ]
  },
  {
   "cell_type": "code",
   "execution_count": 64,
   "id": "7eb8d575-c79c-4d7e-91ee-dc9863230aec",
   "metadata": {},
   "outputs": [
    {
     "data": {
      "text/plain": [
       "{'contamination': {'low': 0.0, 'high': 0.5},\n",
       " 'n_neighbors': {'low': 10, 'high': 50},\n",
       " 'leaf_size': {'low': 10, 'high': 100},\n",
       " 'metric': ['minkowski', 'euclidean', 'manhattan'],\n",
       " 'threshold': {'low': 0.0, 'high': 1.0}}"
      ]
     },
     "execution_count": 64,
     "metadata": {},
     "output_type": "execute_result"
    }
   ],
   "source": [
    "hp_config_lof = {\n",
    "    \"contamination\": {\"low\": 0.0, \"high\": 0.5},\n",
    "    \"n_neighbors\": {\"low\": 10, \"high\": 50},\n",
    "    \"leaf_size\": {\"low\": 10, \"high\": 100},\n",
    "    \"metric\": [\"minkowski\",\"euclidean\",\"manhattan\"],\n",
    "    \"threshold\": {\"low\": 0.0, \"high\": 1.0}\n",
    "}\n",
    "\n",
    "lof_hp_config_filepath = (\n",
    "    Path.cwd()\n",
    "    .parents[3]\n",
    "    .joinpath(\n",
    "        \"machine_learning\",\n",
    "        \"hp_config_schema\",\n",
    "        \"severson_hp_config\",\n",
    "        \"lof_hp_config.json\"))\n",
    "\n",
    "bconf.create_json_hp_config(\n",
    "    lof_hp_config_filepath,\n",
    "    hp_dict=hp_config_lof)\n",
    "\n",
    "bconf.load_json_hp_config(\n",
    "    lof_hp_config_filepath)"
   ]
  },
  {
   "cell_type": "code",
   "execution_count": 65,
   "id": "639f7828-c3f1-4bb6-a927-54b70f2d49d9",
   "metadata": {},
   "outputs": [
    {
     "name": "stderr",
     "output_type": "stream",
     "text": [
      "[I 2025-10-13 14:00:27,701] A new study created in memory with name: lof_hyperparam\n",
      "[I 2025-10-13 14:00:27,744] Trial 0 finished with values: [0.200664623866367, 0.9942196531791907] and parameters: {'n_neighbors': 25, 'leaf_size': 96, 'metric': 'minkowski', 'contamination': 0.07799726016810132, 'threshold': 0.05808361216819946}.\n",
      "[I 2025-10-13 14:00:27,787] Trial 1 finished with values: [0.200664623866367, 0.9942196531791907] and parameters: {'n_neighbors': 45, 'leaf_size': 64, 'metric': 'manhattan', 'contamination': 0.41622132040021087, 'threshold': 0.21233911067827616}.\n",
      "[I 2025-10-13 14:00:27,830] Trial 2 finished with values: [0.33733236991965365, 0.9971098265895953] and parameters: {'n_neighbors': 17, 'leaf_size': 26, 'metric': 'euclidean', 'contamination': 0.14561457009902096, 'threshold': 0.6118528947223795}.\n",
      "[I 2025-10-13 14:00:27,872] Trial 3 finished with values: [0.2698174137348291, 0.9956647398843931] and parameters: {'n_neighbors': 15, 'leaf_size': 36, 'metric': 'manhattan', 'contamination': 0.09983689107917987, 'threshold': 0.5142344384136116}.\n"
     ]
    },
    {
     "name": "stdout",
     "output_type": "stream",
     "text": [
      "Current hyperparameter config:\n",
      "{'contamination': {'low': 0.0, 'high': 0.5}, 'n_neighbors': {'low': 10, 'high': 50}, 'leaf_size': {'low': 10, 'high': 100}, 'metric': ['minkowski', 'euclidean', 'manhattan'], 'threshold': {'low': 0.0, 'high': 1.0}}\n",
      "----------------------------------------------------------------------\n"
     ]
    },
    {
     "name": "stderr",
     "output_type": "stream",
     "text": [
      "[I 2025-10-13 14:00:27,911] Trial 4 finished with values: [1.0, 1.0] and parameters: {'n_neighbors': 34, 'leaf_size': 14, 'metric': 'minkowski', 'contamination': 0.4744427686266666, 'threshold': 0.9656320330745594}.\n",
      "[I 2025-10-13 14:00:27,949] Trial 5 finished with values: [0.200664623866367, 0.9942196531791907] and parameters: {'n_neighbors': 43, 'leaf_size': 37, 'metric': 'euclidean', 'contamination': 0.06101911742238941, 'threshold': 0.4951769101112702}.\n",
      "[I 2025-10-13 14:00:27,984] Trial 6 finished with values: [0.33733236991965365, 0.9971098265895953] and parameters: {'n_neighbors': 11, 'leaf_size': 92, 'metric': 'euclidean', 'contamination': 0.2600340105889054, 'threshold': 0.5467102793432796}.\n",
      "[I 2025-10-13 14:00:28,019] Trial 7 finished with values: [1.0, 1.0] and parameters: {'n_neighbors': 17, 'leaf_size': 98, 'metric': 'euclidean', 'contamination': 0.29894998940554257, 'threshold': 0.9218742350231168}.\n",
      "[I 2025-10-13 14:00:28,058] Trial 8 finished with values: [0.5644147987134474, 0.9971098265895953] and parameters: {'n_neighbors': 13, 'leaf_size': 27, 'metric': 'manhattan', 'contamination': 0.13567451588694796, 'threshold': 0.8287375091519293}.\n",
      "[I 2025-10-13 14:00:28,096] Trial 9 finished with values: [1.0, 1.0] and parameters: {'n_neighbors': 24, 'leaf_size': 35, 'metric': 'manhattan', 'contamination': 0.03727532183988541, 'threshold': 0.9868869366005173}.\n",
      "[I 2025-10-13 14:00:28,138] Trial 10 finished with values: [0.19934266222751684, 0.9855491329479769] and parameters: {'n_neighbors': 31, 'leaf_size': 74, 'metric': 'minkowski', 'contamination': 0.2146417743874898, 'threshold': 0.014527180120179194}.\n",
      "[I 2025-10-13 14:00:28,181] Trial 11 finished with values: [0.19957387869388765, 0.9812138728323699] and parameters: {'n_neighbors': 24, 'leaf_size': 76, 'metric': 'minkowski', 'contamination': 0.1660786749396027, 'threshold': 0.01231116956493733}.\n",
      "[I 2025-10-13 14:00:28,231] Trial 12 finished with values: [0.200664623866367, 0.9942196531791907] and parameters: {'n_neighbors': 37, 'leaf_size': 50, 'metric': 'minkowski', 'contamination': 0.023029037191684316, 'threshold': 0.2622713788133537}.\n",
      "[I 2025-10-13 14:00:28,279] Trial 13 finished with values: [0.200664623866367, 0.9942196531791907] and parameters: {'n_neighbors': 23, 'leaf_size': 85, 'metric': 'minkowski', 'contamination': 0.003597466718449349, 'threshold': 0.2550236924255518}.\n",
      "[I 2025-10-13 14:00:28,336] Trial 14 finished with values: [0.200664623866367, 0.9942196531791907] and parameters: {'n_neighbors': 27, 'leaf_size': 58, 'metric': 'minkowski', 'contamination': 0.3384090290478076, 'threshold': 0.7011625953937598}.\n",
      "[I 2025-10-13 14:00:28,389] Trial 15 finished with values: [0.200664623866367, 0.9942196531791907] and parameters: {'n_neighbors': 19, 'leaf_size': 100, 'metric': 'minkowski', 'contamination': 0.13285930135494195, 'threshold': 0.15578379319318553}.\n",
      "[I 2025-10-13 14:00:28,435] Trial 16 finished with values: [0.200664623866367, 0.9942196531791907] and parameters: {'n_neighbors': 50, 'leaf_size': 81, 'metric': 'minkowski', 'contamination': 0.19281104193690995, 'threshold': 0.38384828131412935}.\n",
      "[I 2025-10-13 14:00:28,481] Trial 17 finished with values: [0.200664623866367, 0.9942196531791907] and parameters: {'n_neighbors': 38, 'leaf_size': 65, 'metric': 'euclidean', 'contamination': 0.08625577579308047, 'threshold': 0.6713374497284826}.\n",
      "[I 2025-10-13 14:00:28,529] Trial 18 finished with values: [0.200664623866367, 0.9942196531791907] and parameters: {'n_neighbors': 29, 'leaf_size': 53, 'metric': 'minkowski', 'contamination': 0.3583598815762498, 'threshold': 0.35352440390074447}.\n",
      "[I 2025-10-13 14:00:28,571] Trial 19 finished with values: [0.200664623866367, 0.9942196531791907] and parameters: {'n_neighbors': 20, 'leaf_size': 89, 'metric': 'minkowski', 'contamination': 0.10995186901308726, 'threshold': 0.14992282569986165}.\n",
      "[I 2025-10-13 14:00:28,616] Trial 20 finished with values: [0.200664623866367, 0.9942196531791907] and parameters: {'n_neighbors': 33, 'leaf_size': 45, 'metric': 'euclidean', 'contamination': 0.2519526356224703, 'threshold': 0.09497270278376069}.\n",
      "[I 2025-10-13 14:00:28,664] Trial 21 finished with values: [0.200664623866367, 0.9942196531791907] and parameters: {'n_neighbors': 35, 'leaf_size': 10, 'metric': 'minkowski', 'contamination': 0.42026859586415594, 'threshold': 0.37652275808639224}.\n",
      "[I 2025-10-13 14:00:28,714] Trial 22 finished with values: [0.200664623866367, 0.9942196531791907] and parameters: {'n_neighbors': 26, 'leaf_size': 12, 'metric': 'minkowski', 'contamination': 0.06549919008993964, 'threshold': 0.706925866730062}.\n",
      "[I 2025-10-13 14:00:28,763] Trial 23 finished with values: [0.2698174137348291, 0.9956647398843931] and parameters: {'n_neighbors': 20, 'leaf_size': 21, 'metric': 'manhattan', 'contamination': 0.16374529382141045, 'threshold': 0.6274198266149675}.\n",
      "[I 2025-10-13 14:00:28,814] Trial 24 finished with values: [0.2698174137348291, 0.9956647398843931] and parameters: {'n_neighbors': 31, 'leaf_size': 70, 'metric': 'euclidean', 'contamination': 0.48261625893959736, 'threshold': 0.8294680117472055}.\n",
      "[I 2025-10-13 14:00:28,864] Trial 25 finished with values: [0.33733236991965365, 0.9971098265895953] and parameters: {'n_neighbors': 10, 'leaf_size': 61, 'metric': 'minkowski', 'contamination': 0.2188395887772775, 'threshold': 0.4607551042630673}.\n",
      "[I 2025-10-13 14:00:28,918] Trial 26 finished with values: [0.200664623866367, 0.9942196531791907] and parameters: {'n_neighbors': 22, 'leaf_size': 46, 'metric': 'minkowski', 'contamination': 0.05204706820965953, 'threshold': 0.3010304933252671}.\n",
      "[I 2025-10-13 14:00:28,970] Trial 27 finished with values: [0.200664623866367, 0.9942196531791907] and parameters: {'n_neighbors': 27, 'leaf_size': 94, 'metric': 'euclidean', 'contamination': 0.137839958607585, 'threshold': 0.08547012519849939}.\n",
      "[I 2025-10-13 14:00:29,021] Trial 28 finished with values: [0.2698174137348291, 0.9956647398843931] and parameters: {'n_neighbors': 42, 'leaf_size': 81, 'metric': 'manhattan', 'contamination': 0.0035093530969204922, 'threshold': 0.6110142916932986}.\n",
      "[I 2025-10-13 14:00:29,074] Trial 29 finished with values: [0.200664623866367, 0.9942196531791907] and parameters: {'n_neighbors': 47, 'leaf_size': 22, 'metric': 'manhattan', 'contamination': 0.49692139252485434, 'threshold': 0.19235290419564494}.\n",
      "[I 2025-10-13 14:00:29,132] Trial 30 finished with values: [0.200664623866367, 0.9942196531791907] and parameters: {'n_neighbors': 16, 'leaf_size': 65, 'metric': 'minkowski', 'contamination': 0.41572768420143325, 'threshold': 0.43800599289236}.\n",
      "[I 2025-10-13 14:00:29,184] Trial 31 finished with values: [0.33733236991965365, 0.9971098265895953] and parameters: {'n_neighbors': 14, 'leaf_size': 19, 'metric': 'euclidean', 'contamination': 0.20609437515784723, 'threshold': 0.7802328372656743}.\n",
      "[I 2025-10-13 14:00:29,248] Trial 32 finished with values: [0.200664623866367, 0.9942196531791907] and parameters: {'n_neighbors': 30, 'leaf_size': 31, 'metric': 'euclidean', 'contamination': 0.09743410648003561, 'threshold': 0.5640096216073992}.\n",
      "[I 2025-10-13 14:00:29,304] Trial 33 finished with values: [0.631856965066327, 0.9985549132947977] and parameters: {'n_neighbors': 17, 'leaf_size': 42, 'metric': 'euclidean', 'contamination': 0.17987448982533988, 'threshold': 0.9077084810483803}.\n",
      "[I 2025-10-13 14:00:29,355] Trial 34 finished with values: [0.200664623866367, 0.9942196531791907] and parameters: {'n_neighbors': 40, 'leaf_size': 39, 'metric': 'minkowski', 'contamination': 0.0770081878728344, 'threshold': 0.08508657246605908}.\n",
      "[I 2025-10-13 14:00:29,405] Trial 35 finished with values: [0.2698174137348291, 0.9956647398843931] and parameters: {'n_neighbors': 18, 'leaf_size': 69, 'metric': 'manhattan', 'contamination': 0.10903275564191131, 'threshold': 0.5016903243047969}.\n",
      "[I 2025-10-13 14:00:29,454] Trial 36 finished with values: [0.200664623866367, 0.9942196531791907] and parameters: {'n_neighbors': 34, 'leaf_size': 85, 'metric': 'minkowski', 'contamination': 0.29363470905195604, 'threshold': 0.32194287900244145}.\n",
      "[I 2025-10-13 14:00:29,503] Trial 37 finished with values: [1.0, 1.0] and parameters: {'n_neighbors': 12, 'leaf_size': 94, 'metric': 'manhattan', 'contamination': 0.1634811429788246, 'threshold': 0.9251264677409419}.\n",
      "[I 2025-10-13 14:00:29,554] Trial 38 finished with values: [0.200664623866367, 0.9942196531791907] and parameters: {'n_neighbors': 22, 'leaf_size': 41, 'metric': 'minkowski', 'contamination': 0.043480278406952864, 'threshold': 0.21707655905871778}.\n",
      "[I 2025-10-13 14:00:29,605] Trial 39 finished with values: [0.2698174137348291, 0.9956647398843931] and parameters: {'n_neighbors': 25, 'leaf_size': 77, 'metric': 'euclidean', 'contamination': 0.11968017827781223, 'threshold': 0.7735598739913094}.\n",
      "[I 2025-10-13 14:00:29,660] Trial 40 finished with values: [0.2698174137348291, 0.9956647398843931] and parameters: {'n_neighbors': 28, 'leaf_size': 32, 'metric': 'manhattan', 'contamination': 0.028054116018278258, 'threshold': 0.42787427407317546}.\n",
      "[I 2025-10-13 14:00:29,708] Trial 41 finished with values: [1.0, 1.0] and parameters: {'n_neighbors': 16, 'leaf_size': 15, 'metric': 'euclidean', 'contamination': 0.22853367371935407, 'threshold': 0.9619504295502819}.\n",
      "[I 2025-10-13 14:00:29,761] Trial 42 finished with values: [0.19271553374367476, 0.7789017341040463] and parameters: {'n_neighbors': 14, 'leaf_size': 25, 'metric': 'euclidean', 'contamination': 0.18394879094553795, 'threshold': 0.0014049498164050017}.\n",
      "[I 2025-10-13 14:00:29,814] Trial 43 finished with values: [0.19667853101714364, 0.9393063583815029] and parameters: {'n_neighbors': 14, 'leaf_size': 27, 'metric': 'euclidean', 'contamination': 0.16959887337202323, 'threshold': 0.004006659711395483}.\n",
      "[I 2025-10-13 14:00:29,873] Trial 44 finished with values: [0.200664623866367, 0.9942196531791907] and parameters: {'n_neighbors': 14, 'leaf_size': 89, 'metric': 'minkowski', 'contamination': 0.1481875444701346, 'threshold': 0.04196525350040428}.\n",
      "[I 2025-10-13 14:00:29,929] Trial 45 finished with values: [0.200664623866367, 0.9942196531791907] and parameters: {'n_neighbors': 21, 'leaf_size': 26, 'metric': 'minkowski', 'contamination': 0.07296207589754848, 'threshold': 0.1319592286695978}.\n",
      "[I 2025-10-13 14:00:29,978] Trial 46 finished with values: [0.17374156318170625, 0.8757225433526011] and parameters: {'n_neighbors': 32, 'leaf_size': 55, 'metric': 'euclidean', 'contamination': 0.1812709966706773, 'threshold': 0.0026087275878622918}.\n",
      "[I 2025-10-13 14:00:30,024] Trial 47 finished with values: [0.200664623866367, 0.9942196531791907] and parameters: {'n_neighbors': 32, 'leaf_size': 56, 'metric': 'euclidean', 'contamination': 0.30116895733663374, 'threshold': 0.05434470172093417}.\n",
      "[I 2025-10-13 14:00:30,079] Trial 48 finished with values: [0.200664623866367, 0.9942196531791907] and parameters: {'n_neighbors': 36, 'leaf_size': 50, 'metric': 'euclidean', 'contamination': 0.4344131729987474, 'threshold': 0.20960319771412328}.\n",
      "[I 2025-10-13 14:00:30,125] Trial 49 finished with values: [0.200664623866367, 0.9942196531791907] and parameters: {'n_neighbors': 45, 'leaf_size': 69, 'metric': 'minkowski', 'contamination': 0.08572017952240997, 'threshold': 0.5590048667297707}.\n",
      "[I 2025-10-13 14:00:30,169] Trial 50 finished with values: [0.200664623866367, 0.9942196531791907] and parameters: {'n_neighbors': 25, 'leaf_size': 60, 'metric': 'minkowski', 'contamination': 0.27033473282589177, 'threshold': 0.25269563885046836}.\n",
      "[I 2025-10-13 14:00:30,220] Trial 51 finished with values: [0.5644147987134474, 0.9971098265895953] and parameters: {'n_neighbors': 39, 'leaf_size': 97, 'metric': 'euclidean', 'contamination': 0.1813400383461497, 'threshold': 0.8877333924265127}.\n",
      "[I 2025-10-13 14:00:30,281] Trial 52 finished with values: [0.200664623866367, 0.9942196531791907] and parameters: {'n_neighbors': 18, 'leaf_size': 81, 'metric': 'minkowski', 'contamination': 0.3461068047792797, 'threshold': 0.1330439853172703}.\n",
      "[I 2025-10-13 14:00:30,338] Trial 53 finished with values: [0.200664623866367, 0.9942196531791907] and parameters: {'n_neighbors': 29, 'leaf_size': 43, 'metric': 'minkowski', 'contamination': 0.12333163042131365, 'threshold': 0.05048230861831698}.\n",
      "[I 2025-10-13 14:00:30,386] Trial 54 finished with values: [0.200664623866367, 0.9942196531791907] and parameters: {'n_neighbors': 23, 'leaf_size': 50, 'metric': 'euclidean', 'contamination': 0.38412354012110506, 'threshold': 0.16958839996742808}.\n",
      "[I 2025-10-13 14:00:30,431] Trial 55 finished with values: [0.200664623866367, 0.9942196531791907] and parameters: {'n_neighbors': 33, 'leaf_size': 36, 'metric': 'manhattan', 'contamination': 0.058571512013384994, 'threshold': 0.2886496828518557}.\n",
      "[I 2025-10-13 14:00:30,478] Trial 56 finished with values: [0.200664623866367, 0.9942196531791907] and parameters: {'n_neighbors': 36, 'leaf_size': 74, 'metric': 'minkowski', 'contamination': 0.02364026122645127, 'threshold': 0.3555299253819553}.\n",
      "[I 2025-10-13 14:00:30,528] Trial 57 finished with values: [1.0, 1.0] and parameters: {'n_neighbors': 27, 'leaf_size': 86, 'metric': 'minkowski', 'contamination': 0.14862427886753218, 'threshold': 0.996209699344938}.\n",
      "[I 2025-10-13 14:00:30,579] Trial 58 finished with values: [0.200664623866367, 0.9942196531791907] and parameters: {'n_neighbors': 48, 'leaf_size': 30, 'metric': 'euclidean', 'contamination': 0.09710076307641578, 'threshold': 0.6187545973582061}.\n",
      "[I 2025-10-13 14:00:30,627] Trial 59 finished with values: [0.200664623866367, 0.9942196531791907] and parameters: {'n_neighbors': 30, 'leaf_size': 99, 'metric': 'minkowski', 'contamination': 0.23361784978717745, 'threshold': 0.10656382535304137}.\n",
      "[I 2025-10-13 14:00:30,676] Trial 60 finished with values: [0.2698174137348291, 0.9956647398843931] and parameters: {'n_neighbors': 24, 'leaf_size': 62, 'metric': 'manhattan', 'contamination': 0.1992148962770827, 'threshold': 0.4741719092882382}.\n",
      "[I 2025-10-13 14:00:30,724] Trial 61 finished with values: [0.2003638769616003, 0.9898843930635838] and parameters: {'n_neighbors': 31, 'leaf_size': 53, 'metric': 'euclidean', 'contamination': 0.17416806487879485, 'threshold': 0.024574337822048747}.\n",
      "[I 2025-10-13 14:00:30,774] Trial 62 finished with values: [0.2698174137348291, 0.9956647398843931] and parameters: {'n_neighbors': 34, 'leaf_size': 48, 'metric': 'euclidean', 'contamination': 0.14396060440932018, 'threshold': 0.7361570388117651}.\n",
      "[I 2025-10-13 14:00:30,824] Trial 63 finished with values: [0.200664623866367, 0.9942196531791907] and parameters: {'n_neighbors': 20, 'leaf_size': 57, 'metric': 'euclidean', 'contamination': 0.10510240829788481, 'threshold': 0.0629292138695539}.\n",
      "[I 2025-10-13 14:00:30,872] Trial 64 finished with values: [0.200664623866367, 0.9942196531791907] and parameters: {'n_neighbors': 41, 'leaf_size': 66, 'metric': 'euclidean', 'contamination': 0.1258599469789814, 'threshold': 0.5228685983414061}.\n",
      "[I 2025-10-13 14:00:30,921] Trial 65 finished with values: [0.5644147987134474, 0.9971098265895953] and parameters: {'n_neighbors': 38, 'leaf_size': 52, 'metric': 'minkowski', 'contamination': 0.050055483403641396, 'threshold': 0.8480473908567918}.\n",
      "[I 2025-10-13 14:00:30,974] Trial 66 finished with values: [0.200664623866367, 0.9942196531791907] and parameters: {'n_neighbors': 10, 'leaf_size': 73, 'metric': 'euclidean', 'contamination': 0.2775352543850991, 'threshold': 0.39820823266155003}.\n",
      "[I 2025-10-13 14:00:31,030] Trial 67 finished with values: [0.20079925519680564, 0.9927745664739884] and parameters: {'n_neighbors': 16, 'leaf_size': 79, 'metric': 'minkowski', 'contamination': 0.15814686488024793, 'threshold': 0.021640200617057986}.\n",
      "[I 2025-10-13 14:00:31,081] Trial 68 finished with values: [0.2698174137348291, 0.9956647398843931] and parameters: {'n_neighbors': 32, 'leaf_size': 34, 'metric': 'manhattan', 'contamination': 0.010754024973383819, 'threshold': 0.6655189478752273}.\n",
      "[I 2025-10-13 14:00:31,136] Trial 69 finished with values: [0.200664623866367, 0.9942196531791907] and parameters: {'n_neighbors': 28, 'leaf_size': 38, 'metric': 'euclidean', 'contamination': 0.07525251521966153, 'threshold': 0.09303731554400957}.\n",
      "[I 2025-10-13 14:00:31,192] Trial 70 finished with values: [0.200664623866367, 0.9942196531791907] and parameters: {'n_neighbors': 35, 'leaf_size': 17, 'metric': 'minkowski', 'contamination': 0.09431390444733992, 'threshold': 0.11625588189698088}.\n",
      "[I 2025-10-13 14:00:31,252] Trial 71 finished with values: [0.1906267827979508, 0.9450867052023122] and parameters: {'n_neighbors': 31, 'leaf_size': 45, 'metric': 'euclidean', 'contamination': 0.20354799192082776, 'threshold': 0.0054812911218693845}.\n",
      "[I 2025-10-13 14:00:31,306] Trial 72 finished with values: [0.200664623866367, 0.9942196531791907] and parameters: {'n_neighbors': 31, 'leaf_size': 45, 'metric': 'euclidean', 'contamination': 0.21852675847746147, 'threshold': 0.07837747847944655}.\n",
      "[I 2025-10-13 14:00:31,362] Trial 73 pruned. \n",
      "[I 2025-10-13 14:00:31,411] Trial 74 finished with values: [0.20079925519680564, 0.9927745664739884] and parameters: {'n_neighbors': 29, 'leaf_size': 47, 'metric': 'euclidean', 'contamination': 0.20699069995252775, 'threshold': 0.037963830587998716}.\n",
      "[I 2025-10-13 14:00:31,461] Trial 75 finished with values: [0.200664623866367, 0.9942196531791907] and parameters: {'n_neighbors': 18, 'leaf_size': 59, 'metric': 'euclidean', 'contamination': 0.1876589940938449, 'threshold': 0.16687023462041037}.\n",
      "[I 2025-10-13 14:00:31,516] Trial 76 finished with values: [0.5644147987134474, 0.9971098265895953] and parameters: {'n_neighbors': 32, 'leaf_size': 63, 'metric': 'euclidean', 'contamination': 0.20788614589850002, 'threshold': 0.8690491884247427}.\n",
      "[I 2025-10-13 14:00:31,566] Trial 77 finished with values: [0.33733236991965365, 0.9971098265895953] and parameters: {'n_neighbors': 12, 'leaf_size': 56, 'metric': 'euclidean', 'contamination': 0.23518730251625025, 'threshold': 0.5875175681666204}.\n",
      "[I 2025-10-13 14:00:31,615] Trial 78 finished with values: [1.0, 1.0] and parameters: {'n_neighbors': 26, 'leaf_size': 40, 'metric': 'euclidean', 'contamination': 0.19551122200142107, 'threshold': 0.9608792274720754}.\n",
      "[I 2025-10-13 14:00:31,668] Trial 79 finished with values: [0.200664623866367, 0.9942196531791907] and parameters: {'n_neighbors': 35, 'leaf_size': 54, 'metric': 'euclidean', 'contamination': 0.4717464924745007, 'threshold': 0.0681819043125292}.\n",
      "[I 2025-10-13 14:00:31,720] Trial 80 finished with values: [0.2698174137348291, 0.9956647398843931] and parameters: {'n_neighbors': 28, 'leaf_size': 43, 'metric': 'euclidean', 'contamination': 0.15428861762796248, 'threshold': 0.7813760087548116}.\n",
      "[I 2025-10-13 14:00:31,771] Trial 81 finished with values: [0.2003638769616003, 0.9898843930635838] and parameters: {'n_neighbors': 31, 'leaf_size': 35, 'metric': 'euclidean', 'contamination': 0.2192240290962788, 'threshold': 0.02492013314406949}.\n",
      "[I 2025-10-13 14:00:31,821] Trial 82 finished with values: [0.20079925519680564, 0.9927745664739884] and parameters: {'n_neighbors': 37, 'leaf_size': 49, 'metric': 'euclidean', 'contamination': 0.17724849249178132, 'threshold': 0.02837627734917424}.\n",
      "[I 2025-10-13 14:00:31,877] Trial 83 finished with values: [0.200664623866367, 0.9942196531791907] and parameters: {'n_neighbors': 34, 'leaf_size': 14, 'metric': 'euclidean', 'contamination': 0.17178692332714263, 'threshold': 0.667447344483827}.\n",
      "[I 2025-10-13 14:00:31,930] Trial 84 finished with values: [0.9328990996447488, 0.9985549132947977] and parameters: {'n_neighbors': 31, 'leaf_size': 23, 'metric': 'manhattan', 'contamination': 0.1355415843519252, 'threshold': 0.9162884225471011}.\n",
      "[I 2025-10-13 14:00:31,988] Trial 85 finished with values: [0.20079925519680564, 0.9927745664739884] and parameters: {'n_neighbors': 44, 'leaf_size': 53, 'metric': 'euclidean', 'contamination': 0.24662153137229526, 'threshold': 0.037542872119374675}.\n",
      "[I 2025-10-13 14:00:32,038] Trial 86 finished with values: [0.200664623866367, 0.9942196531791907] and parameters: {'n_neighbors': 17, 'leaf_size': 41, 'metric': 'euclidean', 'contamination': 0.3067684941240231, 'threshold': 0.13027381053411538}.\n",
      "[I 2025-10-13 14:00:32,085] Trial 87 finished with values: [0.2698174137348291, 0.9956647398843931] and parameters: {'n_neighbors': 30, 'leaf_size': 32, 'metric': 'euclidean', 'contamination': 0.2614483264543105, 'threshold': 0.8047733870375807}.\n",
      "[I 2025-10-13 14:00:32,133] Trial 88 finished with values: [0.2698174137348291, 0.9956647398843931] and parameters: {'n_neighbors': 15, 'leaf_size': 28, 'metric': 'manhattan', 'contamination': 0.1860894163318112, 'threshold': 0.7136994892101244}.\n",
      "[I 2025-10-13 14:00:32,182] Trial 89 finished with values: [0.2003638769616003, 0.9898843930635838] and parameters: {'n_neighbors': 19, 'leaf_size': 38, 'metric': 'euclidean', 'contamination': 0.21819555159092413, 'threshold': 0.01994265853092475}.\n",
      "[I 2025-10-13 14:00:32,230] Trial 90 finished with values: [0.200664623866367, 0.9942196531791907] and parameters: {'n_neighbors': 50, 'leaf_size': 19, 'metric': 'euclidean', 'contamination': 0.17160204243435473, 'threshold': 0.05621602610513722}.\n",
      "[I 2025-10-13 14:00:32,282] Trial 91 pruned. \n",
      "[I 2025-10-13 14:00:32,331] Trial 92 finished with values: [0.200664623866367, 0.9942196531791907] and parameters: {'n_neighbors': 32, 'leaf_size': 45, 'metric': 'euclidean', 'contamination': 0.1596735191265351, 'threshold': 0.5294114239801779}.\n",
      "[I 2025-10-13 14:00:32,381] Trial 93 finished with values: [0.200664623866367, 0.9942196531791907] and parameters: {'n_neighbors': 12, 'leaf_size': 58, 'metric': 'euclidean', 'contamination': 0.19528511175032007, 'threshold': 0.07768835032728223}.\n",
      "[I 2025-10-13 14:00:32,429] Trial 94 finished with values: [0.200664623866367, 0.9942196531791907] and parameters: {'n_neighbors': 33, 'leaf_size': 10, 'metric': 'manhattan', 'contamination': 0.44316978142389335, 'threshold': 0.04897578055231328}.\n",
      "[I 2025-10-13 14:00:32,477] Trial 95 finished with values: [1.0, 1.0] and parameters: {'n_neighbors': 21, 'leaf_size': 55, 'metric': 'euclidean', 'contamination': 0.20515415460425473, 'threshold': 0.9690150693820013}.\n",
      "[I 2025-10-13 14:00:32,528] Trial 96 finished with values: [0.5644147987134474, 0.9971098265895953] and parameters: {'n_neighbors': 36, 'leaf_size': 47, 'metric': 'euclidean', 'contamination': 0.11429437431595398, 'threshold': 0.9355560917084574}.\n",
      "[I 2025-10-13 14:00:32,577] Trial 97 finished with values: [0.200664623866367, 0.9942196531791907] and parameters: {'n_neighbors': 48, 'leaf_size': 66, 'metric': 'euclidean', 'contamination': 0.315667053170126, 'threshold': 0.10879215159206693}.\n",
      "[I 2025-10-13 14:00:32,626] Trial 98 finished with values: [0.9328990996447488, 0.9985549132947977] and parameters: {'n_neighbors': 34, 'leaf_size': 53, 'metric': 'manhattan', 'contamination': 0.1322920687847914, 'threshold': 0.8953823494780957}.\n",
      "[I 2025-10-13 14:00:32,676] Trial 99 finished with values: [0.200664623866367, 0.9942196531791907] and parameters: {'n_neighbors': 27, 'leaf_size': 64, 'metric': 'euclidean', 'contamination': 0.1803923145026372, 'threshold': 0.23977398016461582}.\n",
      "[I 2025-10-13 14:00:32,721] Trial 100 finished with values: [0.200664623866367, 0.9942196531791907] and parameters: {'n_neighbors': 30, 'leaf_size': 60, 'metric': 'euclidean', 'contamination': 0.14351537747190074, 'threshold': 0.5913219508537837}.\n",
      "[I 2025-10-13 14:00:32,767] Trial 101 finished with values: [0.33733236991965365, 0.9971098265895953] and parameters: {'n_neighbors': 13, 'leaf_size': 51, 'metric': 'euclidean', 'contamination': 0.22883608799939642, 'threshold': 0.6479017681958972}.\n",
      "[I 2025-10-13 14:00:32,819] Trial 102 finished with values: [0.200664623866367, 0.9942196531791907] and parameters: {'n_neighbors': 31, 'leaf_size': 37, 'metric': 'euclidean', 'contamination': 0.4674259227064379, 'threshold': 0.4351487218823067}.\n",
      "[I 2025-10-13 14:00:32,865] Trial 103 finished with values: [0.5644147987134474, 0.9971098265895953] and parameters: {'n_neighbors': 23, 'leaf_size': 29, 'metric': 'manhattan', 'contamination': 0.1638537179865659, 'threshold': 0.739106735811573}.\n",
      "[I 2025-10-13 14:00:32,920] Trial 104 finished with values: [0.19959412758850167, 0.9841040462427746] and parameters: {'n_neighbors': 33, 'leaf_size': 43, 'metric': 'euclidean', 'contamination': 0.1921793187853796, 'threshold': 0.013368328719759053}.\n",
      "[I 2025-10-13 14:00:32,973] Trial 105 finished with values: [0.200664623866367, 0.9942196531791907] and parameters: {'n_neighbors': 43, 'leaf_size': 49, 'metric': 'euclidean', 'contamination': 0.3942251204186741, 'threshold': 0.40971051786662877}.\n",
      "[I 2025-10-13 14:00:33,027] Trial 106 finished with values: [0.200664623866367, 0.9942196531791907] and parameters: {'n_neighbors': 32, 'leaf_size': 57, 'metric': 'euclidean', 'contamination': 0.15294630601568576, 'threshold': 0.0904302737226178}.\n",
      "[I 2025-10-13 14:00:33,082] Trial 107 finished with values: [0.200664623866367, 0.9942196531791907] and parameters: {'n_neighbors': 30, 'leaf_size': 34, 'metric': 'euclidean', 'contamination': 0.17174081558718368, 'threshold': 0.4777013262378248}.\n",
      "[I 2025-10-13 14:00:33,136] Trial 108 finished with values: [0.200664623866367, 0.9942196531791907] and parameters: {'n_neighbors': 17, 'leaf_size': 41, 'metric': 'manhattan', 'contamination': 0.20090363831290953, 'threshold': 0.31591575138024863}.\n",
      "[I 2025-10-13 14:00:33,189] Trial 109 finished with values: [0.200664623866367, 0.9942196531791907] and parameters: {'n_neighbors': 37, 'leaf_size': 54, 'metric': 'euclidean', 'contamination': 0.21333850782823946, 'threshold': 0.06659120102658575}.\n",
      "[I 2025-10-13 14:00:33,246] Trial 110 finished with values: [0.200664623866367, 0.9942196531791907] and parameters: {'n_neighbors': 19, 'leaf_size': 24, 'metric': 'euclidean', 'contamination': 0.49678143433011823, 'threshold': 0.0401988135784387}.\n",
      "[I 2025-10-13 14:00:33,300] Trial 111 finished with values: [0.19934266222751684, 0.9855491329479769] and parameters: {'n_neighbors': 33, 'leaf_size': 46, 'metric': 'minkowski', 'contamination': 0.3589050830029919, 'threshold': 0.016220716545482176}.\n",
      "[I 2025-10-13 14:00:33,350] Trial 112 finished with values: [0.13964269149306982, 0.7586705202312138] and parameters: {'n_neighbors': 35, 'leaf_size': 91, 'metric': 'manhattan', 'contamination': 0.18698941215251205, 'threshold': 0.0016579371610108834}.\n",
      "[I 2025-10-13 14:00:33,402] Trial 113 finished with values: [0.20079925519680564, 0.9927745664739884] and parameters: {'n_neighbors': 39, 'leaf_size': 89, 'metric': 'manhattan', 'contamination': 0.18607932061507004, 'threshold': 0.02844210514679933}.\n",
      "[I 2025-10-13 14:00:33,454] Trial 114 finished with values: [0.200664623866367, 0.9942196531791907] and parameters: {'n_neighbors': 42, 'leaf_size': 95, 'metric': 'manhattan', 'contamination': 0.17800190101572358, 'threshold': 0.051800117277824576}.\n",
      "[I 2025-10-13 14:00:33,511] Trial 115 finished with values: [0.15054744609153697, 0.8598265895953757] and parameters: {'n_neighbors': 40, 'leaf_size': 92, 'metric': 'manhattan', 'contamination': 0.2263280691336842, 'threshold': 0.0035655573148063446}.\n",
      "[I 2025-10-13 14:00:33,566] Trial 116 finished with values: [0.14547493005471906, 0.8453757225433526] and parameters: {'n_neighbors': 40, 'leaf_size': 92, 'metric': 'manhattan', 'contamination': 0.25536446623650466, 'threshold': 0.002872574780114394}.\n",
      "[I 2025-10-13 14:00:33,620] Trial 117 finished with values: [0.11888291306544728, 0.5245664739884393] and parameters: {'n_neighbors': 41, 'leaf_size': 86, 'metric': 'manhattan', 'contamination': 0.25542990008715194, 'threshold': 0.0010214606761781227}.\n",
      "[I 2025-10-13 14:00:33,680] Trial 118 finished with values: [0.19227684108286788, 0.9696531791907514] and parameters: {'n_neighbors': 40, 'leaf_size': 85, 'metric': 'manhattan', 'contamination': 0.2576409574215306, 'threshold': 0.009052422901201621}.\n",
      "[I 2025-10-13 14:00:33,737] Trial 119 finished with values: [0.200664623866367, 0.9942196531791907] and parameters: {'n_neighbors': 40, 'leaf_size': 91, 'metric': 'manhattan', 'contamination': 0.28759726373519023, 'threshold': 0.1020728965225392}.\n",
      "[I 2025-10-13 14:00:33,787] Trial 120 pruned. \n",
      "[I 2025-10-13 14:00:33,838] Trial 121 pruned. \n",
      "[I 2025-10-13 14:00:33,889] Trial 122 finished with values: [0.20079925519680564, 0.9927745664739884] and parameters: {'n_neighbors': 39, 'leaf_size': 84, 'metric': 'manhattan', 'contamination': 0.254635612428089, 'threshold': 0.038394479395164605}.\n",
      "[I 2025-10-13 14:00:33,956] Trial 123 finished with values: [0.200664623866367, 0.9942196531791907] and parameters: {'n_neighbors': 41, 'leaf_size': 97, 'metric': 'manhattan', 'contamination': 0.2770972425104995, 'threshold': 0.07862457658746272}.\n",
      "[I 2025-10-13 14:00:34,009] Trial 124 finished with values: [0.19934266222751684, 0.9855491329479769] and parameters: {'n_neighbors': 38, 'leaf_size': 93, 'metric': 'manhattan', 'contamination': 0.23775751093934494, 'threshold': 0.016784339515316167}.\n",
      "[I 2025-10-13 14:00:34,060] Trial 125 finished with values: [0.200664623866367, 0.9942196531791907] and parameters: {'n_neighbors': 43, 'leaf_size': 83, 'metric': 'manhattan', 'contamination': 0.03550811709871246, 'threshold': 0.0585003355096295}.\n",
      "[I 2025-10-13 14:00:34,114] Trial 126 finished with values: [0.20079925519680564, 0.9927745664739884] and parameters: {'n_neighbors': 40, 'leaf_size': 87, 'metric': 'manhattan', 'contamination': 0.24300809396489317, 'threshold': 0.028826340857724134}.\n",
      "[I 2025-10-13 14:00:34,166] Trial 127 finished with values: [0.200664623866367, 0.9942196531791907] and parameters: {'n_neighbors': 42, 'leaf_size': 100, 'metric': 'manhattan', 'contamination': 0.22326525591898244, 'threshold': 0.06828594513869672}.\n",
      "[I 2025-10-13 14:00:34,216] Trial 128 finished with values: [0.200664623866367, 0.9942196531791907] and parameters: {'n_neighbors': 43, 'leaf_size': 88, 'metric': 'manhattan', 'contamination': 0.28311502329026195, 'threshold': 0.34609202935484856}.\n",
      "[I 2025-10-13 14:00:34,266] Trial 129 finished with values: [0.200664623866367, 0.9942196531791907] and parameters: {'n_neighbors': 38, 'leaf_size': 95, 'metric': 'manhattan', 'contamination': 0.25277296216133255, 'threshold': 0.045741019218285835}.\n",
      "[I 2025-10-13 14:00:34,316] Trial 130 finished with values: [0.19742161184197607, 0.9826589595375722] and parameters: {'n_neighbors': 45, 'leaf_size': 91, 'metric': 'manhattan', 'contamination': 0.3123515410002074, 'threshold': 0.01711410283130015}.\n",
      "[I 2025-10-13 14:00:34,367] Trial 131 finished with values: [0.200664623866367, 0.9942196531791907] and parameters: {'n_neighbors': 36, 'leaf_size': 97, 'metric': 'manhattan', 'contamination': 0.2606508898313313, 'threshold': 0.27355795005580474}.\n",
      "[I 2025-10-13 14:00:34,417] Trial 132 finished with values: [0.19934266222751684, 0.9855491329479769] and parameters: {'n_neighbors': 37, 'leaf_size': 92, 'metric': 'manhattan', 'contamination': 0.27036299140803194, 'threshold': 0.015697547259506617}.\n",
      "[I 2025-10-13 14:00:34,469] Trial 133 finished with values: [0.15059895208669535, 0.8728323699421965] and parameters: {'n_neighbors': 44, 'leaf_size': 90, 'metric': 'manhattan', 'contamination': 0.31866346487760505, 'threshold': 0.004082615884787774}.\n",
      "[I 2025-10-13 14:00:34,519] Trial 134 finished with values: [0.20079925519680564, 0.9927745664739884] and parameters: {'n_neighbors': 46, 'leaf_size': 90, 'metric': 'manhattan', 'contamination': 0.296783454825559, 'threshold': 0.033388479472565506}.\n",
      "[I 2025-10-13 14:00:34,567] Trial 135 finished with values: [0.5644147987134474, 0.9971098265895953] and parameters: {'n_neighbors': 46, 'leaf_size': 82, 'metric': 'manhattan', 'contamination': 0.08403466828462283, 'threshold': 0.8424675865306088}.\n",
      "[I 2025-10-13 14:00:34,618] Trial 136 finished with values: [0.200664623866367, 0.9942196531791907] and parameters: {'n_neighbors': 44, 'leaf_size': 94, 'metric': 'manhattan', 'contamination': 0.3469695098596459, 'threshold': 0.19436573155784154}.\n",
      "[I 2025-10-13 14:00:34,667] Trial 137 finished with values: [0.200664623866367, 0.9942196531791907] and parameters: {'n_neighbors': 42, 'leaf_size': 80, 'metric': 'manhattan', 'contamination': 0.2102935506944892, 'threshold': 0.14565571870103264}.\n",
      "[I 2025-10-13 14:00:34,715] Trial 138 pruned. \n",
      "[I 2025-10-13 14:00:34,767] Trial 139 finished with values: [0.200664623866367, 0.9942196531791907] and parameters: {'n_neighbors': 41, 'leaf_size': 88, 'metric': 'manhattan', 'contamination': 0.23829337293000008, 'threshold': 0.11981650314651476}.\n",
      "[I 2025-10-13 14:00:34,818] Trial 140 finished with values: [0.200664623866367, 0.9942196531791907] and parameters: {'n_neighbors': 15, 'leaf_size': 96, 'metric': 'minkowski', 'contamination': 0.4383996062111812, 'threshold': 0.05422817062262719}.\n",
      "[I 2025-10-13 14:00:34,874] Trial 141 finished with values: [0.20079925519680564, 0.9927745664739884] and parameters: {'n_neighbors': 48, 'leaf_size': 89, 'metric': 'manhattan', 'contamination': 0.27297750664488074, 'threshold': 0.029750286698007777}.\n",
      "[I 2025-10-13 14:00:34,949] Trial 142 finished with values: [0.20026870117217513, 0.9884393063583815] and parameters: {'n_neighbors': 39, 'leaf_size': 93, 'metric': 'manhattan', 'contamination': 0.30790951786019366, 'threshold': 0.020341364239946005}.\n",
      "[I 2025-10-13 14:00:35,001] Trial 143 finished with values: [0.200664623866367, 0.9942196531791907] and parameters: {'n_neighbors': 45, 'leaf_size': 77, 'metric': 'manhattan', 'contamination': 0.4187572187598099, 'threshold': 0.08643967105860612}.\n",
      "[I 2025-10-13 14:00:35,053] Trial 144 finished with values: [0.5644147987134474, 0.9971098265895953] and parameters: {'n_neighbors': 35, 'leaf_size': 87, 'metric': 'manhattan', 'contamination': 0.2559938838689452, 'threshold': 0.8145329712821802}.\n",
      "[I 2025-10-13 14:00:35,111] Trial 145 finished with values: [0.200664623866367, 0.9942196531791907] and parameters: {'n_neighbors': 47, 'leaf_size': 90, 'metric': 'manhattan', 'contamination': 0.4547301016209613, 'threshold': 0.04697128282116083}.\n",
      "[I 2025-10-13 14:00:35,165] Trial 146 finished with values: [0.2698174137348291, 0.9956647398843931] and parameters: {'n_neighbors': 44, 'leaf_size': 83, 'metric': 'manhattan', 'contamination': 0.19540665057890008, 'threshold': 0.5075078226860108}.\n",
      "[I 2025-10-13 14:00:35,222] Trial 147 finished with values: [0.20026870117217513, 0.9884393063583815] and parameters: {'n_neighbors': 16, 'leaf_size': 99, 'metric': 'manhattan', 'contamination': 0.1592148322784377, 'threshold': 0.018768022922179363}.\n",
      "[I 2025-10-13 14:00:35,277] Trial 148 finished with values: [0.5644147987134474, 0.9971098265895953] and parameters: {'n_neighbors': 38, 'leaf_size': 86, 'metric': 'manhattan', 'contamination': 0.3669079420395184, 'threshold': 0.7560449652018012}.\n",
      "[I 2025-10-13 14:00:35,332] Trial 149 finished with values: [0.200664623866367, 0.9942196531791907] and parameters: {'n_neighbors': 25, 'leaf_size': 90, 'metric': 'minkowski', 'contamination': 0.32503797220140435, 'threshold': 0.0606094014449913}.\n"
     ]
    }
   ],
   "source": [
    "# Reload the hp module to refresh in-memory variables\n",
    "# especially after updating parameters\n",
    "from importlib import reload\n",
    "reload(hp)\n",
    "\n",
    "# Check if the schema in the script has been updated \n",
    "# based on the current constraints specified \n",
    "# from the notebook\n",
    "print(\"Current hyperparameter config:\")\n",
    "print(hp._LOF_HP_CONFIG)\n",
    "print(\"-\"*70)\n",
    "\n",
    "# Instantiate an optuna study for lof model\n",
    "sampler = optuna.samplers.TPESampler(seed=42)\n",
    "\n",
    "selected_feature_cols = (\n",
    "    \"cycle_index\",\n",
    "    \"log_max_diff_dQ\",\n",
    "    \"log_max_diff_dV\")\n",
    "\n",
    "lof_study = optuna.create_study(\n",
    "    study_name=\"lof_hyperparam\",\n",
    "    sampler=sampler,\n",
    "    directions=[\"minimize\",\"maximize\"])\n",
    "\n",
    "lof_study.optimize(\n",
    "    lambda trial: hp.objective(\n",
    "        trial,\n",
    "        model_id=\"lof\",\n",
    "        df_feature_dataset=df_features_per_cell,\n",
    "        selected_feature_cols=selected_feature_cols,\n",
    "        #df_benchmark_dataset=df_selected_cell,\n",
    "        selected_cell_label=selected_cell_label),\n",
    "    n_trials=150)"
   ]
  },
  {
   "cell_type": "markdown",
   "id": "ebe47b56-88b1-42f3-8cc0-abadfd04ca27",
   "metadata": {},
   "source": [
    "## Aggregate best trials"
   ]
  },
  {
   "cell_type": "code",
   "execution_count": 66,
   "id": "21552447-ec74-4e4c-b552-648a7972eef9",
   "metadata": {},
   "outputs": [
    {
     "data": {
      "text/html": [
       "<div>\n",
       "<style scoped>\n",
       "    .dataframe tbody tr th:only-of-type {\n",
       "        vertical-align: middle;\n",
       "    }\n",
       "\n",
       "    .dataframe tbody tr th {\n",
       "        vertical-align: top;\n",
       "    }\n",
       "\n",
       "    .dataframe thead th {\n",
       "        text-align: right;\n",
       "    }\n",
       "</style>\n",
       "<table border=\"1\" class=\"dataframe\">\n",
       "  <thead>\n",
       "    <tr style=\"text-align: right;\">\n",
       "      <th></th>\n",
       "      <th>ml_model</th>\n",
       "      <th>cell_index</th>\n",
       "      <th>contamination</th>\n",
       "      <th>n_neighbors</th>\n",
       "      <th>leaf_size</th>\n",
       "      <th>metric</th>\n",
       "      <th>threshold</th>\n",
       "    </tr>\n",
       "  </thead>\n",
       "  <tbody>\n",
       "    <tr>\n",
       "      <th>0</th>\n",
       "      <td>lof</td>\n",
       "      <td>2017-05-12_5_4C-70per_3C_CH17</td>\n",
       "      <td>0.233562</td>\n",
       "      <td>27</td>\n",
       "      <td>96</td>\n",
       "      <td>manhattan</td>\n",
       "      <td>0.019555</td>\n",
       "    </tr>\n",
       "  </tbody>\n",
       "</table>\n",
       "</div>"
      ]
     },
     "metadata": {},
     "output_type": "display_data"
    }
   ],
   "source": [
    "schema_lof = {\n",
    "    \"contamination\": \"median\",\n",
    "    \"n_neighbors\": \"median_int\",\n",
    "    \"leaf_size\": \"median_int\",\n",
    "    \"metric\": \"mode\",\n",
    "    \"threshold\": \"median\",\n",
    "}\n",
    "\n",
    "trade_off_trials_list = hp.trade_off_trials_detection(\n",
    "    lof_study, \n",
    "    window_size=7)\n",
    "\n",
    "df_lof_hyperparam = hp.aggregate_best_trials(\n",
    "    trade_off_trials_list,\n",
    "    cell_label=selected_cell_label,\n",
    "    model_id=\"lof\",\n",
    "    schema=schema_lof)\n",
    "\n",
    "df_lof_hyperparam"
   ]
  },
  {
   "cell_type": "markdown",
   "id": "c73356bd-ce33-4998-9763-33fd12c6db39",
   "metadata": {},
   "source": [
    "## Plot pareto front"
   ]
  },
  {
   "cell_type": "code",
   "execution_count": 67,
   "id": "af101b37-1640-4b4d-b797-a9b049682847",
   "metadata": {},
   "outputs": [
    {
     "name": "stderr",
     "output_type": "stream",
     "text": [
      "/home/basf/nasbattds/osbad/src/osbad/hyperparam.py:1027: ExperimentalWarning: optuna.visualization.matplotlib._pareto_front.plot_pareto_front is experimental (supported from v2.8.0). The interface can change in the future.\n",
      "  axplot = optuna.visualization.matplotlib.plot_pareto_front(\n"
     ]
    },
    {
     "data": {
      "image/png": "[encoded data removed]",
      "text/plain": [
       "<Figure size 640x480 with 1 Axes>"
      ]
     },
     "metadata": {},
     "output_type": "display_data"
    }
   ],
   "source": [
    "hp.plot_proxy_pareto_front(\n",
    "    lof_study,\n",
    "    trade_off_trials_list,\n",
    "    selected_cell_label,\n",
    "    fig_title=\"Local Outlier Factor (LOF) Pareto Front\")\n",
    "\n",
    "plt.show()"
   ]
  },
  {
   "cell_type": "markdown",
   "id": "4378369d-a61f-4b9b-b10f-7f689ce2cd03",
   "metadata": {},
   "source": [
    "## Export current hyperparameters to CSV "
   ]
  },
  {
   "cell_type": "code",
   "execution_count": 68,
   "id": "aeec635e-336e-4eb8-98f1-91607ed4bfdf",
   "metadata": {},
   "outputs": [
    {
     "name": "stdout",
     "output_type": "stream",
     "text": [
      "\u001b[38;21mHave the hyperparam for 2017-05-12_5_4C-70per_3C_CH17 been evaluated?\n",
      "\u001b[38;21mTrue\n",
      "\u001b[38;21m**********************************************************************\n",
      "\u001b[38;21mReplacing existing rows for 2017-05-12_5_4C-70per_3C_CH17.\n",
      "\u001b[38;21mHyperparameters for 2017-05-12_5_4C-70per_3C_CH17 have been replaced in the CSV file.\n"
     ]
    },
    {
     "data": {
      "text/html": [
       "<div>\n",
       "<style scoped>\n",
       "    .dataframe tbody tr th:only-of-type {\n",
       "        vertical-align: middle;\n",
       "    }\n",
       "\n",
       "    .dataframe tbody tr th {\n",
       "        vertical-align: top;\n",
       "    }\n",
       "\n",
       "    .dataframe thead th {\n",
       "        text-align: right;\n",
       "    }\n",
       "</style>\n",
       "<table border=\"1\" class=\"dataframe\">\n",
       "  <thead>\n",
       "    <tr style=\"text-align: right;\">\n",
       "      <th></th>\n",
       "      <th>ml_model</th>\n",
       "      <th>cell_index</th>\n",
       "      <th>contamination</th>\n",
       "      <th>n_neighbors</th>\n",
       "      <th>leaf_size</th>\n",
       "      <th>metric</th>\n",
       "      <th>threshold</th>\n",
       "    </tr>\n",
       "  </thead>\n",
       "  <tbody>\n",
       "    <tr>\n",
       "      <th>0</th>\n",
       "      <td>lof</td>\n",
       "      <td>2017-05-12_5_4C-70per_3C_CH17</td>\n",
       "      <td>0.233562</td>\n",
       "      <td>27</td>\n",
       "      <td>96</td>\n",
       "      <td>manhattan</td>\n",
       "      <td>0.019555</td>\n",
       "    </tr>\n",
       "  </tbody>\n",
       "</table>\n",
       "</div>"
      ]
     },
     "metadata": {},
     "output_type": "display_data"
    }
   ],
   "source": [
    "# Export current hyperparameters to CSV\n",
    "hyperparam_filepath =  Path.cwd().joinpath(\n",
    "    \"ml_04_lof_hyperparam_proxy_severson.csv\")\n",
    "\n",
    "hp.export_current_hyperparam(\n",
    "    df_lof_hyperparam,\n",
    "    selected_cell_label,\n",
    "    export_csv_filepath=hyperparam_filepath,\n",
    "    if_exists=\"replace\")"
   ]
  },
  {
   "cell_type": "markdown",
   "id": "5084d8c6-0615-4d70-b0ad-e5b8833940f2",
   "metadata": {},
   "source": [
    "# Train model with best trial parameters"
   ]
  },
  {
   "cell_type": "markdown",
   "id": "b2c723cd-800c-48d3-a943-2fd47565df69",
   "metadata": {},
   "source": [
    "## Load best trial parameters from CSV output"
   ]
  },
  {
   "cell_type": "code",
   "execution_count": 69,
   "id": "6e5bcf73-254b-4a40-91bf-fac2c47db71c",
   "metadata": {},
   "outputs": [
    {
     "data": {
      "text/html": [
       "<div>\n",
       "<style scoped>\n",
       "    .dataframe tbody tr th:only-of-type {\n",
       "        vertical-align: middle;\n",
       "    }\n",
       "\n",
       "    .dataframe tbody tr th {\n",
       "        vertical-align: top;\n",
       "    }\n",
       "\n",
       "    .dataframe thead th {\n",
       "        text-align: right;\n",
       "    }\n",
       "</style>\n",
       "<table border=\"1\" class=\"dataframe\">\n",
       "  <thead>\n",
       "    <tr style=\"text-align: right;\">\n",
       "      <th></th>\n",
       "      <th>ml_model</th>\n",
       "      <th>cell_index</th>\n",
       "      <th>contamination</th>\n",
       "      <th>n_neighbors</th>\n",
       "      <th>leaf_size</th>\n",
       "      <th>metric</th>\n",
       "      <th>threshold</th>\n",
       "    </tr>\n",
       "  </thead>\n",
       "  <tbody>\n",
       "    <tr>\n",
       "      <th>0</th>\n",
       "      <td>lof</td>\n",
       "      <td>2017-05-12_5_4C-70per_3C_CH17</td>\n",
       "      <td>0.233562</td>\n",
       "      <td>27</td>\n",
       "      <td>96</td>\n",
       "      <td>manhattan</td>\n",
       "      <td>0.019555</td>\n",
       "    </tr>\n",
       "  </tbody>\n",
       "</table>\n",
       "</div>"
      ]
     },
     "metadata": {},
     "output_type": "display_data"
    }
   ],
   "source": [
    "# Test reading from exported metrics\n",
    "df_hyperparam_from_csv = pd.read_csv(hyperparam_filepath)\n",
    "\n",
    "df_param_per_cell = df_hyperparam_from_csv[\n",
    "    df_hyperparam_from_csv[\"cell_index\"] == selected_cell_label]\n",
    "df_param_per_cell"
   ]
  },
  {
   "cell_type": "markdown",
   "id": "8b5e1b61-69bb-461b-b615-5ba881cf1595",
   "metadata": {},
   "source": [
    "## Create a dict for best trial parameters"
   ]
  },
  {
   "cell_type": "code",
   "execution_count": 70,
   "id": "aca38ed1-456d-42d8-bec5-5172e0234d89",
   "metadata": {},
   "outputs": [
    {
     "name": "stdout",
     "output_type": "stream",
     "text": [
      "{'ml_model': 'lof',\n",
      " 'cell_index': '2017-05-12_5_4C-70per_3C_CH17',\n",
      " 'contamination': 0.23356217506931568,\n",
      " 'n_neighbors': 27,\n",
      " 'leaf_size': 96,\n",
      " 'metric': 'manhattan',\n",
      " 'threshold': 0.019554693581062682}\n"
     ]
    }
   ],
   "source": [
    "param_dict = df_param_per_cell.iloc[0].to_dict()\n",
    "pprint.pp(param_dict)"
   ]
  },
  {
   "cell_type": "markdown",
   "id": "098a7b1e-0bba-4489-ad2d-92e5fea1f0fc",
   "metadata": {},
   "source": [
    "## Run the model with best trial parameters"
   ]
  },
  {
   "cell_type": "code",
   "execution_count": 71,
   "id": "e11d9310-a212-46be-84c3-8966616a7cdc",
   "metadata": {},
   "outputs": [
    {
     "name": "stdout",
     "output_type": "stream",
     "text": [
      "LOF(algorithm='auto', contamination=0.23356217506931568, leaf_size=96,\n",
      "  metric='manhattan', metric_params=None, n_jobs=-1, n_neighbors=27,\n",
      "  novelty=True, p=2)\n"
     ]
    },
    {
     "data": {
      "text/plain": [
       "(array([  0,  32,  40, 147, 148, 227, 268, 685]),\n",
       " array([0.71550616, 0.03820186, 0.8125214 , 0.95505069, 0.32599495,\n",
       "        0.02425006, 0.02247019, 0.02589332]))"
      ]
     },
     "execution_count": 71,
     "metadata": {},
     "output_type": "execute_result"
    }
   ],
   "source": [
    "cfg = hp.MODEL_CONFIG[\"lof\"]\n",
    "\n",
    "selected_feature_cols = (\n",
    "    \"log_max_diff_dQ\",\n",
    "    \"log_max_diff_dV\")\n",
    "\n",
    "runner = ModelRunner(\n",
    "    cell_label=selected_cell_label,\n",
    "    df_input_features=df_features_per_cell,\n",
    "    selected_feature_cols=selected_feature_cols\n",
    ")\n",
    "\n",
    "Xdata = runner.create_model_x_input()\n",
    "\n",
    "model = cfg.model_param(param_dict)\n",
    "print(model)\n",
    "model.fit(Xdata)\n",
    "proba = model.predict_proba(Xdata)\n",
    "\n",
    "pred_outlier_indices, pred_outlier_score = runner.pred_outlier_indices_from_proba(\n",
    "    proba=proba,\n",
    "    threshold=param_dict[\"threshold\"],\n",
    "    outlier_col=cfg.proba_col\n",
    ")\n",
    "\n",
    "pred_outlier_indices, pred_outlier_score"
   ]
  },
  {
   "cell_type": "markdown",
   "id": "b526dd24-89d3-49d6-b6a9-0169eacf3e76",
   "metadata": {},
   "source": [
    "## Get df_outliers_pred"
   ]
  },
  {
   "cell_type": "code",
   "execution_count": 72,
   "id": "9e3b5382-c34c-4b15-ae81-c41d44014ae7",
   "metadata": {},
   "outputs": [
    {
     "data": {
      "text/html": [
       "<div>\n",
       "<style scoped>\n",
       "    .dataframe tbody tr th:only-of-type {\n",
       "        vertical-align: middle;\n",
       "    }\n",
       "\n",
       "    .dataframe tbody tr th {\n",
       "        vertical-align: top;\n",
       "    }\n",
       "\n",
       "    .dataframe thead th {\n",
       "        text-align: right;\n",
       "    }\n",
       "</style>\n",
       "<table border=\"1\" class=\"dataframe\">\n",
       "  <thead>\n",
       "    <tr style=\"text-align: right;\">\n",
       "      <th></th>\n",
       "      <th>max_diff_dQ</th>\n",
       "      <th>log_max_diff_dQ</th>\n",
       "      <th>cycle_index</th>\n",
       "      <th>max_diff_dV</th>\n",
       "      <th>log_max_diff_dV</th>\n",
       "      <th>cell_index</th>\n",
       "      <th>outlier_prob</th>\n",
       "    </tr>\n",
       "  </thead>\n",
       "  <tbody>\n",
       "    <tr>\n",
       "      <th>0</th>\n",
       "      <td>0.006388</td>\n",
       "      <td>-5.053343</td>\n",
       "      <td>0.0</td>\n",
       "      <td>1.564151</td>\n",
       "      <td>0.447343</td>\n",
       "      <td>2017-05-12_5_4C-70per_3C_CH17</td>\n",
       "      <td>0.715506</td>\n",
       "    </tr>\n",
       "    <tr>\n",
       "      <th>32</th>\n",
       "      <td>0.006912</td>\n",
       "      <td>-4.974528</td>\n",
       "      <td>32.0</td>\n",
       "      <td>0.029726</td>\n",
       "      <td>-3.515733</td>\n",
       "      <td>2017-05-12_5_4C-70per_3C_CH17</td>\n",
       "      <td>0.038202</td>\n",
       "    </tr>\n",
       "    <tr>\n",
       "      <th>40</th>\n",
       "      <td>0.006305</td>\n",
       "      <td>-5.066425</td>\n",
       "      <td>40.0</td>\n",
       "      <td>2.612268</td>\n",
       "      <td>0.960219</td>\n",
       "      <td>2017-05-12_5_4C-70per_3C_CH17</td>\n",
       "      <td>0.812521</td>\n",
       "    </tr>\n",
       "    <tr>\n",
       "      <th>147</th>\n",
       "      <td>0.042814</td>\n",
       "      <td>-3.150895</td>\n",
       "      <td>147.0</td>\n",
       "      <td>0.029431</td>\n",
       "      <td>-3.525697</td>\n",
       "      <td>2017-05-12_5_4C-70per_3C_CH17</td>\n",
       "      <td>0.955051</td>\n",
       "    </tr>\n",
       "    <tr>\n",
       "      <th>148</th>\n",
       "      <td>0.042899</td>\n",
       "      <td>-3.148905</td>\n",
       "      <td>148.0</td>\n",
       "      <td>0.025238</td>\n",
       "      <td>-3.679404</td>\n",
       "      <td>2017-05-12_5_4C-70per_3C_CH17</td>\n",
       "      <td>0.325995</td>\n",
       "    </tr>\n",
       "    <tr>\n",
       "      <th>227</th>\n",
       "      <td>0.006590</td>\n",
       "      <td>-5.022164</td>\n",
       "      <td>227.0</td>\n",
       "      <td>0.038357</td>\n",
       "      <td>-3.260823</td>\n",
       "      <td>2017-05-12_5_4C-70per_3C_CH17</td>\n",
       "      <td>0.024250</td>\n",
       "    </tr>\n",
       "    <tr>\n",
       "      <th>268</th>\n",
       "      <td>0.006565</td>\n",
       "      <td>-5.026038</td>\n",
       "      <td>268.0</td>\n",
       "      <td>0.038269</td>\n",
       "      <td>-3.263112</td>\n",
       "      <td>2017-05-12_5_4C-70per_3C_CH17</td>\n",
       "      <td>0.022470</td>\n",
       "    </tr>\n",
       "    <tr>\n",
       "      <th>685</th>\n",
       "      <td>0.006664</td>\n",
       "      <td>-5.011083</td>\n",
       "      <td>685.0</td>\n",
       "      <td>0.034903</td>\n",
       "      <td>-3.355194</td>\n",
       "      <td>2017-05-12_5_4C-70per_3C_CH17</td>\n",
       "      <td>0.025893</td>\n",
       "    </tr>\n",
       "  </tbody>\n",
       "</table>\n",
       "</div>"
      ],
      "text/plain": [
       "     max_diff_dQ  log_max_diff_dQ  cycle_index  max_diff_dV  log_max_diff_dV  \\\n",
       "0       0.006388        -5.053343          0.0     1.564151         0.447343   \n",
       "32      0.006912        -4.974528         32.0     0.029726        -3.515733   \n",
       "40      0.006305        -5.066425         40.0     2.612268         0.960219   \n",
       "147     0.042814        -3.150895        147.0     0.029431        -3.525697   \n",
       "148     0.042899        -3.148905        148.0     0.025238        -3.679404   \n",
       "227     0.006590        -5.022164        227.0     0.038357        -3.260823   \n",
       "268     0.006565        -5.026038        268.0     0.038269        -3.263112   \n",
       "685     0.006664        -5.011083        685.0     0.034903        -3.355194   \n",
       "\n",
       "                        cell_index  outlier_prob  \n",
       "0    2017-05-12_5_4C-70per_3C_CH17      0.715506  \n",
       "32   2017-05-12_5_4C-70per_3C_CH17      0.038202  \n",
       "40   2017-05-12_5_4C-70per_3C_CH17      0.812521  \n",
       "147  2017-05-12_5_4C-70per_3C_CH17      0.955051  \n",
       "148  2017-05-12_5_4C-70per_3C_CH17      0.325995  \n",
       "227  2017-05-12_5_4C-70per_3C_CH17      0.024250  \n",
       "268  2017-05-12_5_4C-70per_3C_CH17      0.022470  \n",
       "685  2017-05-12_5_4C-70per_3C_CH17      0.025893  "
      ]
     },
     "execution_count": 72,
     "metadata": {},
     "output_type": "execute_result"
    }
   ],
   "source": [
    "df_outliers_pred = (df_features_per_cell[\n",
    "    df_features_per_cell[\"cycle_index\"]\n",
    "    .isin(pred_outlier_indices)].copy())\n",
    "\n",
    "df_outliers_pred[\"outlier_prob\"] = pred_outlier_score\n",
    "df_outliers_pred"
   ]
  },
  {
   "cell_type": "markdown",
   "id": "f811d8c0-a079-493e-810a-e9e2ad440341",
   "metadata": {},
   "source": [
    "## Predict anomaly score map"
   ]
  },
  {
   "cell_type": "code",
   "execution_count": 73,
   "id": "5feed4fa-4985-470e-a2c0-06061a71dec8",
   "metadata": {},
   "outputs": [
    {
     "data": {
      "image/png": "[encoded data removed]",
      "text/plain": [
       "<Figure size 800x500 with 2 Axes>"
      ]
     },
     "metadata": {},
     "output_type": "display_data"
    }
   ],
   "source": [
    "axplot = runner.predict_anomaly_score_map(\n",
    "    selected_model=model,\n",
    "    model_name=\"Local Outlier Factor (LOF)\",\n",
    "    xoutliers=df_outliers_pred[\"log_max_diff_dQ\"],\n",
    "    youtliers=df_outliers_pred[\"log_max_diff_dV\"],\n",
    "    pred_outliers_index=pred_outlier_indices,\n",
    "    threshold=param_dict[\"threshold\"]\n",
    ")\n",
    "\n",
    "axplot.set_xlabel(\n",
    "    r\"$\\log(\\Delta Q_\\textrm{scaled,max,cyc)}\\;\\textrm{[Ah]}$\",\n",
    "    fontsize=12)\n",
    "axplot.set_ylabel(\n",
    "    r\"$\\log(\\Delta V_\\textrm{scaled,max,cyc})\\;\\textrm{[V]}$\",\n",
    "    fontsize=12)\n",
    "\n",
    "output_fig_filename = (\n",
    "    \"lof_\"\n",
    "    + selected_cell_label\n",
    "    + \".png\")\n",
    "\n",
    "fig_output_path = (\n",
    "    selected_cell_artifacts_dir\n",
    "    .joinpath(output_fig_filename))\n",
    "\n",
    "plt.savefig(\n",
    "    fig_output_path,\n",
    "    dpi=600,\n",
    "    bbox_inches=\"tight\")\n",
    "\n",
    "plt.show()"
   ]
  },
  {
   "cell_type": "markdown",
   "id": "f97db494-7e89-4d30-89ad-1b9f443dc120",
   "metadata": {},
   "source": [
    "# Model performance evaluation"
   ]
  },
  {
   "cell_type": "code",
   "execution_count": 74,
   "id": "88f7c421-dfb0-4b76-8e5d-ac2010ad4faa",
   "metadata": {},
   "outputs": [],
   "source": [
    "df_eval_outlier = modval.evaluate_pred_outliers(\n",
    "    df_benchmark=df_selected_cell,\n",
    "    outlier_cycle_index=pred_outlier_indices)"
   ]
  },
  {
   "cell_type": "markdown",
   "id": "57eb737d-58c2-4905-8226-7ef6b6047044",
   "metadata": {},
   "source": [
    "## Confusion matrix"
   ]
  },
  {
   "cell_type": "code",
   "execution_count": 75,
   "id": "7a814cb1-f128-4ca9-8168-98edbe7a231b",
   "metadata": {},
   "outputs": [
    {
     "data": {
      "image/png": "[encoded data removed]",
      "text/plain": [
       "<Figure size 600x400 with 1 Axes>"
      ]
     },
     "metadata": {},
     "output_type": "display_data"
    }
   ],
   "source": [
    "axplot = modval.generate_confusion_matrix(\n",
    "    y_true=df_eval_outlier[\"true_outlier\"],\n",
    "    y_pred=df_eval_outlier[\"pred_outlier\"])\n",
    "\n",
    "axplot.set_title(\n",
    "    \"Local Outlier Factor (LOF)\",\n",
    "    fontsize=16)\n",
    "\n",
    "output_fig_filename = (\n",
    "    \"conf_matrix_lof_\"\n",
    "    + selected_cell_label\n",
    "    + \".png\")\n",
    "\n",
    "fig_output_path = (\n",
    "    selected_cell_artifacts_dir\n",
    "    .joinpath(output_fig_filename))\n",
    "\n",
    "plt.savefig(\n",
    "    fig_output_path,\n",
    "    dpi=600,\n",
    "    bbox_inches=\"tight\")\n",
    "\n",
    "plt.show()"
   ]
  },
  {
   "cell_type": "markdown",
   "id": "93674ed0-adfa-4fa8-b236-d720ff4fe5eb",
   "metadata": {},
   "source": [
    "## Evaluate model performance"
   ]
  },
  {
   "cell_type": "code",
   "execution_count": 76,
   "id": "625ce13b-b98c-4b6a-94a5-1085c92e8723",
   "metadata": {},
   "outputs": [
    {
     "name": "stdout",
     "output_type": "stream",
     "text": [
      "Accuracy: 0.9942196531791907\n",
      "Precision: 0.5\n",
      "Recall: 1.0\n",
      "F1-score: 0.6666666666666666\n",
      "MCC-score: 0.7050482417932932\n",
      "****************************************************************************************************\n"
     ]
    },
    {
     "data": {
      "text/html": [
       "<div>\n",
       "<style scoped>\n",
       "    .dataframe tbody tr th:only-of-type {\n",
       "        vertical-align: middle;\n",
       "    }\n",
       "\n",
       "    .dataframe tbody tr th {\n",
       "        vertical-align: top;\n",
       "    }\n",
       "\n",
       "    .dataframe thead th {\n",
       "        text-align: right;\n",
       "    }\n",
       "</style>\n",
       "<table border=\"1\" class=\"dataframe\">\n",
       "  <thead>\n",
       "    <tr style=\"text-align: right;\">\n",
       "      <th></th>\n",
       "      <th>ml_model</th>\n",
       "      <th>cell_index</th>\n",
       "      <th>accuracy</th>\n",
       "      <th>precision</th>\n",
       "      <th>recall</th>\n",
       "      <th>f1_score</th>\n",
       "      <th>mcc_score</th>\n",
       "    </tr>\n",
       "  </thead>\n",
       "  <tbody>\n",
       "    <tr>\n",
       "      <th>0</th>\n",
       "      <td>lof</td>\n",
       "      <td>2017-05-12_5_4C-70per_3C_CH17</td>\n",
       "      <td>0.99422</td>\n",
       "      <td>0.5</td>\n",
       "      <td>1.0</td>\n",
       "      <td>0.666667</td>\n",
       "      <td>0.705048</td>\n",
       "    </tr>\n",
       "  </tbody>\n",
       "</table>\n",
       "</div>"
      ]
     },
     "metadata": {},
     "output_type": "display_data"
    }
   ],
   "source": [
    "df_current_eval_metrics = modval.eval_model_performance(\n",
    "    model_name=\"lof\",\n",
    "    selected_cell_label=selected_cell_label,\n",
    "    df_eval_outliers=df_eval_outlier)\n",
    "\n",
    "df_current_eval_metrics"
   ]
  },
  {
   "cell_type": "markdown",
   "id": "1f54b213-7587-4499-9e66-995f7e2494a9",
   "metadata": {},
   "source": [
    "## Export model performance metrics to CSV output"
   ]
  },
  {
   "cell_type": "code",
   "execution_count": 77,
   "id": "e9b75d84-d9ba-4dec-9896-6bac2cad53a4",
   "metadata": {},
   "outputs": [
    {
     "name": "stdout",
     "output_type": "stream",
     "text": [
      "\u001b[38;21mHave the metrics for lof on cell 2017-05-12_5_4C-70per_3C_CH17 been evaluated before?\n",
      "\u001b[38;21mTrue\n",
      "\u001b[38;21m----------------------------------------------------------------------\n",
      "\u001b[38;21mReplacing existing row for lof, 2017-05-12_5_4C-70per_3C_CH17.\n",
      "\u001b[38;21mMetrics for lof, 2017-05-12_5_4C-70per_3C_CH17 have been replaced in the CSV file.\n"
     ]
    },
    {
     "data": {
      "text/html": [
       "<div>\n",
       "<style scoped>\n",
       "    .dataframe tbody tr th:only-of-type {\n",
       "        vertical-align: middle;\n",
       "    }\n",
       "\n",
       "    .dataframe tbody tr th {\n",
       "        vertical-align: top;\n",
       "    }\n",
       "\n",
       "    .dataframe thead th {\n",
       "        text-align: right;\n",
       "    }\n",
       "</style>\n",
       "<table border=\"1\" class=\"dataframe\">\n",
       "  <thead>\n",
       "    <tr style=\"text-align: right;\">\n",
       "      <th></th>\n",
       "      <th>ml_model</th>\n",
       "      <th>cell_index</th>\n",
       "      <th>accuracy</th>\n",
       "      <th>precision</th>\n",
       "      <th>recall</th>\n",
       "      <th>f1_score</th>\n",
       "      <th>mcc_score</th>\n",
       "    </tr>\n",
       "  </thead>\n",
       "  <tbody>\n",
       "    <tr>\n",
       "      <th>0</th>\n",
       "      <td>iforest</td>\n",
       "      <td>2017-05-12_5_4C-70per_3C_CH17</td>\n",
       "      <td>1.00000</td>\n",
       "      <td>1.0</td>\n",
       "      <td>1.0</td>\n",
       "      <td>1.000000</td>\n",
       "      <td>1.000000</td>\n",
       "    </tr>\n",
       "    <tr>\n",
       "      <th>1</th>\n",
       "      <td>knn</td>\n",
       "      <td>2017-05-12_5_4C-70per_3C_CH17</td>\n",
       "      <td>1.00000</td>\n",
       "      <td>1.0</td>\n",
       "      <td>1.0</td>\n",
       "      <td>1.000000</td>\n",
       "      <td>1.000000</td>\n",
       "    </tr>\n",
       "    <tr>\n",
       "      <th>2</th>\n",
       "      <td>gmm</td>\n",
       "      <td>2017-05-12_5_4C-70per_3C_CH17</td>\n",
       "      <td>0.99711</td>\n",
       "      <td>1.0</td>\n",
       "      <td>0.5</td>\n",
       "      <td>0.666667</td>\n",
       "      <td>0.706081</td>\n",
       "    </tr>\n",
       "    <tr>\n",
       "      <th>3</th>\n",
       "      <td>lof</td>\n",
       "      <td>2017-05-12_5_4C-70per_3C_CH17</td>\n",
       "      <td>0.99422</td>\n",
       "      <td>0.5</td>\n",
       "      <td>1.0</td>\n",
       "      <td>0.666667</td>\n",
       "      <td>0.705048</td>\n",
       "    </tr>\n",
       "  </tbody>\n",
       "</table>\n",
       "</div>"
      ]
     },
     "metadata": {},
     "output_type": "display_data"
    }
   ],
   "source": [
    "# Export current metrics to CSV\n",
    "hyperparam_eval_filepath =  Path.cwd().joinpath(\n",
    "    \"eval_metrics_hp_single_cell_severson.csv\")\n",
    "\n",
    "hp.export_current_model_metrics(\n",
    "    model_name=\"lof\",\n",
    "    selected_cell_label=selected_cell_label,\n",
    "    df_current_eval_metrics=df_current_eval_metrics,\n",
    "    export_csv_filepath=hyperparam_eval_filepath,\n",
    "    if_exists=\"replace\")"
   ]
  },
  {
   "cell_type": "markdown",
   "id": "b16fec5d-067e-494f-98f4-27d9ead0c103",
   "metadata": {},
   "source": [
    "# Finally: check with true labels"
   ]
  },
  {
   "cell_type": "markdown",
   "id": "c5a1a954-3ee5-444f-84ab-2b7b7e718053",
   "metadata": {},
   "source": [
    "## Plot cycle data with labels"
   ]
  },
  {
   "cell_type": "code",
   "execution_count": null,
   "id": "f875832d-87d0-4c9e-a830-de5b37cb6935",
   "metadata": {},
   "outputs": [
    {
     "name": "stdout",
     "output_type": "stream",
     "text": [
      "True outlier cycle index:\n",
      "[  0.  40. 147. 148.]\n"
     ]
    },
    {
     "data": {
      "image/png": "[encoded data removed]",
      "text/plain": [
       "<Figure size 1000x600 with 2 Axes>"
      ]
     },
     "metadata": {},
     "output_type": "display_data"
    }
   ],
   "source": [
    "# Extract true outliers cycle index from benchmarking dataset\n",
    "true_outlier_cycle_index = benchdb.get_true_outlier_cycle_index(\n",
    "    df_selected_cell)\n",
    "print(f\"True outlier cycle index:\")\n",
    "print(true_outlier_cycle_index)\n",
    "\n",
    "# Plot cell data with true anomalies\n",
    "# If the true outlier cycle index is not known,\n",
    "# cycling data will be plotted without labels\n",
    "benchdb.plot_cycle_data(\n",
    "    df_selected_cell_without_labels,\n",
    "    true_outlier_cycle_index)\n",
    "\n",
    "output_fig_filename = (\n",
    "    \"cycle_data_with_labels_\"\n",
    "    + selected_cell_label\n",
    "    + \".png\")\n",
    "\n",
    "fig_output_path = (\n",
    "    selected_cell_artifacts_dir.joinpath(output_fig_filename))\n",
    "\n",
    "plt.savefig(\n",
    "    fig_output_path,\n",
    "    dpi=600,\n",
    "    bbox_inches=\"tight\")\n",
    "\n",
    "plt.show()"
   ]
  },
  {
   "cell_type": "markdown",
   "id": "28e8d2b0-2472-4497-9761-ab7d21f877c0",
   "metadata": {},
   "source": [
    "## Calculate bubble size ratio"
   ]
  },
  {
   "cell_type": "code",
   "execution_count": null,
   "id": "8825432d-6744-48ec-a977-975eae306a84",
   "metadata": {},
   "outputs": [
    {
     "name": "stdout",
     "output_type": "stream",
     "text": [
      "Feature mean: 0.00641125672398844\n",
      "Feature max: 0.042899057000000074\n",
      "Feature min: 0.006194469999999952\n",
      "Feature std: 0.0019646872892444154\n",
      "**********************************************************************\n",
      "Feature mean: 0.04105323627167629\n",
      "Feature max: 2.612268400000005\n",
      "Feature min: 0.022684100000000207\n",
      "Feature std: 0.11397361246602544\n",
      "**********************************************************************\n"
     ]
    }
   ],
   "source": [
    "# Calculate the bubble size ratio for plotting\n",
    "df_bubble_size_dQ = bviz.calculate_bubble_size_ratio(\n",
    "    df_variable=df_features_per_cell[\"max_diff_dQ\"])\n",
    "\n",
    "df_bubble_size_dV = bviz.calculate_bubble_size_ratio(\n",
    "    df_variable=df_features_per_cell[\"max_diff_dV\"])\n",
    "\n",
    "bubble_size = (\n",
    "    np.abs(df_bubble_size_dV)\n",
    "    * np.abs(df_bubble_size_dQ))"
   ]
  },
  {
   "cell_type": "markdown",
   "id": "520e4bf2-894a-469c-ac57-b25c9ec830b4",
   "metadata": {},
   "source": [
    "## Plot the bubble chart and label the true outliers"
   ]
  },
  {
   "cell_type": "code",
   "execution_count": null,
   "id": "cbdae17f-b03c-4727-a388-cf5ab8948a86",
   "metadata": {},
   "outputs": [
    {
     "name": "stdout",
     "output_type": "stream",
     "text": [
      "Potential anomalous cycle: 0.0\n",
      "x-position of the text: -5.053343441284631\n",
      "y-position of the text: 0.44734305691240445\n",
      "----------------------------------------------------------------------\n",
      "Potential anomalous cycle: 40.0\n",
      "x-position of the text: -5.066424997988364\n",
      "y-position of the text: 0.9602189626435208\n",
      "----------------------------------------------------------------------\n",
      "Potential anomalous cycle: 147.0\n",
      "x-position of the text: -3.1508950320267735\n",
      "y-position of the text: -3.5256965450993665\n",
      "----------------------------------------------------------------------\n",
      "Potential anomalous cycle: 148.0\n",
      "x-position of the text: -3.1489054346417387\n",
      "y-position of the text: -3.6794044837514233\n",
      "----------------------------------------------------------------------\n"
     ]
    },
    {
     "data": {
      "image/png": "[encoded data removed]",
      "text/plain": [
       "<Figure size 640x480 with 1 Axes>"
      ]
     },
     "metadata": {},
     "output_type": "display_data"
    }
   ],
   "source": [
    "# Plot the bubble chart and label the outliers\n",
    "axplot = bviz.plot_bubble_chart(\n",
    "    xseries=df_features_per_cell[\"log_max_diff_dQ\"],\n",
    "    yseries=df_features_per_cell[\"log_max_diff_dV\"],\n",
    "    bubble_size=bubble_size,\n",
    "    unique_cycle_count=unique_cycle_count,\n",
    "    cycle_outlier_idx_label=true_outlier_cycle_index)\n",
    "\n",
    "axplot.set_title(\n",
    "    f\"Cell {selected_cell_label}\", fontsize=13)\n",
    "\n",
    "axplot.set_xlabel(\n",
    "    r\"$\\log(\\Delta Q_\\textrm{scaled,max,cyc)}\\;\\textrm{[Ah]}$\",\n",
    "    fontsize=12)\n",
    "axplot.set_ylabel(\n",
    "    r\"$\\log(\\Delta V_\\textrm{scaled,max,cyc})\\;\\textrm{[V]}$\",\n",
    "    fontsize=12)\n",
    "\n",
    "output_fig_filename = (\n",
    "    \"log_bubble_plot_\"\n",
    "    + selected_cell_label\n",
    "    + \".png\")\n",
    "\n",
    "fig_output_path = (\n",
    "    selected_cell_artifacts_dir.joinpath(output_fig_filename))\n",
    "\n",
    "plt.savefig(\n",
    "    fig_output_path,\n",
    "    dpi=200,\n",
    "    bbox_inches=\"tight\")\n",
    "\n",
    "plt.show()"
   ]
  }
 ],
 "metadata": {
  "kernelspec": {
   "display_name": "osbad",
   "language": "python",
   "name": "python3"
  },
  "language_info": {
   "codemirror_mode": {
    "name": "ipython",
    "version": 3
   },
   "file_extension": ".py",
   "mimetype": "text/x-python",
   "name": "python",
   "nbconvert_exporter": "python",
   "pygments_lexer": "ipython3",
   "version": "3.12.11"
  }
 },
 "nbformat": 4,
 "nbformat_minor": 5
}
