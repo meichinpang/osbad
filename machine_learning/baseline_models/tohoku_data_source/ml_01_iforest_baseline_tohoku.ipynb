{
 "cells": [
  {
   "cell_type": "markdown",
   "id": "43f0175a-764c-43bd-a905-efaa9b992b49",
   "metadata": {},
   "source": [
    "# Import libraries"
   ]
  },
  {
   "cell_type": "code",
   "execution_count": 1,
   "id": "0586c23d-2f79-47b0-9200-e8bc0ddead2e",
   "metadata": {},
   "outputs": [],
   "source": [
    "%load_ext autoreload\n",
    "%autoreload 2\n",
    "\n",
    "# Standard library\n",
    "from pathlib import Path\n",
    "import pprint\n",
    "\n",
    "# Third-party libraries\n",
    "import duckdb\n",
    "import fireducks.pandas as pd\n",
    "import matplotlib as mpl\n",
    "import matplotlib.pyplot as plt\n",
    "import numpy as np\n",
    "import optuna\n",
    "import plotly.graph_objects as go\n",
    "from matplotlib import rcParams\n",
    "from sklearn.covariance import EmpiricalCovariance\n",
    "\n",
    "rcParams[\"text.usetex\"] = True\n",
    "\n",
    "# Custom osbad library for anomaly detection\n",
    "import osbad.config as bconf\n",
    "import osbad.hyperparam as hp\n",
    "import osbad.modval as modval\n",
    "import osbad.stats as bstats\n",
    "import osbad.viz as bviz\n",
    "from osbad.database import BenchDB\n",
    "from osbad.scaler import CycleScaling\n",
    "from osbad.model import ModelRunner"
   ]
  },
  {
   "cell_type": "markdown",
   "id": "cd4caff3-f55f-4fc2-9b93-1aa58123de7e",
   "metadata": {},
   "source": [
    "# Import dataset"
   ]
  },
  {
   "cell_type": "markdown",
   "id": "720b7e71-e8e0-4c04-9f5b-a176af57e4e8",
   "metadata": {},
   "source": [
    "## Define filepath here"
   ]
  },
  {
   "cell_type": "code",
   "execution_count": 2,
   "id": "f7422827-9dc9-4d49-80fc-ce318ec03f37",
   "metadata": {},
   "outputs": [],
   "source": [
    "# Define a global variable to save fig output\n",
    "# The definition of PIPELINE_OUTPUT_DIR can be\n",
    "# found in config.py\n",
    "PIPELINE_OUTPUT_DIR = bconf.PIPELINE_OUTPUT_DIR"
   ]
  },
  {
   "cell_type": "code",
   "execution_count": 3,
   "id": "b1a994fe-34a8-48b5-96ea-57b918b4e2b7",
   "metadata": {},
   "outputs": [],
   "source": [
    "# Path to the DuckDB instance:\n",
    "# \"tohoku_benchmark_dataset.db\" inside the database folder\n",
    "db_filepath = (\n",
    "    Path.cwd()\n",
    "    .parent.parent.parent\n",
    "    .joinpath(\"database\",\"tohoku_benchmark_dataset.db\"))"
   ]
  },
  {
   "cell_type": "markdown",
   "id": "a33fe6a4-8263-42ed-abb9-6532fc2dfdf7",
   "metadata": {},
   "source": [
    "## Get the cell inventory of the training dataset"
   ]
  },
  {
   "cell_type": "code",
   "execution_count": 4,
   "id": "77acb416-42ca-4655-a2f7-3d4159506a36",
   "metadata": {},
   "outputs": [
    {
     "name": "stdout",
     "output_type": "stream",
     "text": [
      "Unique cell index: ['cell_num_1' 'cell_num_2' 'cell_num_3' 'cell_num_4' 'cell_num_5'\n",
      " 'cell_num_6' 'cell_num_7' 'cell_num_8' 'cell_num_9' 'cell_num_10']\n"
     ]
    }
   ],
   "source": [
    "# Create a DuckDB connection\n",
    "con = duckdb.connect(\n",
    "    db_filepath,\n",
    "    read_only=True)\n",
    "\n",
    "# Load all training dataset from duckdb\n",
    "df_duckdb = con.sql(\n",
    "    \"SELECT * FROM df_tohoku_dataset\").df()\n",
    "\n",
    "# Drop the additional index column\n",
    "df_duckdb = df_duckdb.drop(\n",
    "    columns=\"__index_level_0__\",\n",
    "    errors=\"ignore\")\n",
    "\n",
    "# Get the cell index of training dataset\n",
    "unique_cell_index_train = df_duckdb[\"cell_index\"].unique()\n",
    "print(f\"Unique cell index: {unique_cell_index_train}\")"
   ]
  },
  {
   "cell_type": "code",
   "execution_count": 5,
   "id": "c4b90e9a-2959-43ac-a54c-74f76200c4bd",
   "metadata": {},
   "outputs": [
    {
     "data": {
      "text/html": [
       "<div>\n",
       "<style scoped>\n",
       "    .dataframe tbody tr th:only-of-type {\n",
       "        vertical-align: middle;\n",
       "    }\n",
       "\n",
       "    .dataframe tbody tr th {\n",
       "        vertical-align: top;\n",
       "    }\n",
       "\n",
       "    .dataframe thead th {\n",
       "        text-align: right;\n",
       "    }\n",
       "</style>\n",
       "<table border=\"1\" class=\"dataframe\">\n",
       "  <thead>\n",
       "    <tr style=\"text-align: right;\">\n",
       "      <th></th>\n",
       "      <th>discharge_capacity</th>\n",
       "      <th>voltage</th>\n",
       "      <th>cycle_index</th>\n",
       "      <th>cell_index</th>\n",
       "      <th>outlier</th>\n",
       "    </tr>\n",
       "  </thead>\n",
       "  <tbody>\n",
       "    <tr>\n",
       "      <th>0</th>\n",
       "      <td>0.000077</td>\n",
       "      <td>3.617995</td>\n",
       "      <td>0</td>\n",
       "      <td>cell_num_1</td>\n",
       "      <td>0</td>\n",
       "    </tr>\n",
       "    <tr>\n",
       "      <th>1</th>\n",
       "      <td>0.231343</td>\n",
       "      <td>3.572679</td>\n",
       "      <td>0</td>\n",
       "      <td>cell_num_1</td>\n",
       "      <td>0</td>\n",
       "    </tr>\n",
       "    <tr>\n",
       "      <th>2</th>\n",
       "      <td>0.462615</td>\n",
       "      <td>3.567599</td>\n",
       "      <td>0</td>\n",
       "      <td>cell_num_1</td>\n",
       "      <td>0</td>\n",
       "    </tr>\n",
       "    <tr>\n",
       "      <th>3</th>\n",
       "      <td>0.693891</td>\n",
       "      <td>3.563376</td>\n",
       "      <td>0</td>\n",
       "      <td>cell_num_1</td>\n",
       "      <td>0</td>\n",
       "    </tr>\n",
       "    <tr>\n",
       "      <th>4</th>\n",
       "      <td>0.925169</td>\n",
       "      <td>3.559585</td>\n",
       "      <td>0</td>\n",
       "      <td>cell_num_1</td>\n",
       "      <td>0</td>\n",
       "    </tr>\n",
       "    <tr>\n",
       "      <th>...</th>\n",
       "      <td>...</td>\n",
       "      <td>...</td>\n",
       "      <td>...</td>\n",
       "      <td>...</td>\n",
       "      <td>...</td>\n",
       "    </tr>\n",
       "    <tr>\n",
       "      <th>905544</th>\n",
       "      <td>38.371162</td>\n",
       "      <td>3.074328</td>\n",
       "      <td>239</td>\n",
       "      <td>cell_num_10</td>\n",
       "      <td>1</td>\n",
       "    </tr>\n",
       "    <tr>\n",
       "      <th>905545</th>\n",
       "      <td>38.602310</td>\n",
       "      <td>3.072911</td>\n",
       "      <td>239</td>\n",
       "      <td>cell_num_10</td>\n",
       "      <td>1</td>\n",
       "    </tr>\n",
       "    <tr>\n",
       "      <th>905546</th>\n",
       "      <td>38.833466</td>\n",
       "      <td>3.071518</td>\n",
       "      <td>239</td>\n",
       "      <td>cell_num_10</td>\n",
       "      <td>1</td>\n",
       "    </tr>\n",
       "    <tr>\n",
       "      <th>905547</th>\n",
       "      <td>39.064613</td>\n",
       "      <td>3.070054</td>\n",
       "      <td>239</td>\n",
       "      <td>cell_num_10</td>\n",
       "      <td>1</td>\n",
       "    </tr>\n",
       "    <tr>\n",
       "      <th>905548</th>\n",
       "      <td>39.295761</td>\n",
       "      <td>3.068587</td>\n",
       "      <td>239</td>\n",
       "      <td>cell_num_10</td>\n",
       "      <td>1</td>\n",
       "    </tr>\n",
       "  </tbody>\n",
       "</table>\n",
       "<p>905549 rows × 5 columns</p>\n",
       "</div>"
      ],
      "text/plain": [
       "        discharge_capacity   voltage  cycle_index   cell_index  outlier\n",
       "0                 0.000077  3.617995            0   cell_num_1        0\n",
       "1                 0.231343  3.572679            0   cell_num_1        0\n",
       "2                 0.462615  3.567599            0   cell_num_1        0\n",
       "3                 0.693891  3.563376            0   cell_num_1        0\n",
       "4                 0.925169  3.559585            0   cell_num_1        0\n",
       "...                    ...       ...          ...          ...      ...\n",
       "905544           38.371162  3.074328          239  cell_num_10        1\n",
       "905545           38.602310  3.072911          239  cell_num_10        1\n",
       "905546           38.833466  3.071518          239  cell_num_10        1\n",
       "905547           39.064613  3.070054          239  cell_num_10        1\n",
       "905548           39.295761  3.068587          239  cell_num_10        1\n",
       "\n",
       "[905549 rows x 5 columns]"
      ]
     },
     "execution_count": 5,
     "metadata": {},
     "output_type": "execute_result"
    }
   ],
   "source": [
    "df_duckdb"
   ]
  },
  {
   "cell_type": "markdown",
   "id": "70c4f641-5c91-4037-afbd-51f49f4f0e6d",
   "metadata": {},
   "source": [
    "## Filtered dataset for selected cell only"
   ]
  },
  {
   "cell_type": "code",
   "execution_count": 6,
   "id": "47ae241d-bd81-4f4b-ab4e-746c3fae0f1f",
   "metadata": {},
   "outputs": [],
   "source": [
    "# Get the cell-ID from cell_inventory\n",
    "selected_cell_label = \"cell_num_1\"\n",
    "cell_num = selected_cell_label[-1]\n",
    "\n",
    "# Create a subfolder to store fig output\n",
    "# corresponding to each cell-index\n",
    "selected_cell_artifacts_dir = bconf.artifacts_output_dir(\n",
    "    selected_cell_label)\n",
    "\n",
    "# Filter dataset for specific selected cell only\n",
    "df_selected_cell = df_duckdb[\n",
    "    df_duckdb[\"cell_index\"] == selected_cell_label]\n",
    "\n",
    "# Import the BenchDB class\n",
    "benchdb = BenchDB(\n",
    "    db_filepath,\n",
    "    selected_cell_label)"
   ]
  },
  {
   "cell_type": "code",
   "execution_count": 7,
   "id": "0d50e6fb-e8e1-4d27-83ca-c8fd2c01de24",
   "metadata": {},
   "outputs": [],
   "source": [
    "# Filter dataset for specific selected cell only\n",
    "df_selected_cell = df_duckdb[\n",
    "    df_duckdb[\"cell_index\"] == selected_cell_label]"
   ]
  },
  {
   "cell_type": "markdown",
   "id": "1a969c23-0f02-4c8b-80f3-4b87915aa292",
   "metadata": {},
   "source": [
    "## Drop labels"
   ]
  },
  {
   "cell_type": "code",
   "execution_count": 8,
   "id": "c6218e71-2316-4c63-8ae4-55f2e1958fd2",
   "metadata": {},
   "outputs": [
    {
     "data": {
      "text/html": [
       "<div>\n",
       "<style scoped>\n",
       "    .dataframe tbody tr th:only-of-type {\n",
       "        vertical-align: middle;\n",
       "    }\n",
       "\n",
       "    .dataframe tbody tr th {\n",
       "        vertical-align: top;\n",
       "    }\n",
       "\n",
       "    .dataframe thead th {\n",
       "        text-align: right;\n",
       "    }\n",
       "</style>\n",
       "<table border=\"1\" class=\"dataframe\">\n",
       "  <thead>\n",
       "    <tr style=\"text-align: right;\">\n",
       "      <th></th>\n",
       "      <th>discharge_capacity</th>\n",
       "      <th>voltage</th>\n",
       "      <th>cycle_index</th>\n",
       "      <th>cell_index</th>\n",
       "    </tr>\n",
       "  </thead>\n",
       "  <tbody>\n",
       "    <tr>\n",
       "      <th>0</th>\n",
       "      <td>0.000077</td>\n",
       "      <td>3.617995</td>\n",
       "      <td>0</td>\n",
       "      <td>cell_num_1</td>\n",
       "    </tr>\n",
       "    <tr>\n",
       "      <th>1</th>\n",
       "      <td>0.231343</td>\n",
       "      <td>3.572679</td>\n",
       "      <td>0</td>\n",
       "      <td>cell_num_1</td>\n",
       "    </tr>\n",
       "    <tr>\n",
       "      <th>2</th>\n",
       "      <td>0.462615</td>\n",
       "      <td>3.567599</td>\n",
       "      <td>0</td>\n",
       "      <td>cell_num_1</td>\n",
       "    </tr>\n",
       "    <tr>\n",
       "      <th>3</th>\n",
       "      <td>0.693891</td>\n",
       "      <td>3.563376</td>\n",
       "      <td>0</td>\n",
       "      <td>cell_num_1</td>\n",
       "    </tr>\n",
       "    <tr>\n",
       "      <th>4</th>\n",
       "      <td>0.925169</td>\n",
       "      <td>3.559585</td>\n",
       "      <td>0</td>\n",
       "      <td>cell_num_1</td>\n",
       "    </tr>\n",
       "    <tr>\n",
       "      <th>...</th>\n",
       "      <td>...</td>\n",
       "      <td>...</td>\n",
       "      <td>...</td>\n",
       "      <td>...</td>\n",
       "    </tr>\n",
       "    <tr>\n",
       "      <th>158807</th>\n",
       "      <td>37.700096</td>\n",
       "      <td>3.067416</td>\n",
       "      <td>476</td>\n",
       "      <td>cell_num_1</td>\n",
       "    </tr>\n",
       "    <tr>\n",
       "      <th>158808</th>\n",
       "      <td>37.931385</td>\n",
       "      <td>3.066397</td>\n",
       "      <td>476</td>\n",
       "      <td>cell_num_1</td>\n",
       "    </tr>\n",
       "    <tr>\n",
       "      <th>158809</th>\n",
       "      <td>38.162678</td>\n",
       "      <td>3.065279</td>\n",
       "      <td>476</td>\n",
       "      <td>cell_num_1</td>\n",
       "    </tr>\n",
       "    <tr>\n",
       "      <th>158810</th>\n",
       "      <td>38.393963</td>\n",
       "      <td>3.064079</td>\n",
       "      <td>476</td>\n",
       "      <td>cell_num_1</td>\n",
       "    </tr>\n",
       "    <tr>\n",
       "      <th>158811</th>\n",
       "      <td>38.625252</td>\n",
       "      <td>3.062969</td>\n",
       "      <td>476</td>\n",
       "      <td>cell_num_1</td>\n",
       "    </tr>\n",
       "  </tbody>\n",
       "</table>\n",
       "<p>158812 rows × 4 columns</p>\n",
       "</div>"
      ],
      "text/plain": [
       "        discharge_capacity   voltage  cycle_index  cell_index\n",
       "0                 0.000077  3.617995            0  cell_num_1\n",
       "1                 0.231343  3.572679            0  cell_num_1\n",
       "2                 0.462615  3.567599            0  cell_num_1\n",
       "3                 0.693891  3.563376            0  cell_num_1\n",
       "4                 0.925169  3.559585            0  cell_num_1\n",
       "...                    ...       ...          ...         ...\n",
       "158807           37.700096  3.067416          476  cell_num_1\n",
       "158808           37.931385  3.066397          476  cell_num_1\n",
       "158809           38.162678  3.065279          476  cell_num_1\n",
       "158810           38.393963  3.064079          476  cell_num_1\n",
       "158811           38.625252  3.062969          476  cell_num_1\n",
       "\n",
       "[158812 rows x 4 columns]"
      ]
     },
     "execution_count": 8,
     "metadata": {},
     "output_type": "execute_result"
    }
   ],
   "source": [
    "# Drop the outlier labels\n",
    "df_selected_cell_without_labels = df_selected_cell.drop(\n",
    "    \"outlier\", axis=1).reset_index(drop=True)\n",
    "\n",
    "df_selected_cell_without_labels   "
   ]
  },
  {
   "cell_type": "markdown",
   "id": "7e62227a-fa88-4a88-9780-3c1b84194eec",
   "metadata": {},
   "source": [
    "## Plot cycle capacity fade without labels"
   ]
  },
  {
   "cell_type": "code",
   "execution_count": 9,
   "id": "506976e7-c955-4ec8-83cf-cbf6a0b9f8af",
   "metadata": {},
   "outputs": [],
   "source": [
    "# Calculate maximum capacity per cycle\n",
    "max_cap_per_cycle = (\n",
    "    df_selected_cell_without_labels\n",
    "        .groupby([\"cycle_index\"])[\"discharge_capacity\"].max())\n",
    "max_cap_per_cycle.name = \"max_discharge_capacity\"\n",
    "\n",
    "unique_cycle_index = (\n",
    "    df_selected_cell_without_labels[\"cycle_index\"].unique())"
   ]
  },
  {
   "cell_type": "code",
   "execution_count": 10,
   "id": "4840651a-0b97-41dc-a4a2-4add45cb654c",
   "metadata": {},
   "outputs": [
    {
     "data": {
      "image/png": "[encoded data removed]",
      "text/plain": [
       "<Figure size 1000x600 with 2 Axes>"
      ]
     },
     "metadata": {},
     "output_type": "display_data"
    }
   ],
   "source": [
    "axplot = bviz.plot_cycle_data(\n",
    "    xseries=unique_cycle_index,\n",
    "    yseries=max_cap_per_cycle,\n",
    "    cycle_index_series=unique_cycle_index)\n",
    "\n",
    "axplot.set_xlabel(\n",
    "    r\"Cycle index\",\n",
    "    fontsize=14)\n",
    "axplot.set_ylabel(\n",
    "    r\"Maximum discharge capacity [mAh/g]\",\n",
    "    fontsize=14)\n",
    "\n",
    "axplot.set_title(\n",
    "    f\"Cell-{cell_num}\",\n",
    "    fontsize=16)\n",
    "\n",
    "output_fig_filename = (\n",
    "    \"cycling_data_without_labels_\"\n",
    "    + selected_cell_label\n",
    "    + \".png\")\n",
    "\n",
    "fig_output_path = (\n",
    "    selected_cell_artifacts_dir\n",
    "    .joinpath(output_fig_filename))\n",
    "\n",
    "plt.savefig(\n",
    "    fig_output_path,\n",
    "    dpi=600,\n",
    "    bbox_inches=\"tight\")\n",
    "\n",
    "plt.show()"
   ]
  },
  {
   "cell_type": "markdown",
   "id": "d6bad181-50a5-41c1-8ccc-ab84daead88d",
   "metadata": {},
   "source": [
    "# Feature transformation\n",
    "\n",
    "In the Tohoku's dataset, we want to track the sudden and unintended capacity drop over the cycle life. Therefore, for this purpose, the features we are using are\n",
    "\n",
    "* Cycle index\n",
    "* Maximum discharge capacity\n",
    "* Normalized Mahalanobis distance"
   ]
  },
  {
   "cell_type": "markdown",
   "id": "7b83cfa1-e41d-4aa7-9146-37796f2317af",
   "metadata": {},
   "source": [
    "## Create Xdata for Mahalanobis distance calculation\n",
    "\n",
    "* The Mahalanobis distance is calculated from both the cycle index as well as the maximum discharge capacity."
   ]
  },
  {
   "cell_type": "code",
   "execution_count": 11,
   "id": "a52577a9-3309-45c3-8baa-77240cce7896",
   "metadata": {},
   "outputs": [],
   "source": [
    "df_cycle_index = pd.Series(\n",
    "    unique_cycle_index,\n",
    "    name=\"cycle_index\")\n",
    "\n",
    "# Input features for Mahalanobis distance\n",
    "df_features_per_cell = pd.concat(\n",
    "    [df_cycle_index,\n",
    "     max_cap_per_cycle],\n",
    "    axis=1)\n",
    "\n",
    "Xfeat = df_features_per_cell.values"
   ]
  },
  {
   "cell_type": "markdown",
   "id": "39f6ae38-662d-4f87-8be3-506864be2647",
   "metadata": {},
   "source": [
    "## Feature: Normalized Mahalanobis distance"
   ]
  },
  {
   "cell_type": "code",
   "execution_count": 12,
   "id": "18ef51bb-8763-4783-ae1e-8e30ee98f4d9",
   "metadata": {},
   "outputs": [],
   "source": [
    "# Calculate Mahalanobis distance based on cycle_index and max_discharge_capacity\n",
    "cov = EmpiricalCovariance().fit(Xfeat)\n",
    "mahal_dist = cov.mahalanobis(Xfeat)\n",
    "\n",
    "df_maha_dist = pd.Series(\n",
    "    mahal_dist,\n",
    "    name=\"mahal_dist\")\n",
    "\n",
    "# Merge calculated mahalanobis distance\n",
    "df_merge_features = pd.concat(\n",
    "    [df_features_per_cell,\n",
    "     df_maha_dist], axis=1)\n",
    "\n",
    "# Calculate maximum mahal_dist to \n",
    "# normalize the distance calculation\n",
    "max_mahal_dist = (\n",
    "    df_merge_features[\"mahal_dist\"].max())\n",
    "\n",
    "df_merge_features[\"norm_mahal_dist\"] = (\n",
    "    df_merge_features[\"mahal_dist\"]/max_mahal_dist)\n",
    "\n",
    "selected_feature_cols = (\n",
    "    \"max_discharge_capacity\",\n",
    "    \"norm_mahal_dist\")"
   ]
  },
  {
   "cell_type": "markdown",
   "id": "e441a211-214c-49c1-b042-c8b1ceefedc3",
   "metadata": {},
   "source": [
    "# Isolation Forest without hyperparameter tuning"
   ]
  },
  {
   "cell_type": "code",
   "execution_count": 13,
   "id": "f52419c8-0ae6-4602-807d-e00f801513c5",
   "metadata": {},
   "outputs": [],
   "source": [
    "# Instantiate ModelRunner with selected features and cell_label\n",
    "runner = ModelRunner(\n",
    "    cell_label=selected_cell_label,\n",
    "    df_input_features=df_merge_features,\n",
    "    selected_feature_cols=selected_feature_cols\n",
    ")"
   ]
  },
  {
   "cell_type": "markdown",
   "id": "e19fc3f1-5997-4244-b810-72ff55956815",
   "metadata": {},
   "source": [
    "## Create Xdata for training"
   ]
  },
  {
   "cell_type": "code",
   "execution_count": 14,
   "id": "9742a745-f3d6-47f5-8cf1-c88c5784f70d",
   "metadata": {},
   "outputs": [],
   "source": [
    "# create Xdata array\n",
    "Xdata = runner.create_model_x_input()"
   ]
  },
  {
   "cell_type": "markdown",
   "id": "7e43a515-a39a-48a5-a905-9271c81225f1",
   "metadata": {},
   "source": [
    "## Fit the model"
   ]
  },
  {
   "cell_type": "code",
   "execution_count": 15,
   "id": "bfc15697-815d-4fd7-87d1-863b1a8b7d53",
   "metadata": {},
   "outputs": [
    {
     "name": "stdout",
     "output_type": "stream",
     "text": [
      "Predicted anomalous cycles:\n",
      "[ 79 429 476]\n",
      "----------------------------------------------------------------------\n",
      "Predicted corresponding outlier score:\n",
      "[0.88774047 1.         0.83187098]\n"
     ]
    }
   ],
   "source": [
    "cfg = hp.MODEL_CONFIG[\"iforest\"]\n",
    "\n",
    "# create model instance without hyperparameter tuning\n",
    "model = cfg.baseline_model_param()\n",
    "model.fit(Xdata)\n",
    "\n",
    "# Predict probabilistic outlier score\n",
    "proba = model.predict_proba(Xdata)\n",
    "\n",
    "# Get predicted outlier cycle and score from \n",
    "# the probabilistic outlier score\n",
    "(pred_outlier_indices,\n",
    " pred_outlier_score) = runner.pred_outlier_indices_from_proba(\n",
    "    proba=proba,\n",
    "    threshold=0.7,\n",
    "    outlier_col=cfg.proba_col\n",
    ")\n",
    "\n",
    "print(\"Predicted anomalous cycles:\")\n",
    "print(pred_outlier_indices)\n",
    "print(\"-\"*70)\n",
    "print(\"Predicted corresponding outlier score:\")\n",
    "print(pred_outlier_score)"
   ]
  },
  {
   "cell_type": "code",
   "execution_count": 16,
   "id": "dc671072-55ba-4c9c-8633-be6e64525539",
   "metadata": {},
   "outputs": [
    {
     "name": "stdout",
     "output_type": "stream",
     "text": [
      "{'behaviour': 'new',\n",
      " 'bootstrap': False,\n",
      " 'contamination': 0.1,\n",
      " 'max_features': 1.0,\n",
      " 'max_samples': 'auto',\n",
      " 'n_estimators': 100,\n",
      " 'n_jobs': -1,\n",
      " 'random_state': 42,\n",
      " 'verbose': 0}\n"
     ]
    }
   ],
   "source": [
    "# Access the default hyperparameters without tuning\n",
    "baseline_model_param = model.get_params()\n",
    "pprint.pp(baseline_model_param)"
   ]
  },
  {
   "cell_type": "markdown",
   "id": "821ea3fd-2efa-41e5-a6c8-29f3126b2b5b",
   "metadata": {},
   "source": [
    "# Probabilistic outliers prediction"
   ]
  },
  {
   "cell_type": "markdown",
   "id": "f8098c49-7904-4906-b9df-8675f7921d8e",
   "metadata": {},
   "source": [
    "## Predict anomalous cycles"
   ]
  },
  {
   "cell_type": "code",
   "execution_count": 17,
   "id": "ecc54115-a780-4c66-a267-26e9958163f9",
   "metadata": {},
   "outputs": [
    {
     "data": {
      "text/html": [
       "<div>\n",
       "<style scoped>\n",
       "    .dataframe tbody tr th:only-of-type {\n",
       "        vertical-align: middle;\n",
       "    }\n",
       "\n",
       "    .dataframe tbody tr th {\n",
       "        vertical-align: top;\n",
       "    }\n",
       "\n",
       "    .dataframe thead th {\n",
       "        text-align: right;\n",
       "    }\n",
       "</style>\n",
       "<table border=\"1\" class=\"dataframe\">\n",
       "  <thead>\n",
       "    <tr style=\"text-align: right;\">\n",
       "      <th></th>\n",
       "      <th>cycle_index</th>\n",
       "      <th>max_discharge_capacity</th>\n",
       "      <th>mahal_dist</th>\n",
       "      <th>norm_mahal_dist</th>\n",
       "      <th>outlier_prob</th>\n",
       "    </tr>\n",
       "  </thead>\n",
       "  <tbody>\n",
       "    <tr>\n",
       "      <th>79</th>\n",
       "      <td>79</td>\n",
       "      <td>56.489555</td>\n",
       "      <td>53.625261</td>\n",
       "      <td>0.349166</td>\n",
       "      <td>0.887740</td>\n",
       "    </tr>\n",
       "    <tr>\n",
       "      <th>429</th>\n",
       "      <td>429</td>\n",
       "      <td>11.293598</td>\n",
       "      <td>153.580929</td>\n",
       "      <td>1.000000</td>\n",
       "      <td>1.000000</td>\n",
       "    </tr>\n",
       "    <tr>\n",
       "      <th>476</th>\n",
       "      <td>476</td>\n",
       "      <td>38.625252</td>\n",
       "      <td>29.740101</td>\n",
       "      <td>0.193644</td>\n",
       "      <td>0.831871</td>\n",
       "    </tr>\n",
       "  </tbody>\n",
       "</table>\n",
       "</div>"
      ]
     },
     "metadata": {},
     "output_type": "display_data"
    }
   ],
   "source": [
    "df_outliers_pred = df_merge_features[\n",
    "    df_merge_features[\"cycle_index\"]\n",
    "    .isin(pred_outlier_indices)].copy()\n",
    "\n",
    "df_outliers_pred[\"outlier_prob\"] = pred_outlier_score\n",
    "df_outliers_pred"
   ]
  },
  {
   "cell_type": "markdown",
   "id": "6b6e8488-dc82-40f0-889f-0d671f1a8ce5",
   "metadata": {},
   "source": [
    "## Probabilistic anomaly score map"
   ]
  },
  {
   "cell_type": "code",
   "execution_count": 18,
   "id": "d921815c-f648-4028-8628-2ae933ece7bd",
   "metadata": {},
   "outputs": [
    {
     "data": {
      "image/png": "[encoded data removed]",
      "text/plain": [
       "<Figure size 800x500 with 2 Axes>"
      ]
     },
     "metadata": {},
     "output_type": "display_data"
    }
   ],
   "source": [
    "axplot = runner.predict_anomaly_score_map(\n",
    "    selected_model=model,\n",
    "    model_name=\"Isolation Forest\",\n",
    "    xoutliers=df_outliers_pred[\"max_discharge_capacity\"],\n",
    "    youtliers=df_outliers_pred[\"norm_mahal_dist\"],\n",
    "    pred_outliers_index=pred_outlier_indices,\n",
    "    threshold=0.7,\n",
    "    square_grid=False,\n",
    "    grid_offset=1\n",
    ")\n",
    "\n",
    "axplot.set_xlabel(\n",
    "    r\"Maximum discharge capacity per cycle\",\n",
    "    fontsize=12)\n",
    "axplot.set_ylabel(\n",
    "    r\"Normalized Mahalanobis distance\",\n",
    "    fontsize=12)\n",
    "\n",
    "output_fig_filename = (\n",
    "    \"iforest_\" \n",
    "    + selected_cell_label \n",
    "    + \".png\")\n",
    "\n",
    "fig_output_path = (\n",
    "    selected_cell_artifacts_dir\n",
    "    .joinpath(output_fig_filename))\n",
    "\n",
    "plt.savefig(\n",
    "    fig_output_path,\n",
    "    dpi=600,\n",
    "    bbox_inches=\"tight\")\n",
    "\n",
    "plt.show()"
   ]
  },
  {
   "cell_type": "markdown",
   "id": "beaed71e-f9b4-462e-bb52-368ddb96416b",
   "metadata": {},
   "source": [
    "## Histogram of the anomaly score"
   ]
  },
  {
   "cell_type": "code",
   "execution_count": 19,
   "id": "ba0a348d-e9be-47a0-8670-ccf4fb97b1f8",
   "metadata": {},
   "outputs": [
    {
     "data": {
      "image/png": "[encoded data removed]",
      "text/plain": [
       "<Figure size 1000x600 with 1 Axes>"
      ]
     },
     "metadata": {},
     "output_type": "display_data"
    }
   ],
   "source": [
    "mpl.rcParams.update(mpl.rcParamsDefault)\n",
    "rcParams[\"text.usetex\"] = True\n",
    "\n",
    "outlier_score = model.decision_function(Xdata)\n",
    "\n",
    "fig, ax = plt.subplots(figsize=(10,6))\n",
    "\n",
    "ax.hist(\n",
    "    outlier_score,\n",
    "    color=\"skyblue\",\n",
    "    edgecolor=\"black\",\n",
    "    bins=25)\n",
    "\n",
    "ax.grid(\n",
    "    color=\"grey\",\n",
    "    linestyle=\"-\",\n",
    "    linewidth=0.25,\n",
    "    alpha=0.7)\n",
    "\n",
    "plt.show()"
   ]
  },
  {
   "cell_type": "code",
   "execution_count": 20,
   "id": "033f6ddc-b94d-4c60-be99-51b643558711",
   "metadata": {},
   "outputs": [
    {
     "data": {
      "text/plain": [
       "np.float64(3.176712365382528e-17)"
      ]
     },
     "execution_count": 20,
     "metadata": {},
     "output_type": "execute_result"
    }
   ],
   "source": [
    "# threshold without hyperparameter tuning\n",
    "model.threshold_"
   ]
  },
  {
   "cell_type": "markdown",
   "id": "c2910ae8-acb8-4918-990f-9584fc992207",
   "metadata": {},
   "source": [
    "# Model performance evaluation"
   ]
  },
  {
   "cell_type": "code",
   "execution_count": 21,
   "id": "a978ae9b-75e2-460d-87cb-a794d1b87959",
   "metadata": {},
   "outputs": [
    {
     "data": {
      "text/html": [
       "<div>\n",
       "<style scoped>\n",
       "    .dataframe tbody tr th:only-of-type {\n",
       "        vertical-align: middle;\n",
       "    }\n",
       "\n",
       "    .dataframe tbody tr th {\n",
       "        vertical-align: top;\n",
       "    }\n",
       "\n",
       "    .dataframe thead th {\n",
       "        text-align: right;\n",
       "    }\n",
       "</style>\n",
       "<table border=\"1\" class=\"dataframe\">\n",
       "  <thead>\n",
       "    <tr style=\"text-align: right;\">\n",
       "      <th></th>\n",
       "      <th>cycle_index</th>\n",
       "      <th>true_outlier</th>\n",
       "      <th>pred_outlier</th>\n",
       "    </tr>\n",
       "  </thead>\n",
       "  <tbody>\n",
       "    <tr>\n",
       "      <th>0</th>\n",
       "      <td>0</td>\n",
       "      <td>0</td>\n",
       "      <td>0</td>\n",
       "    </tr>\n",
       "    <tr>\n",
       "      <th>1</th>\n",
       "      <td>1</td>\n",
       "      <td>0</td>\n",
       "      <td>0</td>\n",
       "    </tr>\n",
       "    <tr>\n",
       "      <th>2</th>\n",
       "      <td>2</td>\n",
       "      <td>0</td>\n",
       "      <td>0</td>\n",
       "    </tr>\n",
       "    <tr>\n",
       "      <th>3</th>\n",
       "      <td>3</td>\n",
       "      <td>0</td>\n",
       "      <td>0</td>\n",
       "    </tr>\n",
       "    <tr>\n",
       "      <th>4</th>\n",
       "      <td>4</td>\n",
       "      <td>0</td>\n",
       "      <td>0</td>\n",
       "    </tr>\n",
       "    <tr>\n",
       "      <th>...</th>\n",
       "      <td>...</td>\n",
       "      <td>...</td>\n",
       "      <td>...</td>\n",
       "    </tr>\n",
       "    <tr>\n",
       "      <th>472</th>\n",
       "      <td>472</td>\n",
       "      <td>0</td>\n",
       "      <td>0</td>\n",
       "    </tr>\n",
       "    <tr>\n",
       "      <th>473</th>\n",
       "      <td>473</td>\n",
       "      <td>0</td>\n",
       "      <td>0</td>\n",
       "    </tr>\n",
       "    <tr>\n",
       "      <th>474</th>\n",
       "      <td>474</td>\n",
       "      <td>0</td>\n",
       "      <td>0</td>\n",
       "    </tr>\n",
       "    <tr>\n",
       "      <th>475</th>\n",
       "      <td>475</td>\n",
       "      <td>0</td>\n",
       "      <td>0</td>\n",
       "    </tr>\n",
       "    <tr>\n",
       "      <th>476</th>\n",
       "      <td>476</td>\n",
       "      <td>1</td>\n",
       "      <td>1</td>\n",
       "    </tr>\n",
       "  </tbody>\n",
       "</table>\n",
       "<p>477 rows × 3 columns</p>\n",
       "</div>"
      ]
     },
     "metadata": {},
     "output_type": "display_data"
    }
   ],
   "source": [
    "# Compare predicted probabilistic outliers against true outliers \n",
    "# from the benchamrking dataset\n",
    "df_eval_outlier = modval.evaluate_pred_outliers(\n",
    "    df_benchmark=df_selected_cell,\n",
    "    outlier_cycle_index=pred_outlier_indices)\n",
    "df_eval_outlier"
   ]
  },
  {
   "cell_type": "markdown",
   "id": "699256f8-39eb-4866-b0ab-1c7af40aa444",
   "metadata": {},
   "source": [
    "## Confusion matrix"
   ]
  },
  {
   "cell_type": "code",
   "execution_count": 22,
   "id": "aeea6f10-4ad5-43dc-ae80-1a01a91ad235",
   "metadata": {},
   "outputs": [
    {
     "data": {
      "image/png": "[encoded data removed]",
      "text/plain": [
       "<Figure size 600x400 with 1 Axes>"
      ]
     },
     "metadata": {},
     "output_type": "display_data"
    }
   ],
   "source": [
    "axplot = modval.generate_confusion_matrix(\n",
    "    y_true=df_eval_outlier[\"true_outlier\"],\n",
    "    y_pred=df_eval_outlier[\"pred_outlier\"])\n",
    "\n",
    "axplot.set_title(\n",
    "    \"Isolation Forest\",\n",
    "    fontsize=16)\n",
    "\n",
    "output_fig_filename = (\n",
    "    \"conf_matrix_iforest_\" \n",
    "    + selected_cell_label \n",
    "    + \".png\")\n",
    "\n",
    "fig_output_path = (\n",
    "    selected_cell_artifacts_dir\n",
    "    .joinpath(output_fig_filename))\n",
    "\n",
    "plt.savefig(\n",
    "    fig_output_path,\n",
    "    dpi=600,\n",
    "    bbox_inches=\"tight\")\n",
    "\n",
    "plt.show()"
   ]
  },
  {
   "cell_type": "markdown",
   "id": "65d5f945-dc1b-4f0a-a627-ca49dd3f3ac7",
   "metadata": {},
   "source": [
    "## Evaluation metrics\n",
    "\n",
    "In this study, we use five different metrics to evaluate the model performance:\n",
    "\n",
    "* Accuracy\n",
    "* Precision\n",
    "* Recall\n",
    "* F1-score\n",
    "* Matthew Correlation Coefficient (MCC)\n",
    "\n",
    "$$\n",
    "\\textrm{Accuracy} = \\frac{\\textrm{TP} + \\textrm{TN}}{\\textrm{Total prediction}}\n",
    "$$\n",
    "\n",
    "$$\n",
    "\\textrm{Precision} = \\frac{\\textrm{TP}}{\\textrm{TP + FP}}\n",
    "$$\n",
    "\n",
    "$$\n",
    "\\textrm{Recall} = \\frac{\\textrm{TP}}{\\textrm{TP + FN}}\n",
    "$$\n",
    "\n",
    "$$\n",
    "\\textrm{F1-score} = \\frac{2(\\textrm{Precision}\\times \\textrm{Recall})}{\\textrm{Precision} + \\textrm{Recall}}\n",
    "$$\n",
    "\n",
    "$$\n",
    "\\textrm{MCC} = \\frac{TP \\times TN - FP \\times FN}{\\sqrt{(TP + FP)(TP + FN)(TN + FP)(TN+FN)}}\n",
    "$$\n",
    "\n",
    "$$\n",
    "\\begin{align}\n",
    "\\textrm{TP} &: \\textrm{True Positive} \\\\\n",
    "\\textrm{TN} &: \\textrm{True Negative} \\\\\n",
    "\\textrm{FP} &: \\textrm{False Positive} \\\\\n",
    "\\textrm{FN} &: \\textrm{False Negative} \\\\\n",
    "\\end{align}\n",
    "$$"
   ]
  },
  {
   "cell_type": "code",
   "execution_count": 23,
   "id": "41c1ae70-bac9-47fa-98d3-9d1cee61461a",
   "metadata": {},
   "outputs": [
    {
     "name": "stdout",
     "output_type": "stream",
     "text": [
      "Accuracy: 1.0\n",
      "Precision: 1.0\n",
      "Recall: 1.0\n",
      "F1-score: 1.0\n",
      "MCC-score: 1.0\n",
      "****************************************************************************************************\n"
     ]
    },
    {
     "data": {
      "text/html": [
       "<div>\n",
       "<style scoped>\n",
       "    .dataframe tbody tr th:only-of-type {\n",
       "        vertical-align: middle;\n",
       "    }\n",
       "\n",
       "    .dataframe tbody tr th {\n",
       "        vertical-align: top;\n",
       "    }\n",
       "\n",
       "    .dataframe thead th {\n",
       "        text-align: right;\n",
       "    }\n",
       "</style>\n",
       "<table border=\"1\" class=\"dataframe\">\n",
       "  <thead>\n",
       "    <tr style=\"text-align: right;\">\n",
       "      <th></th>\n",
       "      <th>ml_model</th>\n",
       "      <th>cell_index</th>\n",
       "      <th>accuracy</th>\n",
       "      <th>precision</th>\n",
       "      <th>recall</th>\n",
       "      <th>f1_score</th>\n",
       "      <th>mcc_score</th>\n",
       "    </tr>\n",
       "  </thead>\n",
       "  <tbody>\n",
       "    <tr>\n",
       "      <th>0</th>\n",
       "      <td>iforest</td>\n",
       "      <td>cell_num_1</td>\n",
       "      <td>1.0</td>\n",
       "      <td>1.0</td>\n",
       "      <td>1.0</td>\n",
       "      <td>1.0</td>\n",
       "      <td>1.0</td>\n",
       "    </tr>\n",
       "  </tbody>\n",
       "</table>\n",
       "</div>"
      ]
     },
     "metadata": {},
     "output_type": "display_data"
    }
   ],
   "source": [
    "df_current_eval_metrics = modval.eval_model_performance(\n",
    "    model_name=\"iforest\",\n",
    "    selected_cell_label=selected_cell_label,\n",
    "    df_eval_outliers=df_eval_outlier)\n",
    "\n",
    "df_current_eval_metrics"
   ]
  },
  {
   "cell_type": "code",
   "execution_count": 24,
   "id": "985279e8-1d53-44c6-92dc-eb2bee508be3",
   "metadata": {},
   "outputs": [
    {
     "name": "stdout",
     "output_type": "stream",
     "text": [
      "\u001b[38;21mHave the metrics for iforest on cell cell_num_1 been evaluated before?\n",
      "\u001b[38;21mTrue\n",
      "\u001b[38;21m----------------------------------------------------------------------\n",
      "\u001b[38;21mReplacing existing row for iforest, cell_num_1.\n",
      "\u001b[38;21mMetrics for iforest, cell_num_1 have been replaced in the CSV file.\n"
     ]
    },
    {
     "data": {
      "text/html": [
       "<div>\n",
       "<style scoped>\n",
       "    .dataframe tbody tr th:only-of-type {\n",
       "        vertical-align: middle;\n",
       "    }\n",
       "\n",
       "    .dataframe tbody tr th {\n",
       "        vertical-align: top;\n",
       "    }\n",
       "\n",
       "    .dataframe thead th {\n",
       "        text-align: right;\n",
       "    }\n",
       "</style>\n",
       "<table border=\"1\" class=\"dataframe\">\n",
       "  <thead>\n",
       "    <tr style=\"text-align: right;\">\n",
       "      <th></th>\n",
       "      <th>ml_model</th>\n",
       "      <th>cell_index</th>\n",
       "      <th>accuracy</th>\n",
       "      <th>precision</th>\n",
       "      <th>recall</th>\n",
       "      <th>f1_score</th>\n",
       "      <th>mcc_score</th>\n",
       "    </tr>\n",
       "  </thead>\n",
       "  <tbody>\n",
       "    <tr>\n",
       "      <th>0</th>\n",
       "      <td>iforest</td>\n",
       "      <td>cell_num_1</td>\n",
       "      <td>1.0</td>\n",
       "      <td>1.0</td>\n",
       "      <td>1.0</td>\n",
       "      <td>1.0</td>\n",
       "      <td>1.0</td>\n",
       "    </tr>\n",
       "  </tbody>\n",
       "</table>\n",
       "</div>"
      ]
     },
     "metadata": {},
     "output_type": "display_data"
    }
   ],
   "source": [
    "# Export current metrics to CSV\n",
    "hyperparam_eval_filepath =  Path.cwd().joinpath(\n",
    "    \"eval_metrics_no_hp_tohoku.csv\")\n",
    "\n",
    "hp.export_current_model_metrics(\n",
    "    model_name=\"iforest\",\n",
    "    selected_cell_label=selected_cell_label,\n",
    "    df_current_eval_metrics=df_current_eval_metrics,\n",
    "    export_csv_filepath=hyperparam_eval_filepath,\n",
    "    if_exists=\"replace\")"
   ]
  }
 ],
 "metadata": {
  "kernelspec": {
   "display_name": "Python 3 (ipykernel)",
   "language": "python",
   "name": "python3"
  },
  "language_info": {
   "codemirror_mode": {
    "name": "ipython",
    "version": 3
   },
   "file_extension": ".py",
   "mimetype": "text/x-python",
   "name": "python",
   "nbconvert_exporter": "python",
   "pygments_lexer": "ipython3",
   "version": "3.12.11"
  }
 },
 "nbformat": 4,
 "nbformat_minor": 5
}
