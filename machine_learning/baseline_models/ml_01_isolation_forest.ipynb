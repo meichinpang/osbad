{
 "cells": [
  {
   "cell_type": "markdown",
   "id": "43f0175a-764c-43bd-a905-efaa9b992b49",
   "metadata": {},
   "source": [
    "# Import libraries"
   ]
  },
  {
   "cell_type": "code",
   "execution_count": 1,
   "id": "0586c23d-2f79-47b0-9200-e8bc0ddead2e",
   "metadata": {},
   "outputs": [],
   "source": [
    "%load_ext autoreload\n",
    "%autoreload 2\n",
    "\n",
    "# Standard library\n",
    "from pathlib import Path\n",
    "import pprint\n",
    "\n",
    "# Third-party libraries\n",
    "import duckdb\n",
    "import fireducks.pandas as pd\n",
    "import matplotlib as mpl\n",
    "import matplotlib.pyplot as plt\n",
    "import numpy as np\n",
    "import optuna\n",
    "from matplotlib import rcParams\n",
    "\n",
    "rcParams[\"text.usetex\"] = True\n",
    "\n",
    "# Custom osbad library for anomaly detection\n",
    "import osbad.config as bconf\n",
    "import osbad.hyperparam as hp\n",
    "import osbad.modval as modval\n",
    "import osbad.stats as bstats\n",
    "import osbad.viz as bviz\n",
    "from osbad.database import BenchDB\n",
    "from osbad.scaler import CycleScaling\n",
    "from osbad.model import ModelRunner"
   ]
  },
  {
   "cell_type": "markdown",
   "id": "cd4caff3-f55f-4fc2-9b93-1aa58123de7e",
   "metadata": {},
   "source": [
    "# Import dataset"
   ]
  },
  {
   "cell_type": "markdown",
   "id": "720b7e71-e8e0-4c04-9f5b-a176af57e4e8",
   "metadata": {},
   "source": [
    "## Define filepath here"
   ]
  },
  {
   "cell_type": "code",
   "execution_count": 2,
   "id": "f7422827-9dc9-4d49-80fc-ce318ec03f37",
   "metadata": {},
   "outputs": [],
   "source": [
    "# Define a global variable to save fig output\n",
    "# The definition of PIPELINE_OUTPUT_DIR can be\n",
    "# found in config.py\n",
    "PIPELINE_OUTPUT_DIR = bconf.PIPELINE_OUTPUT_DIR"
   ]
  },
  {
   "cell_type": "code",
   "execution_count": 31,
   "id": "b1a994fe-34a8-48b5-96ea-57b918b4e2b7",
   "metadata": {},
   "outputs": [],
   "source": [
    "# Load only the training dataset\n",
    "db_filepath = str(\n",
    "    Path.cwd()\n",
    "    .parent\n",
    "    .parent\n",
    "    .joinpath(\"database\",\"train_dataset_severson.db\"))"
   ]
  },
  {
   "cell_type": "markdown",
   "id": "a33fe6a4-8263-42ed-abb9-6532fc2dfdf7",
   "metadata": {},
   "source": [
    "## Get the cell inventory of the training dataset"
   ]
  },
  {
   "cell_type": "code",
   "execution_count": 4,
   "id": "77acb416-42ca-4655-a2f7-3d4159506a36",
   "metadata": {},
   "outputs": [
    {
     "name": "stdout",
     "output_type": "stream",
     "text": [
      "Unique cell index: ['2017-05-12_5_4C-50per_3C_CH13' '2017-05-12_5_4C-50per_3C_CH14'\n",
      " '2017-05-12_5_4C-60per_3C_CH15' '2017-05-12_5_4C-60per_3C_CH16'\n",
      " '2017-05-12_5_4C-70per_3C_CH17' '2017-05-12_5_4C-70per_3C_CH18'\n",
      " '2017-05-12_6C-40per_3C_CH25' '2017-05-12_6C-40per_3C_CH26'\n",
      " '2017-05-12_6C-50per_3C_CH27' '2017-05-12_6C-50per_3C_CH28'\n",
      " '2017-05-12_6C-60per_3C_CH29' '2017-05-12_6C-60per_3C_CH30'\n",
      " '2017-05-12_7C-40per_3C_CH37' '2017-05-12_7C-40per_3C_CH38'\n",
      " '2017-05-12_4C-80per_4C_CH5' '2017-05-12_4C-80per_4C_CH6'\n",
      " '2017-05-12_4_4C-80per_4_4C_CH7' '2017-05-12_5_4C-80per_5_4C_CH11'\n",
      " '2017-05-12_5_4C-80per_5_4C_CH12' '2017-05-12_3_6C-80per_3_6C_CH1'\n",
      " '2017-05-12_3_6C-80per_3_6C_CH2' '2017-05-12_3_6C-80per_3_6C_CH3'\n",
      " '2017-05-12_5_4C-40per_3_6C_CH19']\n"
     ]
    }
   ],
   "source": [
    "# Create a DuckDB connection\n",
    "con = duckdb.connect(\n",
    "    db_filepath,\n",
    "    read_only=True)\n",
    "\n",
    "# Load all training dataset from duckdb\n",
    "df_duckdb = con.execute(\n",
    "    \"SELECT * FROM df_train_dataset_sv\").fetchdf()\n",
    "\n",
    "# Get the cell index of training dataset\n",
    "unique_cell_index_train = df_duckdb[\"cell_index\"].unique()\n",
    "print(f\"Unique cell index: {unique_cell_index_train}\")"
   ]
  },
  {
   "cell_type": "markdown",
   "id": "70c4f641-5c91-4037-afbd-51f49f4f0e6d",
   "metadata": {},
   "source": [
    "## Filtered dataset for selected cell only"
   ]
  },
  {
   "cell_type": "code",
   "execution_count": 5,
   "id": "47ae241d-bd81-4f4b-ab4e-746c3fae0f1f",
   "metadata": {},
   "outputs": [],
   "source": [
    "# Get the cell-ID from cell_inventory\n",
    "selected_cell_label = \"2017-05-12_5_4C-70per_3C_CH17\"\n",
    "\n",
    "# Create a subfolder to store fig output\n",
    "# corresponding to each cell-index\n",
    "selected_cell_artifacts_dir = bconf.artifacts_output_dir(\n",
    "    selected_cell_label)"
   ]
  },
  {
   "cell_type": "code",
   "execution_count": 6,
   "id": "0d50e6fb-e8e1-4d27-83ca-c8fd2c01de24",
   "metadata": {},
   "outputs": [
    {
     "data": {
      "text/plain": [
       "array([  0.,  40., 147., 148.])"
      ]
     },
     "execution_count": 6,
     "metadata": {},
     "output_type": "execute_result"
    }
   ],
   "source": [
    "# Filter dataset for specific selected cell only\n",
    "df_selected_cell = df_duckdb[\n",
    "    df_duckdb[\"cell_index\"] == selected_cell_label]\n",
    "\n",
    "# Anomalous cycle has label = 1\n",
    "# Normal cycle has label = 0\n",
    "# true outliers from benchmarking dataset\n",
    "df_true_outlier = df_selected_cell[\n",
    "    df_selected_cell[\"outlier\"] == 1]\n",
    "\n",
    "# Get the cycle index of anomalous cycle\n",
    "# To create plot legend\n",
    "true_outlier_cycle_index = (\n",
    "    df_true_outlier[\"cycle_index\"].unique())\n",
    "true_outlier_cycle_index"
   ]
  },
  {
   "cell_type": "markdown",
   "id": "30c99344-99d9-411e-8ed6-a63fcb12818c",
   "metadata": {},
   "source": [
    "## Drop true labels\n",
    "\n",
    "* Drop true outlier labels (denoted as ``outlier``) from the dataframe and select only relevant features for ML:\n",
    "  * ``cell_index``: The cell-ID for data and model versioning purposes;\n",
    "  * ``cycle_index``: The cycle number of each cell;\n",
    "  * ``discharge_capacity``: Discharge capacity of the cell;\n",
    "  * ``voltage``: Discharge voltage of the cell."
   ]
  },
  {
   "cell_type": "code",
   "execution_count": 7,
   "id": "09425715-a3aa-4701-96a9-c08ec587280d",
   "metadata": {},
   "outputs": [
    {
     "name": "stdout",
     "output_type": "stream",
     "text": [
      "Database is found in the given filepath.\n",
      "Loading benchmarking dataset now...\n",
      "****************************************************************************************************\n",
      "|    | cell_index                    |   cycle_index |   discharge_capacity |   voltage |\n",
      "|---:|:------------------------------|--------------:|---------------------:|----------:|\n",
      "|  0 | 2017-05-12_5_4C-70per_3C_CH17 |             0 |          1.26512e-05 |   3.29189 |\n",
      "|  1 | 2017-05-12_5_4C-70per_3C_CH17 |             0 |          0.00136774  |   3.28185 |\n",
      "|  2 | 2017-05-12_5_4C-70per_3C_CH17 |             0 |          0.00292998  |   3.27788 |\n",
      "|  3 | 2017-05-12_5_4C-70per_3C_CH17 |             0 |          0.00449361  |   3.27513 |\n",
      "|  4 | 2017-05-12_5_4C-70per_3C_CH17 |             0 |          0.00449361  |   3.27513 |\n",
      "|  5 | 2017-05-12_5_4C-70per_3C_CH17 |             0 |          0.00605927  |   3.27299 |\n",
      "|  6 | 2017-05-12_5_4C-70per_3C_CH17 |             0 |          0.00762155  |   3.27124 |\n",
      "|  7 | 2017-05-12_5_4C-70per_3C_CH17 |             0 |          0.0091859   |   3.2703  |\n",
      "|  8 | 2017-05-12_5_4C-70per_3C_CH17 |             0 |          0.0107469   |   3.26875 |\n",
      "|  9 | 2017-05-12_5_4C-70per_3C_CH17 |             0 |          0.0123127   |   3.26787 |\n",
      "****************************************************************************************************\n",
      "True outlier cycle index:\n",
      "[  0.  40. 147. 148.]\n"
     ]
    }
   ],
   "source": [
    "# Import the BenchDB class\n",
    "# Load only the dataset based on the selected cell\n",
    "benchdb = BenchDB(\n",
    "    db_filepath,\n",
    "    selected_cell_label)\n",
    "\n",
    "# load the benchmarking dataset\n",
    "df_selected_cell = benchdb.load_benchmark_dataset(\n",
    "    dataset_type=\"train\")\n",
    "\n",
    "if df_selected_cell is not None:\n",
    "\n",
    "    filter_col = [\n",
    "        \"cell_index\",\n",
    "        \"cycle_index\",\n",
    "        \"discharge_capacity\",\n",
    "        \"voltage\"]\n",
    "\n",
    "    # Drop true labels from the benchmarking dataset\n",
    "    # and filter for selected columns only\n",
    "    df_selected_cell_without_labels = benchdb.drop_labels(\n",
    "        df_selected_cell,\n",
    "        filter_col)\n",
    "\n",
    "    # print a subset of the dataframe\n",
    "    # for diagnostics running in terminals\n",
    "    print(df_selected_cell_without_labels.head(10).to_markdown())\n",
    "    print(\"*\"*100)\n",
    "\n",
    "    # Extract true outliers cycle index from benchmarking dataset\n",
    "    true_outlier_cycle_index = benchdb.get_true_outlier_cycle_index(\n",
    "        df_selected_cell)\n",
    "    print(f\"True outlier cycle index:\")\n",
    "    print(true_outlier_cycle_index)"
   ]
  },
  {
   "cell_type": "markdown",
   "id": "583d793f-b856-444c-af25-b6e42d215e81",
   "metadata": {},
   "source": [
    "## Plot cycling data with true labels"
   ]
  },
  {
   "cell_type": "code",
   "execution_count": 8,
   "id": "0d1fe1ea-9cc8-4eb8-b01f-d082b048247b",
   "metadata": {},
   "outputs": [
    {
     "data": {
      "image/png": "[encoded data removed]",
      "text/plain": [
       "<Figure size 1000x600 with 2 Axes>"
      ]
     },
     "metadata": {},
     "output_type": "display_data"
    }
   ],
   "source": [
    "# Plot cell data with true anomalies\n",
    "# If the true outlier cycle index is not known,\n",
    "# cycling data will be plotted without labels\n",
    "benchdb.plot_cycle_data(\n",
    "    df_selected_cell_without_labels,\n",
    "    true_outlier_cycle_index)"
   ]
  },
  {
   "cell_type": "markdown",
   "id": "37ce01fd-ff6c-4df4-87c5-4238fbaf97f2",
   "metadata": {},
   "source": [
    "# Statistical Feature Transformation\n",
    "\n",
    "To help with the separation of abnormal cycles from normal cycles, we propose a new statistical feature transformation method using the median and IQR of the input features:  \n",
    "\n",
    "$$\n",
    "\\begin{equation}\n",
    "x_\\textrm{scaled} = x_i - \\left[\\frac{\\textrm{median}(X)^{2}}{\\textrm{IQR}(X)}\\right],\n",
    "\\end{equation} \n",
    "$$\n",
    "\n",
    "where the IQR can be calculated from the third ($75^\\textrm{th}$ percentile) and first quartile ($25^\\textrm{th}$ percentile) of the input vector ($\\textrm{IQR}(X) = Q_3(X) - Q_1(X)$). Here, we use $\\textrm{median}(X)^2$ to preserve the physical unit of the original feature after feature transformation. Feature scaling is implemented on both the capacity and voltage data.\n",
    "\n",
    "## Capacity scaling"
   ]
  },
  {
   "cell_type": "code",
   "execution_count": 9,
   "id": "9194435e-3663-4003-84b9-26262d743bed",
   "metadata": {},
   "outputs": [
    {
     "data": {
      "image/png": "[encoded data removed]",
      "text/plain": [
       "<Figure size 640x480 with 2 Axes>"
      ]
     },
     "metadata": {},
     "output_type": "display_data"
    },
    {
     "name": "stdout",
     "output_type": "stream",
     "text": [
      "count    313326.000000\n",
      "mean         -0.349626\n",
      "std           0.414280\n",
      "min          -2.933561\n",
      "25%          -0.677412\n",
      "50%          -0.226724\n",
      "75%           0.005721\n",
      "max           0.844670\n",
      "Name: scaled_discharge_capacity, dtype: float64\n",
      "**********************************************************************\n"
     ]
    },
    {
     "data": {
      "text/plain": [
       "0        -0.828787\n",
       "1        -0.827432\n",
       "2        -0.825870\n",
       "3        -0.824306\n",
       "4        -0.824306\n",
       "            ...   \n",
       "301553   -0.145985\n",
       "301554   -0.145915\n",
       "301555   -0.145915\n",
       "301556   -0.145867\n",
       "301557   -0.145867\n",
       "Name: scaled_discharge_capacity, Length: 313326, dtype: float64"
      ]
     },
     "execution_count": 9,
     "metadata": {},
     "output_type": "execute_result"
    }
   ],
   "source": [
    "# Instantiate the CycleScaling class\n",
    "scaler = CycleScaling(\n",
    "    df_selected_cell=df_selected_cell_without_labels)\n",
    "\n",
    "# Implement median IQR scaling on the discharge capacity data\n",
    "df_capacity_med_scaled = scaler.median_IQR_scaling(\n",
    "    variable=\"discharge_capacity\",\n",
    "    validate=True)\n",
    "\n",
    "# Plot the histogram and boxplot of the scaled data\n",
    "ax_hist = bviz.hist_boxplot(\n",
    "    df_var=df_capacity_med_scaled[\"scaled_discharge_capacity\"])\n",
    "\n",
    "ax_hist.set_xlabel(\n",
    "    r\"Discharge capacity, $Q_\\textrm{dis}$ [Ah]\",\n",
    "    fontsize=12)\n",
    "ax_hist.set_ylabel(\n",
    "    r\"Count\",\n",
    "    fontsize=12)\n",
    "\n",
    "output_fig_filename = (\n",
    "    \"cap_scaling_\" \n",
    "    + selected_cell_label \n",
    "    + \".png\")\n",
    "\n",
    "fig_output_path = (\n",
    "    selected_cell_artifacts_dir\n",
    "    .joinpath(output_fig_filename))\n",
    "\n",
    "plt.savefig(\n",
    "    fig_output_path,\n",
    "    dpi=600,\n",
    "    bbox_inches=\"tight\")\n",
    "\n",
    "plt.show()\n",
    "\n",
    "# Print the summary statistics of the scaled capacity data\n",
    "print(df_capacity_med_scaled[\"scaled_discharge_capacity\"].describe())\n",
    "print(\"*\"*70)\n",
    "\n",
    "df_capacity_med_scaled[\"scaled_discharge_capacity\"]"
   ]
  },
  {
   "cell_type": "markdown",
   "id": "79a28136-34b8-460d-83a9-0a23c145d5c8",
   "metadata": {},
   "source": [
    "## Voltage scaling"
   ]
  },
  {
   "cell_type": "code",
   "execution_count": 10,
   "id": "f9e5960b-3b39-4541-abb3-e308f3eb9ef4",
   "metadata": {},
   "outputs": [
    {
     "data": {
      "image/png": "[encoded data removed]",
      "text/plain": [
       "<Figure size 640x480 with 2 Axes>"
      ]
     },
     "metadata": {},
     "output_type": "display_data"
    },
    {
     "name": "stdout",
     "output_type": "stream",
     "text": [
      "count    313326.000000\n",
      "mean         -6.557421\n",
      "std           7.159671\n",
      "min         -45.644671\n",
      "25%          -5.844655\n",
      "50%          -5.215267\n",
      "75%          -4.672330\n",
      "max          -2.395836\n",
      "Name: scaled_voltage, dtype: float64\n",
      "**********************************************************************\n"
     ]
    },
    {
     "data": {
      "text/plain": [
       "0        -12.262836\n",
       "1        -12.272870\n",
       "2        -12.276842\n",
       "3        -12.279593\n",
       "4        -12.279593\n",
       "            ...    \n",
       "301553    -4.257652\n",
       "301554    -4.257553\n",
       "301555    -4.257553\n",
       "301556    -4.257912\n",
       "301557    -4.254364\n",
       "Name: scaled_voltage, Length: 313326, dtype: float64"
      ]
     },
     "execution_count": 10,
     "metadata": {},
     "output_type": "execute_result"
    }
   ],
   "source": [
    "# Implement median IQR scaling on the discharge voltage data\n",
    "df_voltage_med_scaled = scaler.median_IQR_scaling(\n",
    "    variable=\"voltage\",\n",
    "    validate=True)\n",
    "\n",
    "# Plot the histogram and boxplot of the scaled data\n",
    "ax_hist = bviz.hist_boxplot(\n",
    "    df_var=df_voltage_med_scaled[\"scaled_voltage\"])\n",
    "\n",
    "ax_hist.set_xlabel(\n",
    "    r\"Scaled voltage, $V_\\textrm{dis}$ [V]\",\n",
    "    fontsize=12)\n",
    "ax_hist.set_ylabel(\n",
    "    r\"Count\",\n",
    "    fontsize=12)\n",
    "\n",
    "output_fig_filename = (\n",
    "    \"voltage_scaling_\" \n",
    "    + selected_cell_label \n",
    "    + \".png\")\n",
    "\n",
    "fig_output_path = (\n",
    "    selected_cell_artifacts_dir\n",
    "    .joinpath(output_fig_filename))\n",
    "\n",
    "plt.savefig(\n",
    "    fig_output_path,\n",
    "    dpi=600,\n",
    "    bbox_inches=\"tight\")\n",
    "\n",
    "plt.show()\n",
    "\n",
    "# Print the summary statistics of the scaled capacity data\n",
    "print(df_voltage_med_scaled[\"scaled_voltage\"].describe())\n",
    "print(\"*\"*70)\n",
    "df_voltage_med_scaled[\"scaled_voltage\"]"
   ]
  },
  {
   "cell_type": "markdown",
   "id": "cf472bbe-4b7d-45c7-bfad-b107719f2486",
   "metadata": {},
   "source": [
    "## Scatter histogram\n",
    "\n",
    "* Create scatterplot with histogram to display the distribution for x-axis and y-axis:\n",
    "  * The salmon color corresponds to x-axis (``scaled_capacity``)\n",
    "  * The grey color corresponds to y-axis (``scaled_voltage``)"
   ]
  },
  {
   "cell_type": "code",
   "execution_count": 11,
   "id": "17edaaee-53a8-4152-a744-2c79d7657735",
   "metadata": {},
   "outputs": [
    {
     "data": {
      "image/png": "[encoded data removed]",
      "text/plain": [
       "<Figure size 700x700 with 3 Axes>"
      ]
     },
     "metadata": {},
     "output_type": "display_data"
    }
   ],
   "source": [
    "axplot = bviz.scatterhist(\n",
    "    xseries=df_selected_cell_without_labels[\"discharge_capacity\"],\n",
    "    yseries=df_selected_cell_without_labels[\"voltage\"],\n",
    "    cycle_index_series=df_selected_cell_without_labels[\"cycle_index\"])\n",
    "\n",
    "axplot.set_xlabel(\n",
    "    r\"Capacity, $Q_\\textrm{dis}$ [Ah]\",\n",
    "    fontsize=12)\n",
    "axplot.set_ylabel(\n",
    "    r\"Voltage, $V_\\textrm{dis}$ [V]\",\n",
    "    fontsize=12)\n",
    "\n",
    "output_fig_filename = (\n",
    "    \"scatterhist_no_scaling_\" \n",
    "    + selected_cell_label \n",
    "    + \".png\")\n",
    "\n",
    "fig_output_path = (\n",
    "    selected_cell_artifacts_dir\n",
    "    .joinpath(output_fig_filename))\n",
    "\n",
    "plt.savefig(\n",
    "    fig_output_path,\n",
    "    dpi=600,\n",
    "    bbox_inches=\"tight\")\n",
    "\n",
    "plt.show()"
   ]
  },
  {
   "cell_type": "code",
   "execution_count": 12,
   "id": "0fa8de57-3d61-4092-a853-6859791d4fd8",
   "metadata": {},
   "outputs": [
    {
     "data": {
      "image/png": "[encoded data removed]",
      "text/plain": [
       "<Figure size 700x700 with 3 Axes>"
      ]
     },
     "metadata": {},
     "output_type": "display_data"
    }
   ],
   "source": [
    "axplot = bviz.scatterhist(\n",
    "    xseries=df_capacity_med_scaled[\"scaled_discharge_capacity\"],\n",
    "    yseries=df_voltage_med_scaled[\"scaled_voltage\"],\n",
    "    cycle_index_series=df_selected_cell_without_labels[\"cycle_index\"])\n",
    "\n",
    "axplot.set_xlabel(\n",
    "    r\"Scaled capacity, $Q_\\textrm{dis}$ [Ah]\",\n",
    "    fontsize=12)\n",
    "axplot.set_ylabel(\n",
    "    r\"Scaled voltage, $V_\\textrm{dis}$ [V]\",\n",
    "    fontsize=12)\n",
    "\n",
    "output_fig_filename = (\n",
    "    \"scatterhist_with_scaling_\" \n",
    "    + selected_cell_label \n",
    "    + \".png\")\n",
    "\n",
    "fig_output_path = (\n",
    "    selected_cell_artifacts_dir\n",
    "    .joinpath(output_fig_filename))\n",
    "\n",
    "plt.savefig(\n",
    "    fig_output_path,\n",
    "    dpi=600,\n",
    "    bbox_inches=\"tight\")\n",
    "\n",
    "plt.show()"
   ]
  },
  {
   "cell_type": "markdown",
   "id": "3435067a-d959-49c3-887a-3f984b710d50",
   "metadata": {},
   "source": [
    "# Physics-informed Feature Extraction\n",
    "\n",
    "* As the anomalies in this dataset are collective due to a continuous series of abnormal voltage and current measurements, we can transform the collective anomalies of a given cycle into cycle-wise point anomalies.\n",
    "* If continuous abnormal voltage and current measurements are recorded in a cycle, the specific cycle will be labelled as anomalous cycle.\n",
    "\n",
    "$$\n",
    "\\begin{align}\n",
    "\\Delta Q_\\textrm{scaled,max,cyc} &= \\underset{\\textrm{cyc}}{\\max}(Q_{\\textrm{scaled},{k+1}} - Q_{\\textrm{scaled},{k}}), \\\\\n",
    "\\Delta V_\\textrm{scaled,max,cyc} &= \\underset{\\textrm{cyc}}{\\max}(V_{\\textrm{scaled},{k+1}} - V_{\\textrm{scaled},{k}}),\n",
    "\\end{align} \n",
    "$$\n",
    "\n",
    "where $\\Delta V_\\textrm{scaled,max,cyc}$ is the maximum scaled voltage difference per cycle and $\\Delta Q_\\textrm{scaled,max,cyc}$ is the maximum scaled capacity difference per cycle. $k$ in these equations denote the index of each recorded data point. "
   ]
  },
  {
   "cell_type": "markdown",
   "id": "587d4c43-cc1d-45be-83c4-89cec31868c0",
   "metadata": {},
   "source": [
    "## Feature max dQ"
   ]
  },
  {
   "cell_type": "code",
   "execution_count": 13,
   "id": "e9967ed3-ceab-4068-af40-363d56479116",
   "metadata": {},
   "outputs": [
    {
     "data": {
      "text/html": [
       "<div>\n",
       "<style scoped>\n",
       "    .dataframe tbody tr th:only-of-type {\n",
       "        vertical-align: middle;\n",
       "    }\n",
       "\n",
       "    .dataframe tbody tr th {\n",
       "        vertical-align: top;\n",
       "    }\n",
       "\n",
       "    .dataframe thead th {\n",
       "        text-align: right;\n",
       "    }\n",
       "</style>\n",
       "<table border=\"1\" class=\"dataframe\">\n",
       "  <thead>\n",
       "    <tr style=\"text-align: right;\">\n",
       "      <th></th>\n",
       "      <th>max_diff_dQ</th>\n",
       "      <th>log_max_diff_dQ</th>\n",
       "      <th>cycle_index</th>\n",
       "    </tr>\n",
       "  </thead>\n",
       "  <tbody>\n",
       "    <tr>\n",
       "      <th>0</th>\n",
       "      <td>0.006388</td>\n",
       "      <td>-5.053343</td>\n",
       "      <td>0.0</td>\n",
       "    </tr>\n",
       "    <tr>\n",
       "      <th>1</th>\n",
       "      <td>0.006338</td>\n",
       "      <td>-5.061258</td>\n",
       "      <td>1.0</td>\n",
       "    </tr>\n",
       "    <tr>\n",
       "      <th>2</th>\n",
       "      <td>0.006321</td>\n",
       "      <td>-5.063922</td>\n",
       "      <td>2.0</td>\n",
       "    </tr>\n",
       "    <tr>\n",
       "      <th>3</th>\n",
       "      <td>0.006259</td>\n",
       "      <td>-5.073756</td>\n",
       "      <td>3.0</td>\n",
       "    </tr>\n",
       "    <tr>\n",
       "      <th>4</th>\n",
       "      <td>0.006236</td>\n",
       "      <td>-5.077346</td>\n",
       "      <td>4.0</td>\n",
       "    </tr>\n",
       "    <tr>\n",
       "      <th>...</th>\n",
       "      <td>...</td>\n",
       "      <td>...</td>\n",
       "      <td>...</td>\n",
       "    </tr>\n",
       "    <tr>\n",
       "      <th>687</th>\n",
       "      <td>0.006236</td>\n",
       "      <td>-5.077391</td>\n",
       "      <td>687.0</td>\n",
       "    </tr>\n",
       "    <tr>\n",
       "      <th>688</th>\n",
       "      <td>0.006281</td>\n",
       "      <td>-5.070178</td>\n",
       "      <td>688.0</td>\n",
       "    </tr>\n",
       "    <tr>\n",
       "      <th>689</th>\n",
       "      <td>0.006243</td>\n",
       "      <td>-5.076238</td>\n",
       "      <td>689.0</td>\n",
       "    </tr>\n",
       "    <tr>\n",
       "      <th>690</th>\n",
       "      <td>0.006316</td>\n",
       "      <td>-5.064619</td>\n",
       "      <td>690.0</td>\n",
       "    </tr>\n",
       "    <tr>\n",
       "      <th>691</th>\n",
       "      <td>0.006402</td>\n",
       "      <td>-5.051123</td>\n",
       "      <td>691.0</td>\n",
       "    </tr>\n",
       "  </tbody>\n",
       "</table>\n",
       "<p>692 rows x 3 columns</p>\n",
       "</div>"
      ]
     },
     "metadata": {},
     "output_type": "display_data"
    }
   ],
   "source": [
    "# maximum scaled capacity difference per cycle\n",
    "df_max_dQ = scaler.calculate_max_diff_per_cycle(\n",
    "    df_scaled=df_capacity_med_scaled,\n",
    "    variable_name=\"scaled_discharge_capacity\")\n",
    "\n",
    "# Don't use the natural index of the \n",
    "# dataframe as the cycle index\n",
    "# Create an additional column for the cycle_index\n",
    "# so that we can keep track of the true cycle_index \n",
    "# even after removing some anomalous cycle from the df\n",
    "\n",
    "# Update the column name to include dQ into the name\n",
    "# so that when the features are merged together later\n",
    "# we can track the origins of the feature\n",
    "df_max_dQ.columns = [\n",
    "    \"max_diff_dQ\",\n",
    "    \"log_max_diff_dQ\",\n",
    "    \"cycle_index\"]\n",
    "\n",
    "df_max_dQ"
   ]
  },
  {
   "cell_type": "markdown",
   "id": "b3ad03d1-e7d1-458a-bab7-1414264acb9e",
   "metadata": {},
   "source": [
    "## Feature max dV"
   ]
  },
  {
   "cell_type": "code",
   "execution_count": 14,
   "id": "c1287516-488d-42a5-a686-87c6fcb76ae1",
   "metadata": {},
   "outputs": [
    {
     "data": {
      "text/html": [
       "<div>\n",
       "<style scoped>\n",
       "    .dataframe tbody tr th:only-of-type {\n",
       "        vertical-align: middle;\n",
       "    }\n",
       "\n",
       "    .dataframe tbody tr th {\n",
       "        vertical-align: top;\n",
       "    }\n",
       "\n",
       "    .dataframe thead th {\n",
       "        text-align: right;\n",
       "    }\n",
       "</style>\n",
       "<table border=\"1\" class=\"dataframe\">\n",
       "  <thead>\n",
       "    <tr style=\"text-align: right;\">\n",
       "      <th></th>\n",
       "      <th>max_diff_dV</th>\n",
       "      <th>log_max_diff_dV</th>\n",
       "      <th>cycle_index</th>\n",
       "    </tr>\n",
       "  </thead>\n",
       "  <tbody>\n",
       "    <tr>\n",
       "      <th>0</th>\n",
       "      <td>1.564151</td>\n",
       "      <td>0.447343</td>\n",
       "      <td>0.0</td>\n",
       "    </tr>\n",
       "    <tr>\n",
       "      <th>1</th>\n",
       "      <td>0.023727</td>\n",
       "      <td>-3.741163</td>\n",
       "      <td>1.0</td>\n",
       "    </tr>\n",
       "    <tr>\n",
       "      <th>2</th>\n",
       "      <td>0.022684</td>\n",
       "      <td>-3.786091</td>\n",
       "      <td>2.0</td>\n",
       "    </tr>\n",
       "    <tr>\n",
       "      <th>3</th>\n",
       "      <td>0.027899</td>\n",
       "      <td>-3.579172</td>\n",
       "      <td>3.0</td>\n",
       "    </tr>\n",
       "    <tr>\n",
       "      <th>4</th>\n",
       "      <td>0.026408</td>\n",
       "      <td>-3.634081</td>\n",
       "      <td>4.0</td>\n",
       "    </tr>\n",
       "    <tr>\n",
       "      <th>...</th>\n",
       "      <td>...</td>\n",
       "      <td>...</td>\n",
       "      <td>...</td>\n",
       "    </tr>\n",
       "    <tr>\n",
       "      <th>687</th>\n",
       "      <td>0.046420</td>\n",
       "      <td>-3.070023</td>\n",
       "      <td>687.0</td>\n",
       "    </tr>\n",
       "    <tr>\n",
       "      <th>688</th>\n",
       "      <td>0.051542</td>\n",
       "      <td>-2.965352</td>\n",
       "      <td>688.0</td>\n",
       "    </tr>\n",
       "    <tr>\n",
       "      <th>689</th>\n",
       "      <td>0.047776</td>\n",
       "      <td>-3.041228</td>\n",
       "      <td>689.0</td>\n",
       "    </tr>\n",
       "    <tr>\n",
       "      <th>690</th>\n",
       "      <td>0.046331</td>\n",
       "      <td>-3.071935</td>\n",
       "      <td>690.0</td>\n",
       "    </tr>\n",
       "    <tr>\n",
       "      <th>691</th>\n",
       "      <td>0.047873</td>\n",
       "      <td>-3.039193</td>\n",
       "      <td>691.0</td>\n",
       "    </tr>\n",
       "  </tbody>\n",
       "</table>\n",
       "<p>692 rows x 3 columns</p>\n",
       "</div>"
      ]
     },
     "metadata": {},
     "output_type": "display_data"
    }
   ],
   "source": [
    "# maximum scaled voltage difference per cycle\n",
    "df_max_dV = scaler.calculate_max_diff_per_cycle(\n",
    "    df_scaled=df_voltage_med_scaled,\n",
    "    variable_name=\"scaled_voltage\")\n",
    "\n",
    "# Update the column name to include dV into the name\n",
    "# so that when the features are merged together later\n",
    "# we can track the origins of the feature\n",
    "# The cycle index remains the same for both \n",
    "# dV and dQ features\n",
    "df_max_dV.columns = [\n",
    "    \"max_diff_dV\",\n",
    "    \"log_max_diff_dV\",\n",
    "    \"cycle_index\"]\n",
    "\n",
    "df_max_dV"
   ]
  },
  {
   "cell_type": "markdown",
   "id": "19e256fa-97b6-411a-81d4-411acb02e7be",
   "metadata": {},
   "source": [
    "## Bubble plot"
   ]
  },
  {
   "cell_type": "code",
   "execution_count": 15,
   "id": "322a7205-d234-4050-9331-803d84c729b3",
   "metadata": {},
   "outputs": [
    {
     "name": "stdout",
     "output_type": "stream",
     "text": [
      "Feature mean: 0.00641125672398844\n",
      "Feature max: 0.042899057000000074\n",
      "Feature min: 0.006194469999999952\n",
      "Feature std: 0.0019646872892444154\n",
      "**********************************************************************\n",
      "Feature mean: 0.04105323627167629\n",
      "Feature max: 2.612268400000005\n",
      "Feature min: 0.022684100000000207\n",
      "Feature std: 0.11397361246602544\n",
      "**********************************************************************\n"
     ]
    }
   ],
   "source": [
    "# Calculate the bubble size ratio for plotting\n",
    "df_bubble_size_dQ = bstats.calculate_bubble_size_ratio(\n",
    "    df_variable=df_max_dQ[\"max_diff_dQ\"])\n",
    "\n",
    "df_bubble_size_dV = bstats.calculate_bubble_size_ratio(\n",
    "    df_variable=df_max_dV[\"max_diff_dV\"])"
   ]
  },
  {
   "cell_type": "markdown",
   "id": "cefd9854-b0b9-443f-92de-b0b00b9921e3",
   "metadata": {},
   "source": [
    "## Merge features"
   ]
  },
  {
   "cell_type": "code",
   "execution_count": 16,
   "id": "e10cde4c-f5f9-440d-a18e-5940a1a6a197",
   "metadata": {},
   "outputs": [
    {
     "data": {
      "text/html": [
       "<div>\n",
       "<style scoped>\n",
       "    .dataframe tbody tr th:only-of-type {\n",
       "        vertical-align: middle;\n",
       "    }\n",
       "\n",
       "    .dataframe tbody tr th {\n",
       "        vertical-align: top;\n",
       "    }\n",
       "\n",
       "    .dataframe thead th {\n",
       "        text-align: right;\n",
       "    }\n",
       "</style>\n",
       "<table border=\"1\" class=\"dataframe\">\n",
       "  <thead>\n",
       "    <tr style=\"text-align: right;\">\n",
       "      <th></th>\n",
       "      <th>max_diff_dV</th>\n",
       "      <th>log_max_diff_dV</th>\n",
       "      <th>cycle_index</th>\n",
       "      <th>max_diff_dQ</th>\n",
       "      <th>log_max_diff_dQ</th>\n",
       "    </tr>\n",
       "  </thead>\n",
       "  <tbody>\n",
       "    <tr>\n",
       "      <th>0</th>\n",
       "      <td>1.564151</td>\n",
       "      <td>0.447343</td>\n",
       "      <td>0.0</td>\n",
       "      <td>0.006388</td>\n",
       "      <td>-5.053343</td>\n",
       "    </tr>\n",
       "    <tr>\n",
       "      <th>1</th>\n",
       "      <td>0.023727</td>\n",
       "      <td>-3.741163</td>\n",
       "      <td>1.0</td>\n",
       "      <td>0.006338</td>\n",
       "      <td>-5.061258</td>\n",
       "    </tr>\n",
       "    <tr>\n",
       "      <th>2</th>\n",
       "      <td>0.022684</td>\n",
       "      <td>-3.786091</td>\n",
       "      <td>2.0</td>\n",
       "      <td>0.006321</td>\n",
       "      <td>-5.063922</td>\n",
       "    </tr>\n",
       "    <tr>\n",
       "      <th>3</th>\n",
       "      <td>0.027899</td>\n",
       "      <td>-3.579172</td>\n",
       "      <td>3.0</td>\n",
       "      <td>0.006259</td>\n",
       "      <td>-5.073756</td>\n",
       "    </tr>\n",
       "    <tr>\n",
       "      <th>4</th>\n",
       "      <td>0.026408</td>\n",
       "      <td>-3.634081</td>\n",
       "      <td>4.0</td>\n",
       "      <td>0.006236</td>\n",
       "      <td>-5.077346</td>\n",
       "    </tr>\n",
       "    <tr>\n",
       "      <th>...</th>\n",
       "      <td>...</td>\n",
       "      <td>...</td>\n",
       "      <td>...</td>\n",
       "      <td>...</td>\n",
       "      <td>...</td>\n",
       "    </tr>\n",
       "    <tr>\n",
       "      <th>687</th>\n",
       "      <td>0.046420</td>\n",
       "      <td>-3.070023</td>\n",
       "      <td>687.0</td>\n",
       "      <td>0.006236</td>\n",
       "      <td>-5.077391</td>\n",
       "    </tr>\n",
       "    <tr>\n",
       "      <th>688</th>\n",
       "      <td>0.051542</td>\n",
       "      <td>-2.965352</td>\n",
       "      <td>688.0</td>\n",
       "      <td>0.006281</td>\n",
       "      <td>-5.070178</td>\n",
       "    </tr>\n",
       "    <tr>\n",
       "      <th>689</th>\n",
       "      <td>0.047776</td>\n",
       "      <td>-3.041228</td>\n",
       "      <td>689.0</td>\n",
       "      <td>0.006243</td>\n",
       "      <td>-5.076238</td>\n",
       "    </tr>\n",
       "    <tr>\n",
       "      <th>690</th>\n",
       "      <td>0.046331</td>\n",
       "      <td>-3.071935</td>\n",
       "      <td>690.0</td>\n",
       "      <td>0.006316</td>\n",
       "      <td>-5.064619</td>\n",
       "    </tr>\n",
       "    <tr>\n",
       "      <th>691</th>\n",
       "      <td>0.047873</td>\n",
       "      <td>-3.039193</td>\n",
       "      <td>691.0</td>\n",
       "      <td>0.006402</td>\n",
       "      <td>-5.051123</td>\n",
       "    </tr>\n",
       "  </tbody>\n",
       "</table>\n",
       "<p>692 rows x 5 columns</p>\n",
       "</div>"
      ]
     },
     "metadata": {},
     "output_type": "display_data"
    }
   ],
   "source": [
    "# Merge both df_max_dV, df_max_dQ into a df\n",
    "# Remove the duplicated cycle_index column\n",
    "df_merge = pd.concat([df_max_dV, df_max_dQ], axis=1)\n",
    "df_merge_features = df_merge.loc[\n",
    "    :, ~df_merge.columns.duplicated()].copy()\n",
    "\n",
    "df_merge_features"
   ]
  },
  {
   "cell_type": "markdown",
   "id": "6de31199-4c1d-4a2e-9d0e-732bcbb58a23",
   "metadata": {},
   "source": [
    "## Bubble plot without log transformation"
   ]
  },
  {
   "cell_type": "code",
   "execution_count": 17,
   "id": "d599aa4b-3ae1-412b-945f-f32c5a4fe8bd",
   "metadata": {},
   "outputs": [
    {
     "name": "stdout",
     "output_type": "stream",
     "text": [
      "Potential anomalous cycle: 0.0\n",
      "x-position of the text: 0.006387939999999981\n",
      "y-position of the text: 1.5641508000000002\n",
      "----------------------------------------------------------------------\n",
      "Potential anomalous cycle: 40.0\n",
      "x-position of the text: 0.006304919999999825\n",
      "y-position of the text: 2.612268400000005\n",
      "----------------------------------------------------------------------\n",
      "Potential anomalous cycle: 147.0\n",
      "x-position of the text: 0.04281378999999996\n",
      "y-position of the text: 0.029431299999999716\n",
      "----------------------------------------------------------------------\n",
      "Potential anomalous cycle: 148.0\n",
      "x-position of the text: 0.042899057000000074\n",
      "y-position of the text: 0.02523799999999987\n",
      "----------------------------------------------------------------------\n"
     ]
    },
    {
     "data": {
      "image/png": "[encoded data removed]",
      "text/plain": [
       "<Figure size 640x480 with 1 Axes>"
      ]
     },
     "metadata": {},
     "output_type": "display_data"
    }
   ],
   "source": [
    "# Get the cycle count to label the bubbles\n",
    "unique_cycle_count = (df_selected_cell_without_labels[\"cycle_index\"]\n",
    "    .unique())\n",
    "\n",
    "# bubble size for multivariate anomalies\n",
    "bubble_size = (\n",
    "    np.abs(df_bubble_size_dV)\n",
    "    * np.abs(df_bubble_size_dQ))\n",
    "\n",
    "# Plot the bubble chart and label the outliers\n",
    "axplot = bviz.plot_bubble_chart(\n",
    "    xseries=df_merge_features[\"max_diff_dQ\"],\n",
    "    yseries=df_merge_features[\"max_diff_dV\"],\n",
    "    bubble_size=bubble_size,\n",
    "    unique_cycle_count=unique_cycle_count,\n",
    "    cycle_outlier_idx_label=true_outlier_cycle_index)\n",
    "\n",
    "axplot.set_xlabel(\n",
    "    r\"$\\Delta Q_\\textrm{scaled,max,cyc}\\;\\textrm{[Ah]}$\",\n",
    "    fontsize=12)\n",
    "axplot.set_ylabel(\n",
    "    r\"$\\Delta V_\\textrm{scaled,max,cyc}\\;\\textrm{[V]}$\",\n",
    "    fontsize=12)\n",
    "\n",
    "plt.show()"
   ]
  },
  {
   "cell_type": "markdown",
   "id": "4b109337-ce1b-4155-97c3-de80ee1cf625",
   "metadata": {},
   "source": [
    "## Bubble plot with log transformation\n",
    "\n",
    "* Log transformation helps to further separate data points that closely clustered together."
   ]
  },
  {
   "cell_type": "code",
   "execution_count": 18,
   "id": "07efb5bd-4427-4c6c-aa45-5704487340db",
   "metadata": {},
   "outputs": [
    {
     "name": "stdout",
     "output_type": "stream",
     "text": [
      "Potential anomalous cycle: 0.0\n",
      "x-position of the text: -5.053343441284631\n",
      "y-position of the text: 0.44734305691240445\n",
      "----------------------------------------------------------------------\n",
      "Potential anomalous cycle: 40.0\n",
      "x-position of the text: -5.066424997988364\n",
      "y-position of the text: 0.9602189626435208\n",
      "----------------------------------------------------------------------\n",
      "Potential anomalous cycle: 147.0\n",
      "x-position of the text: -3.1508950320267735\n",
      "y-position of the text: -3.5256965450993665\n",
      "----------------------------------------------------------------------\n",
      "Potential anomalous cycle: 148.0\n",
      "x-position of the text: -3.1489054346417387\n",
      "y-position of the text: -3.6794044837514233\n",
      "----------------------------------------------------------------------\n"
     ]
    },
    {
     "data": {
      "image/png": "[encoded data removed]",
      "text/plain": [
       "<Figure size 640x480 with 1 Axes>"
      ]
     },
     "metadata": {},
     "output_type": "display_data"
    }
   ],
   "source": [
    "# Plot the bubble chart and label the outliers\n",
    "axplot = bviz.plot_bubble_chart(\n",
    "    xseries=df_merge_features[\"log_max_diff_dQ\"],\n",
    "    yseries=df_merge_features[\"log_max_diff_dV\"],\n",
    "    bubble_size=bubble_size,\n",
    "    unique_cycle_count=unique_cycle_count,\n",
    "    cycle_outlier_idx_label=true_outlier_cycle_index)\n",
    "\n",
    "axplot.set_title(\n",
    "    f\"Cell {selected_cell_label}\", fontsize=13)\n",
    "\n",
    "axplot.set_xlabel(\n",
    "    r\"$\\log(\\Delta Q_\\textrm{scaled,max,cyc)}\\;\\textrm{[Ah]}$\",\n",
    "    fontsize=12)\n",
    "axplot.set_ylabel(\n",
    "    r\"$\\log(\\Delta V_\\textrm{scaled,max,cyc})\\;\\textrm{[V]}$\",\n",
    "    fontsize=12)\n",
    "\n",
    "output_fig_filename = (\n",
    "    \"multivariate_bubble_plot_\" \n",
    "    + selected_cell_label \n",
    "    + \".png\")\n",
    "\n",
    "fig_output_path = (\n",
    "    selected_cell_artifacts_dir\n",
    "    .joinpath(output_fig_filename))\n",
    "\n",
    "plt.savefig(\n",
    "    fig_output_path,\n",
    "    dpi=600,\n",
    "    bbox_inches=\"tight\")\n",
    "\n",
    "plt.show()"
   ]
  },
  {
   "cell_type": "markdown",
   "id": "e441a211-214c-49c1-b042-c8b1ceefedc3",
   "metadata": {},
   "source": [
    "# Isolation Forest without hyperparameter tuning"
   ]
  },
  {
   "cell_type": "markdown",
   "id": "a0fa1f8d-d636-49ac-b9d0-bd23c17e3f99",
   "metadata": {},
   "source": [
    "## Instantiate ModelRunner for iforest"
   ]
  },
  {
   "cell_type": "code",
   "execution_count": 19,
   "id": "f52419c8-0ae6-4602-807d-e00f801513c5",
   "metadata": {},
   "outputs": [],
   "source": [
    "selected_feature_cols = (\n",
    "    \"log_max_diff_dQ\",\n",
    "    \"log_max_diff_dV\")\n",
    "\n",
    "# Instantiate ModelRunner with selected features and cell_label\n",
    "runner = ModelRunner(\n",
    "    cell_label=selected_cell_label,\n",
    "    df_input_features=df_merge_features,\n",
    "    selected_feature_cols=selected_feature_cols\n",
    ")"
   ]
  },
  {
   "cell_type": "markdown",
   "id": "e19fc3f1-5997-4244-b810-72ff55956815",
   "metadata": {},
   "source": [
    "## Create Xdata for training"
   ]
  },
  {
   "cell_type": "code",
   "execution_count": 20,
   "id": "9742a745-f3d6-47f5-8cf1-c88c5784f70d",
   "metadata": {},
   "outputs": [],
   "source": [
    "# create Xdata array\n",
    "Xdata = runner.create_model_x_input()"
   ]
  },
  {
   "cell_type": "markdown",
   "id": "7e43a515-a39a-48a5-a905-9271c81225f1",
   "metadata": {},
   "source": [
    "## Fit the model"
   ]
  },
  {
   "cell_type": "code",
   "execution_count": 21,
   "id": "bfc15697-815d-4fd7-87d1-863b1a8b7d53",
   "metadata": {},
   "outputs": [
    {
     "name": "stdout",
     "output_type": "stream",
     "text": [
      "Predicted anomalous cycles:\n",
      "[  0  32  40 147 148]\n",
      "----------------------------------------------------------------------\n",
      "Predicted corresponding outlier score:\n",
      "[0.89772302 0.76605547 0.8501317  0.99672885 1.        ]\n"
     ]
    }
   ],
   "source": [
    "cfg = hp.MODEL_CONFIG[\"iforest\"]\n",
    "\n",
    "# create model instance without hyperparameter tuning\n",
    "model = cfg.baseline_model_param()\n",
    "model.fit(Xdata)\n",
    "\n",
    "# Predict probabilistic outlier score\n",
    "proba = model.predict_proba(Xdata)\n",
    "\n",
    "# Get predicted outlier cycle and score from \n",
    "# the probabilistic outlier score\n",
    "(pred_outlier_indices,\n",
    " pred_outlier_score) = runner.pred_outlier_indices_from_proba(\n",
    "    proba=proba,\n",
    "    threshold=0.7,\n",
    "    outlier_col=cfg.proba_col\n",
    ")\n",
    "\n",
    "print(\"Predicted anomalous cycles:\")\n",
    "print(pred_outlier_indices)\n",
    "print(\"-\"*70)\n",
    "print(\"Predicted corresponding outlier score:\")\n",
    "print(pred_outlier_score)"
   ]
  },
  {
   "cell_type": "code",
   "execution_count": 22,
   "id": "dc671072-55ba-4c9c-8633-be6e64525539",
   "metadata": {},
   "outputs": [
    {
     "name": "stdout",
     "output_type": "stream",
     "text": [
      "{'behaviour': 'new',\n",
      " 'bootstrap': False,\n",
      " 'contamination': 0.1,\n",
      " 'max_features': 1.0,\n",
      " 'max_samples': 'auto',\n",
      " 'n_estimators': 100,\n",
      " 'n_jobs': -1,\n",
      " 'random_state': 42,\n",
      " 'verbose': 0}\n"
     ]
    }
   ],
   "source": [
    "# Access the default hyperparameters without tuning\n",
    "baseline_model_param = model.get_params()\n",
    "pprint.pp(baseline_model_param)"
   ]
  },
  {
   "cell_type": "markdown",
   "id": "821ea3fd-2efa-41e5-a6c8-29f3126b2b5b",
   "metadata": {},
   "source": [
    "# Probabilistic outliers prediction"
   ]
  },
  {
   "cell_type": "markdown",
   "id": "f8098c49-7904-4906-b9df-8675f7921d8e",
   "metadata": {},
   "source": [
    "## Predict anomalous cycles"
   ]
  },
  {
   "cell_type": "code",
   "execution_count": 23,
   "id": "ecc54115-a780-4c66-a267-26e9958163f9",
   "metadata": {},
   "outputs": [
    {
     "data": {
      "text/html": [
       "<div>\n",
       "<style scoped>\n",
       "    .dataframe tbody tr th:only-of-type {\n",
       "        vertical-align: middle;\n",
       "    }\n",
       "\n",
       "    .dataframe tbody tr th {\n",
       "        vertical-align: top;\n",
       "    }\n",
       "\n",
       "    .dataframe thead th {\n",
       "        text-align: right;\n",
       "    }\n",
       "</style>\n",
       "<table border=\"1\" class=\"dataframe\">\n",
       "  <thead>\n",
       "    <tr style=\"text-align: right;\">\n",
       "      <th></th>\n",
       "      <th>max_diff_dV</th>\n",
       "      <th>log_max_diff_dV</th>\n",
       "      <th>cycle_index</th>\n",
       "      <th>max_diff_dQ</th>\n",
       "      <th>log_max_diff_dQ</th>\n",
       "      <th>outlier_prob</th>\n",
       "    </tr>\n",
       "  </thead>\n",
       "  <tbody>\n",
       "    <tr>\n",
       "      <th>0</th>\n",
       "      <td>1.564151</td>\n",
       "      <td>0.447343</td>\n",
       "      <td>0.0</td>\n",
       "      <td>0.006388</td>\n",
       "      <td>-5.053343</td>\n",
       "      <td>0.897723</td>\n",
       "    </tr>\n",
       "    <tr>\n",
       "      <th>32</th>\n",
       "      <td>0.029726</td>\n",
       "      <td>-3.515733</td>\n",
       "      <td>32.0</td>\n",
       "      <td>0.006912</td>\n",
       "      <td>-4.974528</td>\n",
       "      <td>0.766055</td>\n",
       "    </tr>\n",
       "    <tr>\n",
       "      <th>40</th>\n",
       "      <td>2.612268</td>\n",
       "      <td>0.960219</td>\n",
       "      <td>40.0</td>\n",
       "      <td>0.006305</td>\n",
       "      <td>-5.066425</td>\n",
       "      <td>0.850132</td>\n",
       "    </tr>\n",
       "    <tr>\n",
       "      <th>147</th>\n",
       "      <td>0.029431</td>\n",
       "      <td>-3.525697</td>\n",
       "      <td>147.0</td>\n",
       "      <td>0.042814</td>\n",
       "      <td>-3.150895</td>\n",
       "      <td>0.996729</td>\n",
       "    </tr>\n",
       "    <tr>\n",
       "      <th>148</th>\n",
       "      <td>0.025238</td>\n",
       "      <td>-3.679404</td>\n",
       "      <td>148.0</td>\n",
       "      <td>0.042899</td>\n",
       "      <td>-3.148905</td>\n",
       "      <td>1.000000</td>\n",
       "    </tr>\n",
       "  </tbody>\n",
       "</table>\n",
       "</div>"
      ]
     },
     "metadata": {},
     "output_type": "display_data"
    }
   ],
   "source": [
    "df_outliers_pred = df_merge_features[\n",
    "    df_merge_features[\"cycle_index\"]\n",
    "    .isin(pred_outlier_indices)].copy()\n",
    "\n",
    "df_outliers_pred[\"outlier_prob\"] = pred_outlier_score\n",
    "df_outliers_pred"
   ]
  },
  {
   "cell_type": "markdown",
   "id": "6b6e8488-dc82-40f0-889f-0d671f1a8ce5",
   "metadata": {},
   "source": [
    "## Probabilistic anomaly score map"
   ]
  },
  {
   "cell_type": "code",
   "execution_count": 24,
   "id": "d921815c-f648-4028-8628-2ae933ece7bd",
   "metadata": {},
   "outputs": [
    {
     "data": {
      "image/png": "[encoded data removed]",
      "text/plain": [
       "<Figure size 800x500 with 2 Axes>"
      ]
     },
     "metadata": {},
     "output_type": "display_data"
    }
   ],
   "source": [
    "axplot = runner.predict_anomaly_score_map(\n",
    "    selected_model=model,\n",
    "    model_name=\"Isolation Forest\",\n",
    "    xoutliers=df_outliers_pred[\"log_max_diff_dQ\"],\n",
    "    youtliers=df_outliers_pred[\"log_max_diff_dV\"],\n",
    "    pred_outliers_index=pred_outlier_indices,\n",
    "    threshold=0.7\n",
    ")"
   ]
  },
  {
   "cell_type": "markdown",
   "id": "beaed71e-f9b4-462e-bb52-368ddb96416b",
   "metadata": {},
   "source": [
    "## Histogram of the anomaly score"
   ]
  },
  {
   "cell_type": "code",
   "execution_count": 25,
   "id": "ba0a348d-e9be-47a0-8670-ccf4fb97b1f8",
   "metadata": {},
   "outputs": [
    {
     "data": {
      "image/png": "[encoded data removed]",
      "text/plain": [
       "<Figure size 1000x600 with 1 Axes>"
      ]
     },
     "metadata": {},
     "output_type": "display_data"
    }
   ],
   "source": [
    "mpl.rcParams.update(mpl.rcParamsDefault)\n",
    "rcParams[\"text.usetex\"] = True\n",
    "\n",
    "outlier_score = model.decision_function(Xdata)\n",
    "\n",
    "fig, ax = plt.subplots(figsize=(10,6))\n",
    "\n",
    "ax.hist(\n",
    "    outlier_score,\n",
    "    color=\"skyblue\",\n",
    "    edgecolor=\"black\",\n",
    "    bins=25)\n",
    "\n",
    "ax.grid(\n",
    "    color=\"grey\",\n",
    "    linestyle=\"-\",\n",
    "    linewidth=0.25,\n",
    "    alpha=0.7)\n",
    "\n",
    "plt.show()"
   ]
  },
  {
   "cell_type": "code",
   "execution_count": 26,
   "id": "033f6ddc-b94d-4c60-be99-51b643558711",
   "metadata": {},
   "outputs": [
    {
     "data": {
      "text/plain": [
       "np.float64(9.917061746453348e-18)"
      ]
     },
     "execution_count": 26,
     "metadata": {},
     "output_type": "execute_result"
    }
   ],
   "source": [
    "# threshold without hyperparameter tuning\n",
    "model.threshold_"
   ]
  },
  {
   "cell_type": "markdown",
   "id": "c2910ae8-acb8-4918-990f-9584fc992207",
   "metadata": {},
   "source": [
    "# Model performance evaluation"
   ]
  },
  {
   "cell_type": "code",
   "execution_count": 27,
   "id": "a978ae9b-75e2-460d-87cb-a794d1b87959",
   "metadata": {},
   "outputs": [
    {
     "data": {
      "text/html": [
       "<div>\n",
       "<style scoped>\n",
       "    .dataframe tbody tr th:only-of-type {\n",
       "        vertical-align: middle;\n",
       "    }\n",
       "\n",
       "    .dataframe tbody tr th {\n",
       "        vertical-align: top;\n",
       "    }\n",
       "\n",
       "    .dataframe thead th {\n",
       "        text-align: right;\n",
       "    }\n",
       "</style>\n",
       "<table border=\"1\" class=\"dataframe\">\n",
       "  <thead>\n",
       "    <tr style=\"text-align: right;\">\n",
       "      <th></th>\n",
       "      <th>cycle_index</th>\n",
       "      <th>true_outlier</th>\n",
       "      <th>pred_outlier</th>\n",
       "    </tr>\n",
       "  </thead>\n",
       "  <tbody>\n",
       "    <tr>\n",
       "      <th>0</th>\n",
       "      <td>0.0</td>\n",
       "      <td>1</td>\n",
       "      <td>1</td>\n",
       "    </tr>\n",
       "    <tr>\n",
       "      <th>1</th>\n",
       "      <td>1.0</td>\n",
       "      <td>0</td>\n",
       "      <td>0</td>\n",
       "    </tr>\n",
       "    <tr>\n",
       "      <th>2</th>\n",
       "      <td>2.0</td>\n",
       "      <td>0</td>\n",
       "      <td>0</td>\n",
       "    </tr>\n",
       "    <tr>\n",
       "      <th>3</th>\n",
       "      <td>3.0</td>\n",
       "      <td>0</td>\n",
       "      <td>0</td>\n",
       "    </tr>\n",
       "    <tr>\n",
       "      <th>4</th>\n",
       "      <td>4.0</td>\n",
       "      <td>0</td>\n",
       "      <td>0</td>\n",
       "    </tr>\n",
       "    <tr>\n",
       "      <th>...</th>\n",
       "      <td>...</td>\n",
       "      <td>...</td>\n",
       "      <td>...</td>\n",
       "    </tr>\n",
       "    <tr>\n",
       "      <th>687</th>\n",
       "      <td>687.0</td>\n",
       "      <td>0</td>\n",
       "      <td>0</td>\n",
       "    </tr>\n",
       "    <tr>\n",
       "      <th>688</th>\n",
       "      <td>688.0</td>\n",
       "      <td>0</td>\n",
       "      <td>0</td>\n",
       "    </tr>\n",
       "    <tr>\n",
       "      <th>689</th>\n",
       "      <td>689.0</td>\n",
       "      <td>0</td>\n",
       "      <td>0</td>\n",
       "    </tr>\n",
       "    <tr>\n",
       "      <th>690</th>\n",
       "      <td>690.0</td>\n",
       "      <td>0</td>\n",
       "      <td>0</td>\n",
       "    </tr>\n",
       "    <tr>\n",
       "      <th>691</th>\n",
       "      <td>691.0</td>\n",
       "      <td>0</td>\n",
       "      <td>0</td>\n",
       "    </tr>\n",
       "  </tbody>\n",
       "</table>\n",
       "<p>692 rows × 3 columns</p>\n",
       "</div>"
      ]
     },
     "metadata": {},
     "output_type": "display_data"
    }
   ],
   "source": [
    "# Compare predicted probabilistic outliers against true outliers \n",
    "# from the benchamrking dataset\n",
    "df_eval_outlier = modval.evaluate_pred_outliers(\n",
    "    df_benchmark=df_selected_cell,\n",
    "    outlier_cycle_index=pred_outlier_indices)\n",
    "df_eval_outlier"
   ]
  },
  {
   "cell_type": "markdown",
   "id": "699256f8-39eb-4866-b0ab-1c7af40aa444",
   "metadata": {},
   "source": [
    "## Confusion matrix"
   ]
  },
  {
   "cell_type": "code",
   "execution_count": 28,
   "id": "aeea6f10-4ad5-43dc-ae80-1a01a91ad235",
   "metadata": {},
   "outputs": [
    {
     "data": {
      "image/png": "[encoded data removed]",
      "text/plain": [
       "<Figure size 600x400 with 1 Axes>"
      ]
     },
     "metadata": {},
     "output_type": "display_data"
    }
   ],
   "source": [
    "axplot = modval.generate_confusion_matrix(\n",
    "    y_true=df_eval_outlier[\"true_outlier\"],\n",
    "    y_pred=df_eval_outlier[\"pred_outlier\"])\n",
    "\n",
    "axplot.set_title(\n",
    "    \"Isolation Forest\",\n",
    "    fontsize=16)\n",
    "\n",
    "output_fig_filename = (\n",
    "    \"conf_matrix_iforest_\" \n",
    "    + selected_cell_label \n",
    "    + \".png\")\n",
    "\n",
    "fig_output_path = (\n",
    "    selected_cell_artifacts_dir\n",
    "    .joinpath(output_fig_filename))\n",
    "\n",
    "plt.savefig(\n",
    "    fig_output_path,\n",
    "    dpi=600,\n",
    "    bbox_inches=\"tight\")\n",
    "\n",
    "plt.show()"
   ]
  },
  {
   "cell_type": "markdown",
   "id": "65d5f945-dc1b-4f0a-a627-ca49dd3f3ac7",
   "metadata": {},
   "source": [
    "## Evaluation metrics\n",
    "\n",
    "In this study, we use five different metrics to evaluate the model performance:\n",
    "\n",
    "* Accuracy\n",
    "* Precision\n",
    "* Recall\n",
    "* F1-score\n",
    "* Matthew Correlation Coefficient (MCC)\n",
    "\n",
    "$$\n",
    "\\textrm{Accuracy} = \\frac{\\textrm{TP} + \\textrm{TN}}{\\textrm{Total prediction}}\n",
    "$$\n",
    "\n",
    "$$\n",
    "\\textrm{Precision} = \\frac{\\textrm{TP}}{\\textrm{TP + FP}}\n",
    "$$\n",
    "\n",
    "$$\n",
    "\\textrm{Recall} = \\frac{\\textrm{TP}}{\\textrm{TP + FN}}\n",
    "$$\n",
    "\n",
    "$$\n",
    "\\textrm{F1-score} = \\frac{2(\\textrm{Precision}\\times \\textrm{Recall})}{\\textrm{Precision} + \\textrm{Recall}}\n",
    "$$\n",
    "\n",
    "$$\n",
    "\\textrm{MCC} = \\frac{TP \\times TN - FP \\times FN}{\\sqrt{(TP + FP)(TP + FN)(TN + FP)(TN+FN)}}\n",
    "$$\n",
    "\n",
    "$$\n",
    "\\begin{align}\n",
    "\\textrm{TP} &: \\textrm{True Positive} \\\\\n",
    "\\textrm{TN} &: \\textrm{True Negative} \\\\\n",
    "\\textrm{FP} &: \\textrm{False Positive} \\\\\n",
    "\\textrm{FN} &: \\textrm{False Negative} \\\\\n",
    "\\end{align}\n",
    "$$"
   ]
  },
  {
   "cell_type": "code",
   "execution_count": 29,
   "id": "41c1ae70-bac9-47fa-98d3-9d1cee61461a",
   "metadata": {},
   "outputs": [
    {
     "name": "stdout",
     "output_type": "stream",
     "text": [
      "Accuracy: 0.9985549132947977\n",
      "Precision: 0.8\n",
      "Recall: 1.0\n",
      "F1-score: 0.8888888888888888\n",
      "MCC-score: 0.8937769348681613\n",
      "****************************************************************************************************\n"
     ]
    },
    {
     "data": {
      "text/html": [
       "<div>\n",
       "<style scoped>\n",
       "    .dataframe tbody tr th:only-of-type {\n",
       "        vertical-align: middle;\n",
       "    }\n",
       "\n",
       "    .dataframe tbody tr th {\n",
       "        vertical-align: top;\n",
       "    }\n",
       "\n",
       "    .dataframe thead th {\n",
       "        text-align: right;\n",
       "    }\n",
       "</style>\n",
       "<table border=\"1\" class=\"dataframe\">\n",
       "  <thead>\n",
       "    <tr style=\"text-align: right;\">\n",
       "      <th></th>\n",
       "      <th>ml_model</th>\n",
       "      <th>cell_index</th>\n",
       "      <th>accuracy</th>\n",
       "      <th>precision</th>\n",
       "      <th>recall</th>\n",
       "      <th>f1_score</th>\n",
       "      <th>mcc_score</th>\n",
       "    </tr>\n",
       "  </thead>\n",
       "  <tbody>\n",
       "    <tr>\n",
       "      <th>0</th>\n",
       "      <td>iforest</td>\n",
       "      <td>2017-05-12_5_4C-70per_3C_CH17</td>\n",
       "      <td>0.998555</td>\n",
       "      <td>0.8</td>\n",
       "      <td>1.0</td>\n",
       "      <td>0.888889</td>\n",
       "      <td>0.893777</td>\n",
       "    </tr>\n",
       "  </tbody>\n",
       "</table>\n",
       "</div>"
      ]
     },
     "metadata": {},
     "output_type": "display_data"
    }
   ],
   "source": [
    "df_current_eval_metrics = modval.eval_model_performance(\n",
    "    model_name=\"iforest\",\n",
    "    selected_cell_label=selected_cell_label,\n",
    "    df_eval_outliers=df_eval_outlier)\n",
    "\n",
    "df_current_eval_metrics"
   ]
  },
  {
   "cell_type": "code",
   "execution_count": 30,
   "id": "985279e8-1d53-44c6-92dc-eb2bee508be3",
   "metadata": {},
   "outputs": [
    {
     "name": "stdout",
     "output_type": "stream",
     "text": [
      "\u001b[38;21mIs this metric already saved in the CSV output?\n",
      "\u001b[38;21mTrue\n",
      "\u001b[38;21m----------------------------------------------------------------------\n",
      "\u001b[38;21mIs this cell already saved in the CSV output?\n",
      "\u001b[38;21mTrue\n",
      "\u001b[38;21m----------------------------------------------------------------------\n",
      "\u001b[38;21m2017-05-12_5_4C-70per_3C_CH17 has been evaluated in the CSV output!\n",
      "\u001b[38;21m----------------------------------------------------------------------\n"
     ]
    },
    {
     "data": {
      "text/html": [
       "<div>\n",
       "<style scoped>\n",
       "    .dataframe tbody tr th:only-of-type {\n",
       "        vertical-align: middle;\n",
       "    }\n",
       "\n",
       "    .dataframe tbody tr th {\n",
       "        vertical-align: top;\n",
       "    }\n",
       "\n",
       "    .dataframe thead th {\n",
       "        text-align: right;\n",
       "    }\n",
       "</style>\n",
       "<table border=\"1\" class=\"dataframe\">\n",
       "  <thead>\n",
       "    <tr style=\"text-align: right;\">\n",
       "      <th></th>\n",
       "      <th>ml_model</th>\n",
       "      <th>cell_index</th>\n",
       "      <th>accuracy</th>\n",
       "      <th>precision</th>\n",
       "      <th>recall</th>\n",
       "      <th>f1_score</th>\n",
       "      <th>mcc_score</th>\n",
       "    </tr>\n",
       "  </thead>\n",
       "  <tbody>\n",
       "    <tr>\n",
       "      <th>0</th>\n",
       "      <td>iforest</td>\n",
       "      <td>2017-05-12_5_4C-70per_3C_CH17</td>\n",
       "      <td>0.998555</td>\n",
       "      <td>0.8</td>\n",
       "      <td>1</td>\n",
       "      <td>0.888889</td>\n",
       "      <td>0.893777</td>\n",
       "    </tr>\n",
       "  </tbody>\n",
       "</table>\n",
       "</div>"
      ]
     },
     "metadata": {},
     "output_type": "display_data"
    }
   ],
   "source": [
    "# Export current metrics to CSV\n",
    "metrics_eval_filepath =  Path.cwd().joinpath(\n",
    "    \"eval_metrics_no_hp.csv\")\n",
    "\n",
    "hp.export_current_model_metrics(\n",
    "    model_name=\"iforest\",\n",
    "    selected_cell_label=selected_cell_label,\n",
    "    df_current_eval_metrics=df_current_eval_metrics,\n",
    "    export_csv_filepath=metrics_eval_filepath)"
   ]
  }
 ],
 "metadata": {
  "kernelspec": {
   "display_name": "Python 3 (ipykernel)",
   "language": "python",
   "name": "python3"
  },
  "language_info": {
   "codemirror_mode": {
    "name": "ipython",
    "version": 3
   },
   "file_extension": ".py",
   "mimetype": "text/x-python",
   "name": "python",
   "nbconvert_exporter": "python",
   "pygments_lexer": "ipython3",
   "version": "3.12.11"
  }
 },
 "nbformat": 4,
 "nbformat_minor": 5
}
